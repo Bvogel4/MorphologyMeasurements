{
 "cells": [
  {
   "cell_type": "code",
   "execution_count": 1,
   "id": "3454221d-f914-4059-b0fe-0632885fe0de",
   "metadata": {},
   "outputs": [
    {
     "ename": "AttributeError",
     "evalue": "'str' object has no attribute '_filename'",
     "output_type": "error",
     "traceback": [
      "\u001b[0;31m---------------------------------------------------------------------------\u001b[0m",
      "\u001b[0;31mAttributeError\u001b[0m                            Traceback (most recent call last)",
      "Cell \u001b[0;32mIn[1], line 32\u001b[0m\n\u001b[1;32m     29\u001b[0m base_filename \u001b[38;5;241m=\u001b[39m \u001b[38;5;124m'\u001b[39m\u001b[38;5;124mdata/akaxia/storm/storm.cosmo25cmbsi2s50v35.4096/storm.cosmo25cmbsi2s50v35.4096.004096.z0.000\u001b[39m\u001b[38;5;124m'\u001b[39m\n\u001b[1;32m     31\u001b[0m \u001b[38;5;66;03m# Load data\u001b[39;00m\n\u001b[0;32m---> 32\u001b[0m halos, dm_particles \u001b[38;5;241m=\u001b[39m \u001b[43mload_ahf_data\u001b[49m\u001b[43m(\u001b[49m\u001b[43mbase_filename\u001b[49m\u001b[43m)\u001b[49m\n\u001b[1;32m     34\u001b[0m \u001b[38;5;66;03m# Define a mass threshold for heavy dark matter particles (example: mass > 1e10)\u001b[39;00m\n\u001b[1;32m     35\u001b[0m mass_threshold \u001b[38;5;241m=\u001b[39m \u001b[38;5;241m1e4\u001b[39m\n",
      "Cell \u001b[0;32mIn[1], line 5\u001b[0m, in \u001b[0;36mload_ahf_data\u001b[0;34m(base_filename)\u001b[0m\n\u001b[1;32m      3\u001b[0m \u001b[38;5;28;01mdef\u001b[39;00m \u001b[38;5;21mload_ahf_data\u001b[39m(base_filename):\n\u001b[1;32m      4\u001b[0m     \u001b[38;5;66;03m# Load halos\u001b[39;00m\n\u001b[0;32m----> 5\u001b[0m     halos \u001b[38;5;241m=\u001b[39m \u001b[43mpynbody\u001b[49m\u001b[38;5;241;43m.\u001b[39;49m\u001b[43mhalo\u001b[49m\u001b[38;5;241;43m.\u001b[39;49m\u001b[43mAHFCatalogue\u001b[49m\u001b[43m(\u001b[49m\u001b[43mbase_filename\u001b[49m\u001b[43m)\u001b[49m\n\u001b[1;32m      7\u001b[0m     \u001b[38;5;66;03m# Load particle data\u001b[39;00m\n\u001b[1;32m      8\u001b[0m     sim \u001b[38;5;241m=\u001b[39m pynbody\u001b[38;5;241m.\u001b[39mload(base_filename \u001b[38;5;241m+\u001b[39m \u001b[38;5;124m'\u001b[39m\u001b[38;5;124m.AHF_particles\u001b[39m\u001b[38;5;124m'\u001b[39m)  \u001b[38;5;66;03m# Adjust as necessary if different file handling is needed\u001b[39;00m\n",
      "File \u001b[0;32m~/miniconda3/envs/pynbody/lib/python3.9/site-packages/pynbody/halo/ahf.py:57\u001b[0m, in \u001b[0;36mAHFCatalogue.__init__\u001b[0;34m(self, sim, make_grp, get_all_parts, use_iord, ahf_basename, dosort, only_stat, write_fpos, **kwargs)\u001b[0m\n\u001b[1;32m     21\u001b[0m \u001b[38;5;250m\u001b[39m\u001b[38;5;124;03m\"\"\"Initialize an AHFCatalogue.\u001b[39;00m\n\u001b[1;32m     22\u001b[0m \n\u001b[1;32m     23\u001b[0m \u001b[38;5;124;03m**kwargs** :\u001b[39;00m\n\u001b[0;32m   (...)\u001b[0m\n\u001b[1;32m     53\u001b[0m \n\u001b[1;32m     54\u001b[0m \u001b[38;5;124;03m\"\"\"\u001b[39;00m\n\u001b[1;32m     56\u001b[0m \u001b[38;5;28;01mimport\u001b[39;00m \u001b[38;5;21;01mos\u001b[39;00m\u001b[38;5;21;01m.\u001b[39;00m\u001b[38;5;21;01mpath\u001b[39;00m\n\u001b[0;32m---> 57\u001b[0m \u001b[38;5;28;01mif\u001b[39;00m \u001b[38;5;129;01mnot\u001b[39;00m \u001b[38;5;28;43mself\u001b[39;49m\u001b[38;5;241;43m.\u001b[39;49m\u001b[43m_can_load\u001b[49m\u001b[43m(\u001b[49m\u001b[43msim\u001b[49m\u001b[43m,\u001b[49m\u001b[43m \u001b[49m\u001b[43mahf_basename\u001b[49m\u001b[43m)\u001b[49m:\n\u001b[1;32m     58\u001b[0m     \u001b[38;5;28mself\u001b[39m\u001b[38;5;241m.\u001b[39m_run_ahf(sim)\n\u001b[1;32m     60\u001b[0m HaloCatalogue\u001b[38;5;241m.\u001b[39m\u001b[38;5;21m__init__\u001b[39m(\u001b[38;5;28mself\u001b[39m, sim)\n",
      "File \u001b[0;32m~/miniconda3/envs/pynbody/lib/python3.9/site-packages/pynbody/halo/ahf.py:672\u001b[0m, in \u001b[0;36mAHFCatalogue._can_load\u001b[0;34m(cls, sim, ahf_basename, **kwargs)\u001b[0m\n\u001b[1;32m    670\u001b[0m \u001b[38;5;129m@classmethod\u001b[39m\n\u001b[1;32m    671\u001b[0m \u001b[38;5;28;01mdef\u001b[39;00m \u001b[38;5;21m_can_load\u001b[39m(\u001b[38;5;28mcls\u001b[39m, sim, ahf_basename\u001b[38;5;241m=\u001b[39m\u001b[38;5;28;01mNone\u001b[39;00m, \u001b[38;5;241m*\u001b[39m\u001b[38;5;241m*\u001b[39mkwargs):\n\u001b[0;32m--> 672\u001b[0m     candidates \u001b[38;5;241m=\u001b[39m \u001b[38;5;28;43mcls\u001b[39;49m\u001b[38;5;241;43m.\u001b[39;49m\u001b[43m_list_possible_candidates\u001b[49m\u001b[43m(\u001b[49m\u001b[43msim\u001b[49m\u001b[43m,\u001b[49m\u001b[43m \u001b[49m\u001b[43mahf_basename\u001b[49m\u001b[43m)\u001b[49m\n\u001b[1;32m    673\u001b[0m     number_ahf_file_candidates \u001b[38;5;241m=\u001b[39m \u001b[38;5;28mlen\u001b[39m(candidates)\n\u001b[1;32m    674\u001b[0m     \u001b[38;5;28;01mreturn\u001b[39;00m number_ahf_file_candidates \u001b[38;5;241m>\u001b[39m \u001b[38;5;241m0\u001b[39m\n",
      "File \u001b[0;32m~/miniconda3/envs/pynbody/lib/python3.9/site-packages/pynbody/halo/ahf.py:659\u001b[0m, in \u001b[0;36mAHFCatalogue._list_possible_candidates\u001b[0;34m(sim, ahf_basename)\u001b[0m\n\u001b[1;32m    657\u001b[0m     candidates \u001b[38;5;241m=\u001b[39m glob\u001b[38;5;241m.\u001b[39mglob(\u001b[38;5;124mf\u001b[39m\u001b[38;5;124m\"\u001b[39m\u001b[38;5;132;01m{\u001b[39;00mahf_basename\u001b[38;5;132;01m}\u001b[39;00m\u001b[38;5;124m*particles*\u001b[39m\u001b[38;5;124m\"\u001b[39m)\n\u001b[1;32m    658\u001b[0m \u001b[38;5;28;01melse\u001b[39;00m:\n\u001b[0;32m--> 659\u001b[0m     candidates \u001b[38;5;241m=\u001b[39m \u001b[38;5;28mset\u001b[39m(glob\u001b[38;5;241m.\u001b[39mglob(\u001b[38;5;124mf\u001b[39m\u001b[38;5;124m\"\u001b[39m\u001b[38;5;132;01m{\u001b[39;00msim\u001b[38;5;241m.\u001b[39m_filename\u001b[38;5;132;01m}\u001b[39;00m\u001b[38;5;124m*z*particles*\u001b[39m\u001b[38;5;124m\"\u001b[39m))\n\u001b[1;32m    660\u001b[0m     \u001b[38;5;66;03m# use a set to ensure that no duplicates can be produced\u001b[39;00m\n\u001b[1;32m    661\u001b[0m     \u001b[38;5;66;03m# This could arise in an edge case where _filename is a directory\u001b[39;00m\n\u001b[1;32m    662\u001b[0m     \u001b[38;5;66;03m# and having the \"/\" at the end of it would lead to a first detection here\u001b[39;00m\n\u001b[1;32m    663\u001b[0m     \u001b[38;5;66;03m# and a second one again below\u001b[39;00m\n\u001b[1;32m    665\u001b[0m     \u001b[38;5;28;01mif\u001b[39;00m os\u001b[38;5;241m.\u001b[39mpath\u001b[38;5;241m.\u001b[39misdir(sim\u001b[38;5;241m.\u001b[39m_filename):\n",
      "\u001b[0;31mAttributeError\u001b[0m: 'str' object has no attribute '_filename'"
     ]
    }
   ],
   "source": [
    "import pynbody\n",
    "\n",
    "def load_ahf_data(base_filename):\n",
    "    # Load halos\n",
    "    halos = pynbody.halo.AHFCatalogue(base_filename)\n",
    "\n",
    "    # Load particle data\n",
    "    sim = pynbody.load(base_filename + '.AHF_particles')  # Adjust as necessary if different file handling is needed\n",
    "    sim.physical_units()\n",
    "\n",
    "    # Filter for dark matter particles (type == 1 for dark matter in many simulations)\n",
    "    dm_particles = sim.dm\n",
    "\n",
    "    return halos, dm_particles\n",
    "\n",
    "def find_heavy_contaminated_halos(halos, dm_particles, mass_threshold):\n",
    "    # Identify heavy DM particles\n",
    "    heavy_dm = dm_particles[dm_particles['mass'] > mass_threshold]\n",
    "\n",
    "    # Check which halos contain these heavy DM particles\n",
    "    contaminated_halos = []\n",
    "    for halo in halos:\n",
    "        if any(p in halo for p in heavy_dm):\n",
    "            contaminated_halos.append(halo)\n",
    "\n",
    "    return contaminated_halos\n",
    "\n",
    "# Base file name without the extension\n",
    "base_filename = '/data/akaxia/storm/storm.cosmo25cmbsi2s50v35.4096/storm.cosmo25cmbsi2s50v35.4096.004096.z0.000'\n",
    "\n",
    "# Load data\n",
    "halos, dm_particles = load_ahf_data(base_filename)\n",
    "\n",
    "# Define a mass threshold for heavy dark matter particles (example: mass > 1e10)\n",
    "mass_threshold = 1e4\n",
    "\n",
    "# Find halos heavily contaminated with dark matter particles\n",
    "contaminated_halos = find_heavy_contaminated_halos(halos, dm_particles, mass_threshold)\n",
    "\n",
    "# Output results\n",
    "print(\"Number of contaminated halos:\", len(contaminated_halos))\n",
    "for halo in contaminated_halos:\n",
    "    print(\"Halo ID:\", halo.halo_id, \"Number of particles:\", len(halo))\n"
   ]
  },
  {
   "cell_type": "code",
   "execution_count": null,
   "id": "9c323016-0357-4a97-8414-f0a8758db35e",
   "metadata": {},
   "outputs": [],
   "source": []
  }
 ],
 "metadata": {
  "kernelspec": {
   "display_name": "Python 3 (ipykernel)",
   "language": "python",
   "name": "python3"
  },
  "language_info": {
   "codemirror_mode": {
    "name": "ipython",
    "version": 3
   },
   "file_extension": ".py",
   "mimetype": "text/x-python",
   "name": "python",
   "nbconvert_exporter": "python",
   "pygments_lexer": "ipython3",
   "version": "3.9.18"
  }
 },
 "nbformat": 4,
 "nbformat_minor": 5
}
