{
 "cells": [
  {
   "cell_type": "code",
   "execution_count": 5,
   "id": "initial_id",
   "metadata": {
    "ExecuteTime": {
     "end_time": "2024-06-17T21:22:24.207259Z",
     "start_time": "2024-06-17T21:22:24.202962Z"
    }
   },
   "outputs": [],
   "source": [
    "SIDM_merians_path = '/data/akaxia/rzooms/'\n",
    "\n",
    "#scan through all subfolders in the Marvelous_merians_path and add them to the dictionary with just halo 1 in the both halos and goodhalos\n",
    "#save the resulting dictionary to a file rdz_sims.py\n",
    "#limit the files to ones that end in 004096\n",
    "#write function to scan through the files and add them to the dictionary\n",
    "import os\n",
    "import re\n",
    "import numpy as np\n",
    "import sys\n",
    "def scan_files(path):\n",
    "    Sims = {}\n",
    "    for root, dirs, files in os.walk(path):\n",
    "        for filename in files:\n",
    "            full_path = os.path.join(root, filename)\n",
    "            match = re.search(r'(r\\d+\\.romulus25si2s50v35\\.3072g1HsbBH/)+r\\d+\\.romulus25si2s50v35\\.3072g1HsbBH\\.004096$', full_path)\n",
    "            if match:\n",
    "                name = re.search(r'r\\d+', filename).group()\n",
    "                print(name)\n",
    "                Sims[name] = {\n",
    "                    'path': full_path,\n",
    "                    'halos': [1],\n",
    "                    'goodhalos': [1]\n",
    "                }\n",
    "    return Sims\n",
    "\n",
    "\n",
    "\n",
    "Sims = scan_files(SIDM_merians_path)\n",
    "#sort the dictionary by the number after \n",
    "Sims = dict(sorted(Sims.items(), key=lambda item: int(item[0][1:])))\n",
    "\n",
    "\n",
    "\n",
    "\n",
    "\n",
    "\n",
    "print('scanning complete, saving dictionary to file MerianSIDM.py')\n",
    "#save the dictionary to a file  as a raw python dictionary\n",
    "#add line breaks between the dictionary entries and subentries\n",
    "\n",
    "#overwrite the file if it exists\n",
    "with open('SimInfoDicts/MeriansSIDM.py', 'w') as f:\n",
    "    f.write('Sims = {\\n')\n",
    "    for key, value in Sims.items():\n",
    "        f.write(f'    \"{key}\": {value},\\n')\n",
    "    f.write('}\\n')\n",
    "    \n",
    "    \n",
    "    \n"
   ]
  },
  {
   "cell_type": "code",
   "execution_count": null,
   "id": "7e954bd9f1a2ef53",
   "metadata": {},
   "outputs": [],
   "source": []
  }
 ],
 "metadata": {
  "kernelspec": {
   "display_name": "Python 3",
   "language": "python",
   "name": "python3"
  },
  "language_info": {
   "codemirror_mode": {
    "name": "ipython",
    "version": 2
   },
   "file_extension": ".py",
   "mimetype": "text/x-python",
   "name": "python",
   "nbconvert_exporter": "python",
   "pygments_lexer": "ipython2",
   "version": "2.7.6"
  }
 },
 "nbformat": 4,
 "nbformat_minor": 5
}
