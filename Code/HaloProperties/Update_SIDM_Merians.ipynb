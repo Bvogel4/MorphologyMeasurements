{
 "cells": [
  {
   "cell_type": "code",
   "execution_count": 2,
   "id": "d6181b964bd9c31b",
   "metadata": {
    "ExecuteTime": {
     "end_time": "2025-01-22T21:42:13.970411Z",
     "start_time": "2025-01-22T21:41:48.827725Z"
    }
   },
   "outputs": [
    {
     "name": "stdout",
     "output_type": "stream",
     "text": [
      "r634\n",
      "r492\n",
      "r468\n",
      "r488\n",
      "r544\n",
      "r597\n",
      "r523\n",
      "r618\n",
      "r568\n",
      "r556\n"
     ]
    }
   ],
   "source": [
    "SIDM_merians_path = '/data/akaxia/rzooms/'\n",
    "\n",
    "#scan through all subfolders in the Marvelous_merians_path and add them to the dictionary with just halo 1 in the both halos and goodhalos\n",
    "#save the resulting dictionary to a file rdz_sims.py\n",
    "#limit the files to ones that end in 004096\n",
    "#write function to scan through the files and add them to the dictionary\n",
    "import os\n",
    "import re\n",
    "import numpy as np\n",
    "import sys\n",
    "def scan_files(path):\n",
    "    Sims = {}\n",
    "    for root, dirs, files in os.walk(path):\n",
    "        for filename in files:\n",
    "            full_path = os.path.join(root, filename)\n",
    "            match = re.search(r'(r\\d+\\.romulus25si2s50v35\\.3072g1HsbBH/)+r\\d+\\.romulus25si2s50v35\\.3072g1HsbBH\\.004096$', full_path)\n",
    "            if match:\n",
    "                name = re.search(r'r\\d+', filename).group()\n",
    "                print(name)\n",
    "                Sims[name] = {\n",
    "                    'path': full_path,\n",
    "                    'halos': [1],\n",
    "                    'goodhalos': [1]\n",
    "                }\n",
    "    return Sims\n",
    "\n",
    "\n",
    "\n",
    "Sims = scan_files(SIDM_merians_path)\n",
    "#sort the dictionary by the number after \n",
    "Sims = dict(sorted(Sims.items(), key=lambda item: int(item[0][1:])))\n",
    "\n"
   ]
  },
  {
   "cell_type": "code",
   "execution_count": 3,
   "id": "d72008783e6bda27",
   "metadata": {
    "ExecuteTime": {
     "end_time": "2025-01-22T21:42:14.008903Z",
     "start_time": "2025-01-22T21:42:14.005303Z"
    }
   },
   "outputs": [
    {
     "name": "stdout",
     "output_type": "stream",
     "text": [
      "{'r468': {'path': '/data/akaxia/rzooms/r468.romulus25si2s50v35.3072g1HsbBH/r468.romulus25si2s50v35.3072g1HsbBH.004096', 'halos': [1], 'goodhalos': [1]}, 'r488': {'path': '/data/akaxia/rzooms/r488.romulus25si2s50v35.3072g1HsbBH/r488.romulus25si2s50v35.3072g1HsbBH.004096', 'halos': [1], 'goodhalos': [1]}, 'r492': {'path': '/data/akaxia/rzooms/r492.romulus25si2s50v35.3072g1HsbBH/r492.romulus25si2s50v35.3072g1HsbBH.004096', 'halos': [1], 'goodhalos': [1]}, 'r523': {'path': '/data/akaxia/rzooms/r523.romulus25si2s50v35.3072g1HsbBH/r523.romulus25si2s50v35.3072g1HsbBH.004096', 'halos': [1], 'goodhalos': [1]}, 'r544': {'path': '/data/akaxia/rzooms/r544.romulus25si2s50v35.3072g1HsbBH/r544.romulus25si2s50v35.3072g1HsbBH.004096', 'halos': [1], 'goodhalos': [1]}, 'r556': {'path': '/data/akaxia/rzooms/r556.romulus25si2s50v35.3072g1HsbBH/r556.romulus25si2s50v35.3072g1HsbBH.004096', 'halos': [1], 'goodhalos': [1]}, 'r568': {'path': '/data/akaxia/rzooms/r568.romulus25si2s50v35.3072g1HsbBH/r568.romulus25si2s50v35.3072g1HsbBH.004096', 'halos': [1], 'goodhalos': [1]}, 'r597': {'path': '/data/akaxia/rzooms/r597.romulus25si2s50v35.3072g1HsbBH/r597.romulus25si2s50v35.3072g1HsbBH.004096', 'halos': [1], 'goodhalos': [1]}, 'r618': {'path': '/data/akaxia/rzooms/r618.romulus25si2s50v35.3072g1HsbBH/r618.romulus25si2s50v35.3072g1HsbBH.004096', 'halos': [1], 'goodhalos': [1]}, 'r634': {'path': '/data/akaxia/rzooms/r634.romulus25si2s50v35.3072g1HsbBH/r634.romulus25si2s50v35.3072g1HsbBH.004096', 'halos': [1], 'goodhalos': [1]}}\n"
     ]
    }
   ],
   "source": [
    "print(Sims)"
   ]
  },
  {
   "cell_type": "code",
   "execution_count": 5,
   "id": "initial_id",
   "metadata": {
    "ExecuteTime": {
     "end_time": "2024-06-17T21:22:24.207259Z",
     "start_time": "2024-06-17T21:22:24.202962Z"
    }
   },
   "outputs": [],
   "source": [
    "\n",
    "print('scanning complete, saving dictionary to file MerianSIDM.py')\n",
    "#save the dictionary to a file  as a raw python dictionary\n",
    "#add line breaks between the dictionary entries and subentries\n",
    "\n",
    "#overwrite the file if it exists\n",
    "with open('SimInfoDicts/MeriansSIDM.py', 'w') as f:\n",
    "    f.write('Sims = {\\n')\n",
    "    for key, value in Sims.items():\n",
    "        f.write(f'    \"{key}\": {value},\\n')\n",
    "    f.write('}\\n')\n",
    "    \n",
    "    \n",
    "    \n"
   ]
  },
  {
   "cell_type": "code",
   "execution_count": 1,
   "id": "27379b2ef2511aa3",
   "metadata": {
    "ExecuteTime": {
     "end_time": "2024-12-17T17:56:25.591982Z",
     "start_time": "2024-12-17T17:56:06.845389Z"
    }
   },
   "outputs": [
    {
     "name": "stdout",
     "output_type": "stream",
     "text": [
      "r431\n",
      "r468\n",
      "r488\n",
      "r492\n",
      "r502\n",
      "r515\n",
      "r523\n",
      "r618\n",
      "r544\n",
      "r556\n",
      "r568\n",
      "r442\n",
      "r571\n",
      "r597\n",
      "r613\n",
      "r614\n",
      "{'r431': {'path': '/data/akaxia/rzooms/r431.romulus25si2s50v35.3072/r431.romulus25si2s50v35.3072.004096', 'halos': [1], 'goodhalos': [1]}, 'r442': {'path': '/data/akaxia/rzooms/r442.romulus25si2s50v35.3072/r442.romulus25si2s50v35.3072.004096', 'halos': [1], 'goodhalos': [1]}, 'r468': {'path': '/data/akaxia/rzooms/r468.romulus25si2s50v35.3072/r468.romulus25si2s50v35.3072.004096', 'halos': [1], 'goodhalos': [1]}, 'r488': {'path': '/data/akaxia/rzooms/r488.romulus25si2s50v35.3072/r488.romulus25si2s50v35.3072.004096', 'halos': [1], 'goodhalos': [1]}, 'r492': {'path': '/data/akaxia/rzooms/r492.romulus25si2s50v35.3072/r492.romulus25si2s50v35.3072.004096', 'halos': [1], 'goodhalos': [1]}, 'r502': {'path': '/data/akaxia/rzooms/r502.romulus25si2s50v35.3072/r502.romulus25si2s50v35.3072.004096', 'halos': [1], 'goodhalos': [1]}, 'r515': {'path': '/data/akaxia/rzooms/r515.romulus25si2s50v35.3072/r515.romulus25si2s50v35.3072.004096', 'halos': [1], 'goodhalos': [1]}, 'r523': {'path': '/data/akaxia/rzooms/r523.romulus25si2s50v35.3072/r523.romulus25si2s50v35.3072.004096', 'halos': [1], 'goodhalos': [1]}, 'r544': {'path': '/data/akaxia/rzooms/r544.romulus25si2s50v35.3072/r544.romulus25si2s50v35.3072.004096', 'halos': [1], 'goodhalos': [1]}, 'r556': {'path': '/data/akaxia/rzooms/r556.romulus25si2s50v35.3072/r556.romulus25si2s50v35.3072.004096', 'halos': [1], 'goodhalos': [1]}, 'r568': {'path': '/data/akaxia/rzooms/r568.romulus25si2s50v35.3072/r568.romulus25si2s50v35.3072.004096', 'halos': [1], 'goodhalos': [1]}, 'r571': {'path': '/data/akaxia/rzooms/r571.romulus25si2s50v35.3072/r571.romulus25si2s50v35.3072.004096', 'halos': [1], 'goodhalos': [1]}, 'r597': {'path': '/data/akaxia/rzooms/r597.romulus25si2s50v35.3072/r597.romulus25si2s50v35.3072.004096', 'halos': [1], 'goodhalos': [1]}, 'r613': {'path': '/data/akaxia/rzooms/r613.romulus25si2s50v35.3072/r613.romulus25si2s50v35.3072.004096', 'halos': [1], 'goodhalos': [1]}, 'r614': {'path': '/data/akaxia/rzooms/r614.romulus25si2s50v35.3072/r614.romulus25si2s50v35.3072.004096', 'halos': [1], 'goodhalos': [1]}, 'r618': {'path': '/data/akaxia/rzooms/rzooms/r618.romulus25si2s50v35.3072/r618.romulus25si2s50v35.3072.004096', 'halos': [1], 'goodhalos': [1]}}\n"
     ]
    }
   ],
   "source": [
    "SIDM_merians_path = '/data/akaxia/rzooms/'\n",
    "\n",
    "#scan through all subfolders in the Marvelous_merians_path and add them to the dictionary with just halo 1 in the both halos and goodhalos\n",
    "#save the resulting dictionary to a file rdz_sims.py\n",
    "#limit the files to ones that end in 004096\n",
    "#write function to scan through the files and add them to the dictionary\n",
    "import os\n",
    "import re\n",
    "import numpy as np\n",
    "import sys\n",
    "def scan_files(path):\n",
    "    Sims = {}\n",
    "    for root, dirs, files in os.walk(path):\n",
    "        for filename in files:\n",
    "            full_path = os.path.join(root, filename)\n",
    "            match = re.search(r'(r\\d+\\.romulus25si2s50v35\\.3072/)+r\\d+\\.romulus25si2s50v35\\.3072\\.004096$', full_path)\n",
    "            if match:\n",
    "                name = re.search(r'r\\d+', filename).group()\n",
    "                print(name)\n",
    "                Sims[name] = {\n",
    "                    'path': full_path,\n",
    "                    'halos': [1],\n",
    "                    'goodhalos': [1]\n",
    "                }\n",
    "    return Sims\n",
    "\n",
    "\n",
    "\n",
    "Sims = scan_files(SIDM_merians_path)\n",
    "#sort the dictionary by the number after \n",
    "Sims = dict(sorted(Sims.items(), key=lambda item: int(item[0][1:])))\n",
    "print(Sims)\n"
   ]
  },
  {
   "cell_type": "code",
   "execution_count": 10,
   "id": "7e954bd9f1a2ef53",
   "metadata": {
    "ExecuteTime": {
     "end_time": "2024-11-18T20:42:17.547318Z",
     "start_time": "2024-11-18T20:42:17.538191Z"
    }
   },
   "outputs": [
    {
     "name": "stdout",
     "output_type": "stream",
     "text": [
      "scanning complete, saving dictionary to file MerianSIDM.py\n"
     ]
    }
   ],
   "source": [
    "\n",
    "\n",
    "\n",
    "\n",
    "print('scanning complete, saving dictionary to file MerianSIDM.py')\n",
    "#save the dictionary to a file  as a raw python dictionary\n",
    "#add line breaks between the dictionary entries and subentries\n",
    "\n",
    "#overwrite the file if it exists\n",
    "with open('../SimInfoDicts/MerianSIDMad.py', 'w') as f:\n",
    "    f.write('Sims = {\\n')\n",
    "    for key, value in Sims.items():\n",
    "        f.write(f'    \"{key}\": {value},\\n')\n",
    "    f.write('}\\n')\n",
    "    \n",
    "    \n",
    "    \n"
   ]
  },
  {
   "cell_type": "code",
   "execution_count": 9,
   "id": "7bc35500b1e6cd55",
   "metadata": {
    "ExecuteTime": {
     "end_time": "2024-11-18T20:42:10.082060Z",
     "start_time": "2024-11-18T20:42:09.656699Z"
    }
   },
   "outputs": [
    {
     "name": "stdout",
     "output_type": "stream",
     "text": [
      "AK_properties.csv       halotypes.py                read_sim_pickle.py\r\n",
      "CheckResolution.ipynb   init_conditions.ipynb       RomanExpTimeCalc.ipynb\r\n",
      "GalaxyClassiffier.py    Inspect_halos.ipynb         star_images.ipynb\r\n",
      "GetMasses.py            MatchHalos.ipynb            Update_Merians.ipynb\r\n",
      "good_halos-Copy1.ipynb  observationEstimates.ipynb  Update_SIDM_Merians.ipynb\r\n",
      "good_halos.ipynb        PurgeHalos.py               Update_StormDO.ipynb\r\n",
      "goodhalos.py            \u001b[0m\u001b[01;34m__pycache__\u001b[0m/\r\n",
      "HalotypesDB.ipynb       read_masses_ex.py\r\n"
     ]
    }
   ],
   "source": []
  },
  {
   "cell_type": "code",
   "execution_count": null,
   "id": "20037c00363f5015",
   "metadata": {},
   "outputs": [],
   "source": []
  }
 ],
 "metadata": {
  "kernelspec": {
   "display_name": "Python 3",
   "language": "python",
   "name": "python3"
  },
  "language_info": {
   "codemirror_mode": {
    "name": "ipython",
    "version": 2
   },
   "file_extension": ".py",
   "mimetype": "text/x-python",
   "name": "python",
   "nbconvert_exporter": "python",
   "pygments_lexer": "ipython2",
   "version": "2.7.6"
  }
 },
 "nbformat": 4,
 "nbformat_minor": 5
}
