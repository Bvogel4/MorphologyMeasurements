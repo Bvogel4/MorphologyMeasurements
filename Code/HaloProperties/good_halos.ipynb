{
 "cells": [
  {
   "cell_type": "code",
   "execution_count": 1,
   "id": "1683a3c9-35ec-444e-9eb4-7c9395953669",
   "metadata": {
    "editable": true,
    "slideshow": {
     "slide_type": ""
    },
    "tags": []
   },
   "outputs": [
    {
     "name": "stdout",
     "output_type": "stream",
     "text": [
      "/data/akaxia/storm/storm.cosmo25cmbsi2s50v35.4096/storm.cosmo25cmbsi2s50v35.4096.004096\n"
     ]
    },
    {
     "name": "stderr",
     "output_type": "stream",
     "text": [
      "pynbody.halo : An error occurred while reading substructure file. Falling back to using the halo info.\n"
     ]
    },
    {
     "name": "stdout",
     "output_type": "stream",
     "text": [
      "8880\n"
     ]
    }
   ],
   "source": [
    "import pynbody\n",
    "import os\n",
    "from matplotlib import pyplot as plt\n",
    "import numpy as np\n",
    "import traceback\n",
    "\n",
    "from akaxia import Sims  \n",
    "from pynbody.plot.sph import image\n",
    "\n",
    "import pynbody.plot.sph as sph\n",
    "\n",
    "# Base directory to store images\n",
    "base_image_dir = '../Figures/halo_check_images/'\n",
    "\n",
    "# Ensure the base directory exists\n",
    "if not os.path.exists(base_image_dir):\n",
    "    os.makedirs(base_image_dir)\n",
    "\n",
    "# Parameters for focused testing - specify the simulation and halo ID you want to test\n",
    "test_sim_name = 'r431'  # Example: 'r431'\n",
    "test_halo_id = 1  # Example: 1, adjust based on your needs\n",
    "\n",
    "good_halos = []\n",
    "\n",
    "# Set a mass threshold\n",
    "mass_threshold = 1e4\n",
    "\n",
    "sims = 'storm'\n",
    "\n",
    "data_path = Sims[sims]['path']\n",
    "print(data_path)\n",
    "sim = pynbody.load(data_path)\n",
    "sim.physical_units()\n",
    "h = sim.halos(write_fpos=False)\n",
    "print(len(h))"
   ]
  },
  {
   "cell_type": "code",
   "execution_count": 2,
   "id": "b1410a8c-c31f-457c-bdee-499946cf4e78",
   "metadata": {
    "editable": true,
    "slideshow": {
     "slide_type": ""
    },
    "tags": []
   },
   "outputs": [
    {
     "name": "stderr",
     "output_type": "stream",
     "text": [
      "Processing Halos: 100%|█████████████████████| 8880/8880 [27:56<00:00,  5.30it/s]\n"
     ]
    }
   ],
   "source": [
    "import logging\n",
    "import tqdm\n",
    "import time\n",
    "\n",
    "# Set up logging\n",
    "logging.basicConfig(filename='halo_processing_SIDM.log', level=logging.INFO, format='%(asctime)s %(levelname)s:%(message)s')\n",
    "\n",
    "\n",
    "\n",
    "for halo_id in tqdm.tqdm(range(1, len(h)+1), desc=\"Processing Halos\"):\n",
    "    try:\n",
    "        start_time = time.time()  # Start timer for the entire loop iteration\n",
    "    \n",
    "        # Load the halo\n",
    "        load_start = time.time()\n",
    "        halo = h.load_copy(halo_id)\n",
    "        load_duration = time.time() - load_start\n",
    "        n = len(halo)\n",
    "        if  n < 1e4:\n",
    "            logging.info(f'particle count under threshold for halo {halo_id}: {n}')\n",
    "            continue\n",
    "        # Quickly calculate total mass to check against the threshold\n",
    "        mass_calc_start = time.time()\n",
    "        total_mass = halo.dm['mass'].in_units('Msol').sum()\n",
    "        mass_calc_duration = time.time() - mass_calc_start\n",
    "    \n",
    "        if total_mass < mass_threshold:\n",
    "            logging.info(f'Mass under threshold for halo {halo_id}: {total_mass}')\n",
    "            continue\n",
    "    \n",
    "        # Convert all particle masses to solar masses and filter out heavy particles\n",
    "        filter_start = time.time()\n",
    "        particle_masses_in_solar = halo.dm['mass'].in_units('Msol')\n",
    "        heavy_particles_mask = particle_masses_in_solar > 1e4\n",
    "        heavy_particle_mass = particle_masses_in_solar[heavy_particles_mask].sum()\n",
    "        filter_duration = time.time() - filter_start\n",
    "    \n",
    "        # Check for 10% or more of the mass in heavy particles\n",
    "        if heavy_particle_mass / total_mass >= 0.05:\n",
    "            logging.info(f'Halo {halo_id} skipped: 5% or more mass in heavy particles.')\n",
    "            continue\n",
    "    \n",
    "        # Centering and orientation\n",
    "        center_start = time.time()\n",
    "        pynbody.analysis.halo.center(halo, mode='hyb')\n",
    "        pynbody.analysis.angmom.faceon(halo)\n",
    "        center_duration = time.time() - center_start\n",
    "    \n",
    "        # Virial radius calculation\n",
    "        virial_start = time.time()\n",
    "        r = pynbody.analysis.halo.virial_radius(halo, cen=None, overden=178, r_max=None, rho_def='matter')\n",
    "        virial_duration = time.time() - virial_start\n",
    "    \n",
    "        good_halos.append(halo_id)\n",
    "    \n",
    "        # Log timing information\n",
    "        #logging.info(f\"Timing for halo {halo_id}: Load: {load_duration:.2f}s, Mass Calc: {mass_calc_duration:.2f}s, Filtering: {filter_duration:.2f}s, Centering: {center_duration:.2f}s, Virial Radius: {virial_duration:.2f}s\")\n",
    "    \n",
    "        iteration_duration = time.time() - start_time\n",
    "        logging.info(f\"Total time for halo {halo_id}: {iteration_duration:.2f}s\")\n",
    "\n",
    "    except ValueError as e:\n",
    "        if \"Insufficient particles around center to get velocity\" in str(e):\n",
    "            logging.error(f'Halo {halo_id} skipped: insufficient particles for velocity calculation.')\n",
    "        else:\n",
    "            logging.error(f'Error processing halo {halo_id}: {e}')\n",
    "    except Exception as e:\n",
    "        logging.error(f'Error processing halo {halo_id}: {e}')\n",
    "\n",
    "\n",
    "good_halos = np.array(good_halos,dtype=np.uintc)\n",
    "\n",
    "np.savetxt('Storm_SIDM_good_halos.txt',good_halos,fmt='%d',delimiter = ',')\n"
   ]
  },
  {
   "cell_type": "code",
   "execution_count": null,
   "id": "6744735b-31e0-4dfc-8888-275ac5dc9084",
   "metadata": {},
   "outputs": [],
   "source": [
    "\n",
    "good_halos = np.array(good_halos,dtype=np.uintc)\n",
    "\n",
    "np.savetxt('Storm_SIDM_good_halos.txt',good_halos,fmt='%d',delimiter = ',')"
   ]
  },
  {
   "cell_type": "code",
   "execution_count": null,
   "id": "3e420430-d034-4569-bf50-9d36e23caed5",
   "metadata": {
    "editable": true,
    "slideshow": {
     "slide_type": ""
    },
    "tags": []
   },
   "outputs": [],
   "source": []
  }
 ],
 "metadata": {
  "kernelspec": {
   "display_name": "Python 3 (ipykernel)",
   "language": "python",
   "name": "python3"
  },
  "language_info": {
   "codemirror_mode": {
    "name": "ipython",
    "version": 3
   },
   "file_extension": ".py",
   "mimetype": "text/x-python",
   "name": "python",
   "nbconvert_exporter": "python",
   "pygments_lexer": "ipython3",
   "version": "3.9.18"
  }
 },
 "nbformat": 4,
 "nbformat_minor": 5
}
