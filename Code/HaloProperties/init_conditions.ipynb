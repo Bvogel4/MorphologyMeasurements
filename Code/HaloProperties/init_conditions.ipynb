{
 "cells": [
  {
   "cell_type": "code",
   "execution_count": 32,
   "id": "bb0d1e88-2d9b-4962-893b-3c358c0545d0",
   "metadata": {},
   "outputs": [],
   "source": []
  },
  {
   "cell_type": "code",
   "execution_count": 33,
   "id": "39cc5262-195a-468a-8c19-dd92a85f038b",
   "metadata": {},
   "outputs": [
    {
     "name": "stdout",
     "output_type": "stream",
     "text": [
      "r431\n",
      "loading simpath /data/REPOSITORY/e11Gals/romulus_dwarf_zooms/r431.romulus25.3072g1HsbBH/r431.romulus25.3072g1HsbBH.000454/r431.romulus25.3072g1HsbBH.000454\n",
      "sim loaded\n",
      "r442\n",
      "loading simpath /data/REPOSITORY/e11Gals/romulus_dwarf_zooms/r442.romulus25.3072g1HsbBH/r442.romulus25.3072g1HsbBH.000454/r442.romulus25.3072g1HsbBH.000454\n"
     ]
    },
    {
     "ename": "OSError",
     "evalue": "File '/data/REPOSITORY/e11Gals/romulus_dwarf_zooms/r442.romulus25.3072g1HsbBH/r442.romulus25.3072g1HsbBH.000454/r442.romulus25.3072g1HsbBH.000454': format not understood or does not exist",
     "output_type": "error",
     "traceback": [
      "\u001b[0;31m---------------------------------------------------------------------------\u001b[0m",
      "\u001b[0;31mOSError\u001b[0m                                   Traceback (most recent call last)",
      "Cell \u001b[0;32mIn[33], line 51\u001b[0m\n\u001b[1;32m     49\u001b[0m \u001b[38;5;28mprint\u001b[39m(s)\n\u001b[1;32m     50\u001b[0m sim_path \u001b[38;5;241m=\u001b[39m Sims[s][\u001b[38;5;124m'\u001b[39m\u001b[38;5;124mpath\u001b[39m\u001b[38;5;124m'\u001b[39m]\n\u001b[0;32m---> 51\u001b[0m params \u001b[38;5;241m=\u001b[39m \u001b[43mextract_params\u001b[49m\u001b[43m(\u001b[49m\u001b[43msim_path\u001b[49m\u001b[43m)\u001b[49m\n\u001b[1;32m     52\u001b[0m params[\u001b[38;5;124m'\u001b[39m\u001b[38;5;124mSimulation\u001b[39m\u001b[38;5;124m'\u001b[39m] \u001b[38;5;241m=\u001b[39m s\n\u001b[1;32m     53\u001b[0m data\u001b[38;5;241m.\u001b[39mappend(params)\n",
      "Cell \u001b[0;32mIn[33], line 12\u001b[0m, in \u001b[0;36mextract_params\u001b[0;34m(sim_path)\u001b[0m\n\u001b[1;32m     10\u001b[0m \u001b[38;5;28;01mdef\u001b[39;00m \u001b[38;5;21mextract_params\u001b[39m(sim_path):\n\u001b[1;32m     11\u001b[0m     \u001b[38;5;28mprint\u001b[39m(\u001b[38;5;124mf\u001b[39m\u001b[38;5;124m'\u001b[39m\u001b[38;5;124mloading simpath \u001b[39m\u001b[38;5;132;01m{\u001b[39;00msim_path\u001b[38;5;132;01m}\u001b[39;00m\u001b[38;5;124m'\u001b[39m)\n\u001b[0;32m---> 12\u001b[0m     sim \u001b[38;5;241m=\u001b[39m \u001b[43mpynbody\u001b[49m\u001b[38;5;241;43m.\u001b[39;49m\u001b[43mload\u001b[49m\u001b[43m(\u001b[49m\u001b[43msim_path\u001b[49m\u001b[43m)\u001b[49m\n\u001b[1;32m     13\u001b[0m     sim\u001b[38;5;241m.\u001b[39mphysical_units(distance\u001b[38;5;241m=\u001b[39m\u001b[38;5;124m'\u001b[39m\u001b[38;5;124mkpc\u001b[39m\u001b[38;5;124m'\u001b[39m, velocity\u001b[38;5;241m=\u001b[39m\u001b[38;5;124m'\u001b[39m\u001b[38;5;124mkm s^-1\u001b[39m\u001b[38;5;124m'\u001b[39m, mass\u001b[38;5;241m=\u001b[39m\u001b[38;5;124m'\u001b[39m\u001b[38;5;124mMsol\u001b[39m\u001b[38;5;124m'\u001b[39m, persistent\u001b[38;5;241m=\u001b[39m\u001b[38;5;28;01mTrue\u001b[39;00m)\n\u001b[1;32m     14\u001b[0m     \u001b[38;5;28mprint\u001b[39m(\u001b[38;5;124mf\u001b[39m\u001b[38;5;124m'\u001b[39m\u001b[38;5;124msim loaded\u001b[39m\u001b[38;5;124m'\u001b[39m)\n",
      "File \u001b[0;32m~/miniconda3/envs/pynbody/lib/python3.9/site-packages/pynbody/snapshot/__init__.py:29\u001b[0m, in \u001b[0;36mload\u001b[0;34m(filename, *args, **kwargs)\u001b[0m\n\u001b[1;32m     26\u001b[0m         logger\u001b[38;5;241m.\u001b[39minfo(\u001b[38;5;124m\"\u001b[39m\u001b[38;5;124mLoading using backend \u001b[39m\u001b[38;5;132;01m%s\u001b[39;00m\u001b[38;5;124m\"\u001b[39m \u001b[38;5;241m%\u001b[39m \u001b[38;5;28mstr\u001b[39m(c))\n\u001b[1;32m     27\u001b[0m         \u001b[38;5;28;01mreturn\u001b[39;00m c(filename, \u001b[38;5;241m*\u001b[39margs, \u001b[38;5;241m*\u001b[39m\u001b[38;5;241m*\u001b[39mkwargs)\n\u001b[0;32m---> 29\u001b[0m \u001b[38;5;28;01mraise\u001b[39;00m \u001b[38;5;167;01mOSError\u001b[39;00m(\n\u001b[1;32m     30\u001b[0m     \u001b[38;5;124m\"\u001b[39m\u001b[38;5;124mFile \u001b[39m\u001b[38;5;132;01m%r\u001b[39;00m\u001b[38;5;124m: format not understood or does not exist\u001b[39m\u001b[38;5;124m\"\u001b[39m \u001b[38;5;241m%\u001b[39m filename)\n",
      "\u001b[0;31mOSError\u001b[0m: File '/data/REPOSITORY/e11Gals/romulus_dwarf_zooms/r442.romulus25.3072g1HsbBH/r442.romulus25.3072g1HsbBH.000454/r442.romulus25.3072g1HsbBH.000454': format not understood or does not exist"
     ]
    }
   ],
   "source": [
    "import pynbody\n",
    "import pandas as pd\n",
    "\n",
    "\n",
    "\n",
    "# Initialize a list to store data for each simulation\n",
    "data = []\n",
    "\n",
    "# Function to extract required parameters from a simulation snapshot\n",
    "def extract_params(sim_path):\n",
    "    print(f'loading simpath {sim_path}')\n",
    "    sim = pynbody.load(sim_path)\n",
    "    sim.physical_units(distance='kpc', velocity='km s^-1', mass='Msol', persistent=True)\n",
    "    print(f'sim loaded')\n",
    "    header = sim.properties\n",
    "    \n",
    "    \n",
    "    # Cosmological parameters\n",
    "    omega0 = header['omegaM0']\n",
    "    lambda0 = header['omegaL0']\n",
    "    hubble = header['h']\n",
    "    \n",
    "    # Box size\n",
    "    box_size = header['boxsize']#.in_units('Mpc')\n",
    "    #print(header)\n",
    "    # Particle masses\n",
    "    dm_mass = sim.dm['mass'][0]#.in_units('Msol')\n",
    "    gas_mass = sim.gas['mass'][0]#.in_units('Msol')\n",
    "    star_mass = sim.star['mass'][0]#.in_units('Msol')\n",
    "    #print(dm_mass)\n",
    "    \n",
    "    # Force softening length (assuming it's the same for all particles)\n",
    "    soft_length = sim['eps'][0]#.in_units('kpc')\n",
    "    \n",
    "    return {\n",
    "        'Omega_0': omega0,\n",
    "        'Lambda_0': lambda0,\n",
    "        'Hubble': hubble,\n",
    "        'Box_Size (Mpc)': box_size,\n",
    "        'DM_Particle_Mass (Msol)': dm_mass,\n",
    "        'Gas_Particle_Mass (Msol)': gas_mass,\n",
    "        'Star_Particle_Mass (Msol)': star_mass,\n",
    "        'Force_Softening_Length (kpc)': soft_length\n",
    "    }\n",
    "\n",
    "\n",
    "# Iterate over each simulation and extract parameters\n",
    "for s in Sims:\n",
    "    print(s)\n",
    "    sim_path = Sims[s]['path']\n",
    "    params = extract_params(sim_path)\n",
    "    params['Simulation'] = s\n",
    "    data.append(params)\n",
    "\n",
    "# Create a DataFrame from the extracted data\n",
    "df = pd.DataFrame(data)\n",
    "\n",
    "# Display the DataFrame\n",
    "print(df)"
   ]
  },
  {
   "cell_type": "code",
   "execution_count": null,
   "id": "5ae35d89-e0ec-4ac4-a69e-ffeb73ca12a1",
   "metadata": {},
   "outputs": [],
   "source": []
  }
 ],
 "metadata": {
  "kernelspec": {
   "display_name": "Python 3 (ipykernel)",
   "language": "python",
   "name": "python3"
  },
  "language_info": {
   "codemirror_mode": {
    "name": "ipython",
    "version": 3
   },
   "file_extension": ".py",
   "mimetype": "text/x-python",
   "name": "python",
   "nbconvert_exporter": "python",
   "pygments_lexer": "ipython3",
   "version": "3.9.18"
  }
 },
 "nbformat": 4,
 "nbformat_minor": 5
}
