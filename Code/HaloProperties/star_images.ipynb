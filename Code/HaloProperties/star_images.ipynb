{
 "cells": [
  {
   "cell_type": "code",
   "execution_count": 1,
   "id": "d5a221cf461f7c96",
   "metadata": {
    "ExecuteTime": {
     "end_time": "2024-07-10T19:56:48.630326Z",
     "start_time": "2024-07-10T19:56:46.106992Z"
    },
    "collapsed": true
   },
   "outputs": [],
   "source": [
    "import pynbody\n",
    "import pickle\n",
    "import matplotlib.pyplot as plt\n",
    "import traceback\n",
    "import os\n",
    "\n",
    "def star_images(feedback):\n",
    "    SimInfo_path = f'../PickleFiles/SimulationInfo.{feedback}.pickle'\n",
    "    SimInfo = pickle.load(open(SimInfo_path, 'rb'))\n",
    "    \n",
    "    for sims in SimInfo:\n",
    "        #print(SimInfo[sims]['path'])\n",
    "        #check if all sims and goodhalos have already been done\n",
    "        simdone=False\n",
    "        for hid in SimInfo[sims]['goodhalos']: \n",
    "            figpath = f'images/{sims}.{feedback}.{hid}.png'\n",
    "            if not os.path.exists(figpath):\n",
    "                simdone=False\n",
    "                break           \n",
    "        if simdone:\n",
    "            print(f'{sims} {feedback} already done')\n",
    "            continue\n",
    "            \n",
    "        sim = pynbody.load(SimInfo[sims]['path'])\n",
    "        for hid in SimInfo[sims]['goodhalos']:\n",
    "            \n",
    "            #check if image already exists\n",
    "            figpath = f'images/{sims}.{feedback}.{hid}.png'\n",
    "            if os.path.exists(figpath):\n",
    "                continue\n",
    "            try:\n",
    "                fig, ax = plt.subplots(1, 3, figsize=(15, 5))\n",
    "                print(f'processing {sims} {hid} {feedback}')\n",
    "                halo = sim.halos()[hid]\n",
    "                pynbody.analysis.angmom.faceon(halo)\n",
    "                Rhalf = pynbody.analysis.luminosity.half_light_r(halo)\n",
    "                width = 6 * Rhalf\n",
    "                #save faceon and 2 side images\n",
    "                base_file_name = f'{feedback}{sims}.{hid}'\n",
    "                pynbody.plot.sph.image(halo.s,qty='v_lum_den',width=width,subplot=ax[0],units='kpc^-2',resolution=1000,show_cbar=False)\n",
    "                halo.rotate_y(90)\n",
    "                pynbody.plot.sph.image(halo.s, qty='v_lum_den', width=width, subplot=ax[1], units='kpc^-2', resolution=1000, show_cbar=False)\n",
    "                halo.rotate_x(90)\n",
    "                pynbody.plot.sph.image(halo.s, qty='v_lum_den', width=width, subplot=ax[2], units='kpc^-2', resolution=1000, show_cbar=False)\n",
    "                \n",
    "                #add suptitle\n",
    "                fig.suptitle(f'{sims} {feedback} {hid}')\n",
    "                plt.savefig(figpath)\n",
    "                plt.close()\n",
    "                print(f'saved {figpath}')\n",
    "            except Exception as e:\n",
    "                print(f'Error in {sims} {hid} {feedback}')\n",
    "                print(traceback.format_exc())\n",
    "            \n",
    "    return\n",
    "\n",
    "feedbacks = ['MerianCDM','BWMDC']\n",
    "\n"
   ]
  },
  {
   "cell_type": "code",
   "execution_count": 2,
   "id": "initial_id",
   "metadata": {
    "ExecuteTime": {
     "end_time": "2024-07-10T19:58:37.515272Z",
     "start_time": "2024-07-10T19:56:58.522675Z"
    }
   },
   "outputs": [
    {
     "name": "stderr",
     "output_type": "stream",
     "text": [
      "/home/bk639/miniconda3/envs/shapes/lib/python3.12/site-packages/pynbody/snapshot/tipsy.py:119: RuntimeWarning: No readable param file in the run directory or parent directory: using defaults.\n",
      "  warnings.warn(\n",
      "/tmp/ipykernel_3571381/2602721790.py:26: RuntimeWarning: More than 20 figures have been opened. Figures created through the pyplot interface (`matplotlib.pyplot.figure`) are retained until explicitly closed and may consume too much memory. (To control this warning, see the rcParam `figure.max_open_warning`). Consider using `matplotlib.pyplot.close()`.\n",
      "  fig, ax = plt.subplots(1, 3, figsize=(15, 5))\n"
     ]
    },
    {
     "name": "stdout",
     "output_type": "stream",
     "text": [
      "processing storm 31 BWMDC\n",
      "Error in storm 31 BWMDC\n",
      "Traceback (most recent call last):\n",
      "  File \"/tmp/ipykernel_3571381/2602721790.py\", line 33, in star_images\n",
      "    halo = sim.halos()[hid]\n",
      "           ~~~~~~~~~~~^^^^^\n",
      "  File \"/home/bk639/miniconda3/envs/shapes/lib/python3.12/site-packages/pynbody/halo/__init__.py\", line 152, in __getitem__\n",
      "    return self.calc_item(item)\n",
      "           ^^^^^^^^^^^^^^^^^^^^\n",
      "  File \"/home/bk639/miniconda3/envs/shapes/lib/python3.12/site-packages/pynbody/halo/__init__.py\", line 135, in calc_item\n",
      "    h = self._get_halo(i)\n",
      "        ^^^^^^^^^^^^^^^^^\n",
      "  File \"/home/bk639/miniconda3/envs/shapes/lib/python3.12/site-packages/pynbody/halo/__init__.py\", line 341, in _get_halo\n",
      "    raise ValueError(\"Halo %s does not exist\" % (str(i)))\n",
      "ValueError: Halo 31 does not exist\n",
      "\n",
      "processing rogue 15 BWMDC\n"
     ]
    },
    {
     "name": "stderr",
     "output_type": "stream",
     "text": [
      "\n",
      "KeyboardInterrupt\n",
      "\n"
     ]
    },
    {
     "name": "stdout",
     "output_type": "stream",
     "text": [
      "Error in callback <function _draw_all_if_interactive at 0x7fe4ca086660> (for post_execute), with arguments args (),kwargs {}:\n"
     ]
    },
    {
     "name": "stderr",
     "output_type": "stream",
     "text": [
      "\n",
      "KeyboardInterrupt\n",
      "\n"
     ]
    },
    {
     "name": "stdout",
     "output_type": "stream",
     "text": [
      "Error in callback <function flush_figures at 0x7fe4c920fb00> (for post_execute), with arguments args (),kwargs {}:\n"
     ]
    },
    {
     "name": "stderr",
     "output_type": "stream",
     "text": [
      "\n",
      "KeyboardInterrupt\n",
      "\n"
     ]
    }
   ],
   "source": [
    "\n",
    "plt.close()\n",
    "\n",
    "#for feedback in feedbacks:\n",
    "star_images('BWMDC')\n",
    "\n"
   ]
  },
  {
   "cell_type": "code",
   "execution_count": 3,
   "id": "7de67d22bb44f6b4",
   "metadata": {
    "ExecuteTime": {
     "end_time": "2024-07-09T01:39:15.323116Z",
     "start_time": "2024-07-09T01:39:15.311698Z"
    }
   },
   "outputs": [
    {
     "name": "stdout",
     "output_type": "stream",
     "text": [
      "/home/bk639/MorphologyMeasurements/Code/HaloProperties\n"
     ]
    },
    {
     "name": "stderr",
     "output_type": "stream",
     "text": [
      "/home/bk639/miniconda3/envs/shapes/lib/python3.12/site-packages/IPython/core/magics/osm.py:417: UserWarning: This is now an optional IPython functionality, setting dhist requires you to install the `pickleshare` library.\n",
      "  self.shell.db['dhist'] = compress_dhist(dhist)[-100:]\n"
     ]
    }
   ],
   "source": [
    "cd MorphologyMeasurements/Code/HaloProperties"
   ]
  },
  {
   "cell_type": "code",
   "execution_count": null,
   "id": "7fba5e1cd599f5f3",
   "metadata": {},
   "outputs": [],
   "source": []
  }
 ],
 "metadata": {
  "kernelspec": {
   "display_name": "Python 3",
   "language": "python",
   "name": "python3"
  },
  "language_info": {
   "codemirror_mode": {
    "name": "ipython",
    "version": 2
   },
   "file_extension": ".py",
   "mimetype": "text/x-python",
   "name": "python",
   "nbconvert_exporter": "python",
   "pygments_lexer": "ipython2",
   "version": "2.7.6"
  }
 },
 "nbformat": 4,
 "nbformat_minor": 5
}
