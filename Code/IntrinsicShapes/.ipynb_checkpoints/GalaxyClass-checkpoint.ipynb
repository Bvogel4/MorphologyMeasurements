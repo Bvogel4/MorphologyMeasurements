{
 "cells": [
  {
   "cell_type": "code",
   "execution_count": 1,
   "id": "b83cc60e-9a36-497c-bf4d-2e4a2872b6d5",
   "metadata": {},
   "outputs": [
    {
     "ename": "FileNotFoundError",
     "evalue": "[Errno 2] No such file or directory: '../Figures/halo_check_images'",
     "output_type": "error",
     "traceback": [
      "\u001b[0;31m---------------------------------------------------------------------------\u001b[0m",
      "\u001b[0;31mFileNotFoundError\u001b[0m                         Traceback (most recent call last)",
      "Cell \u001b[0;32mIn[1], line 10\u001b[0m\n\u001b[1;32m      7\u001b[0m image_base_path \u001b[38;5;241m=\u001b[39m \u001b[38;5;124m'\u001b[39m\u001b[38;5;124m../Figures/halo_check_images\u001b[39m\u001b[38;5;124m'\u001b[39m\n\u001b[1;32m      9\u001b[0m \u001b[38;5;66;03m# Assuming all your images are in a single folder and follow the 'simr431h1.png' naming convention\u001b[39;00m\n\u001b[0;32m---> 10\u001b[0m image_files \u001b[38;5;241m=\u001b[39m [f \u001b[38;5;28;01mfor\u001b[39;00m f \u001b[38;5;129;01min\u001b[39;00m \u001b[43mos\u001b[49m\u001b[38;5;241;43m.\u001b[39;49m\u001b[43mlistdir\u001b[49m\u001b[43m(\u001b[49m\u001b[43mimage_base_path\u001b[49m\u001b[43m)\u001b[49m \u001b[38;5;28;01mif\u001b[39;00m f\u001b[38;5;241m.\u001b[39mendswith(\u001b[38;5;124m'\u001b[39m\u001b[38;5;124m.png\u001b[39m\u001b[38;5;124m'\u001b[39m)]\n\u001b[1;32m     12\u001b[0m \u001b[38;5;66;03m# Prepare an empty dictionary for classifications\u001b[39;00m\n\u001b[1;32m     13\u001b[0m halo_types_dict \u001b[38;5;241m=\u001b[39m {}\n",
      "\u001b[0;31mFileNotFoundError\u001b[0m: [Errno 2] No such file or directory: '../Figures/halo_check_images'"
     ]
    }
   ],
   "source": [
    "import os\n",
    "import matplotlib.pyplot as plt\n",
    "import IPython.display as display\n",
    "import pickle\n",
    "\n",
    "# Base path where your images are stored\n",
    "image_base_path = '../../Figures/halo_check_images'\n",
    "\n",
    "# Assuming all your images are in a single folder and follow the 'simr431h1.png' naming convention\n",
    "image_files = [f for f in os.listdir(image_base_path) if f.endswith('.png')]\n",
    "\n",
    "# Prepare an empty dictionary for classifications\n",
    "halo_types_dict = {}\n",
    "\n",
    "def classify_halo(image_path):\n",
    "    \"\"\"\n",
    "    Displays the image for classification.\n",
    "    This function should be adapted based on your interactive environment.\n",
    "    \"\"\"\n",
    "    img = plt.imread(image_path)\n",
    "    plt.imshow(img)\n",
    "    plt.axis('off')\n",
    "    plt.show()\n",
    "\n",
    "    # For a script, this would be manual classification,\n",
    "    # but in an interactive environment like Jupyter Notebook,\n",
    "    # you could use input() to classify each image.\n",
    "    classification = input(\"Enter classification (Central, Backsplash, Satellite): \")\n",
    "    return classification\n",
    "\n",
    "# Iterate through each image file\n",
    "for image_file in image_files:\n",
    "    # Extract simulation and halo ID from the filename\n",
    "    parts = image_file.split('h')\n",
    "    simulation_id = parts[0]  # e.g., 'simr431'\n",
    "    halo_id = parts[1].split('.')[0]  # e.g., '1'\n",
    "\n",
    "    image_path = os.path.join(image_base_path, image_file)\n",
    "\n",
    "    # Call the function to display the image and classify\n",
    "    classification = classify_halo(image_path)\n",
    "\n",
    "    # Store the classification in the dictionary\n",
    "    if simulation_id not in halo_types_dict:\n",
    "        halo_types_dict[simulation_id] = {}\n",
    "    halo_types_dict[simulation_id][halo_id] = classification\n",
    "\n",
    "    # Clear the output to prepare for the next image\n",
    "    display.clear_output(wait=True)\n",
    "\n",
    "# Once classification is done, convert the dictionary to the format expected by 'HaloTypes.txt'\n",
    "with open('HaloTypes.txt', 'w') as file:\n",
    "    file.write(\"SimulationID\\tHaloID\\tType\\n\")  # Writing header\n",
    "    for sim, halos in halo_types_dict.items():\n",
    "        for hid, type in halos.items():\n",
    "            file.write(f\"{sim}\\t{hid}\\t{type}\\n\")\n",
    "\n",
    "print(\"Classification completed and saved to HaloTypes.txt.\")\n"
   ]
  },
  {
   "cell_type": "code",
   "execution_count": 1,
   "id": "312a94cf-fd03-4500-b23c-338fa5092329",
   "metadata": {},
   "outputs": [
    {
     "data": {
      "text/plain": [
       "'/media/blake/Files/emu/Code/IntrinsicShapes'"
      ]
     },
     "execution_count": 1,
     "metadata": {},
     "output_type": "execute_result"
    }
   ],
   "source": [
    "pwd\n"
   ]
  },
  {
   "cell_type": "code",
   "execution_count": null,
   "id": "63a93b08-70ae-424c-be81-1e78ef209a5d",
   "metadata": {},
   "outputs": [],
   "source": []
  }
 ],
 "metadata": {
  "kernelspec": {
   "display_name": "Python 3 (ipykernel)",
   "language": "python",
   "name": "python3"
  },
  "language_info": {
   "codemirror_mode": {
    "name": "ipython",
    "version": 3
   },
   "file_extension": ".py",
   "mimetype": "text/x-python",
   "name": "python",
   "nbconvert_exporter": "python",
   "pygments_lexer": "ipython3",
   "version": "3.11.5"
  }
 },
 "nbformat": 4,
 "nbformat_minor": 5
}
