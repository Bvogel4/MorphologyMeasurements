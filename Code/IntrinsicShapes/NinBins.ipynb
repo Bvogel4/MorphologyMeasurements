{
 "cells": [
  {
   "cell_type": "code",
   "execution_count": 33,
   "id": "initial_id",
   "metadata": {
    "ExecuteTime": {
     "end_time": "2025-01-17T22:53:05.439455Z",
     "start_time": "2025-01-17T22:53:05.347441Z"
    },
    "collapsed": true
   },
   "outputs": [
    {
     "name": "stdout",
     "output_type": "stream",
     "text": [
      "Smoothing DMShapes\n",
      "elektra DMShapes 10 4443\n",
      "storm DMShapes 14 7931\n",
      "rogue DMShapes 15 7626\n",
      "rogue DMShapes 28 9806\n",
      "h148 DMShapes 11 9758\n",
      "h148 DMShapes 38 9198\n",
      "Smoothing 3DShapes\n",
      "cptmarvel 3DShapes 7 3589\n",
      "elektra 3DShapes 10 4014\n",
      "storm 3DShapes 14 5104\n",
      "rogue 3DShapes 15 5773\n",
      "rogue 3DShapes 28 5402\n",
      "h148 3DShapes 11 4271\n",
      "h148 3DShapes 38 2437\n",
      "h148 3DShapes 65 6111\n",
      "h229 3DShapes 3 6762\n",
      "h229 3DShapes 6 4614\n",
      "h329 3DShapes 7 5487\n"
     ]
    }
   ],
   "source": [
    "import pickle\n",
    "import os\n",
    "import sys\n",
    "import traceback\n",
    "import numpy as np\n",
    "import pathlib\n",
    "\n",
    "#from MorphologyMeasurements.Code.SimInfoDicts.sim_type_name import sim_type_name\n",
    "\n",
    "# Add the path to the sys.path\n",
    "sys.path.append('/home/bk639/MorpholgyMeasurements/Code/SimInfoDicts/')\n",
    "# from sim_type_name import sim_type_name\n",
    "# print(sim_type_name)\n",
    "sim_type_name = sim_type_name = {\n",
    "    \"DOstormCDM\": False,\n",
    "    \"DOstormSIDM\": False,\n",
    "    \"MerianCDM\": True,\n",
    "    \"SBMarvel\": False,\n",
    "    \"MerianSIDM\": False,\n",
    "    \"MerianSIDMad\": False,\n",
    "    \"MerianCDMad\": False,\n",
    "    \"BWMDC\": True,\n",
    "    \"Storm\": False,\n",
    "}\n",
    "\n",
    "\n",
    "for t in ['DMShapes','3DShapes']:\n",
    "    print(f'Smoothing {t}')\n",
    "    for feedback, use_sim in sim_type_name.items():\n",
    "        if use_sim:\n",
    "            pickle_path = f'../PickleFiles/SimulationInfo.{feedback}.pickle'\n",
    "            if os.path.exists(pickle_path):\n",
    "                SimInfo = pickle.load(open(pickle_path, 'rb'))\n",
    "                #add a check to see if the mass file already exists, if it does, we need to make sure it has all the current sims\n",
    "                for sim in SimInfo:\n",
    "                    try:\n",
    "                        Shapes = pickle.load(open(f'../../Data/{sim}.{feedback}.{t}.pickle','rb'))\n",
    "                    except:\n",
    "                        print(f'Error loading {sim} {feedback} {t}')\n",
    "                        continue\n",
    "                    for hid in SimInfo[sim]['goodhalos']:\n",
    "                        # if sim == 'cptmarvel' and hid == 7:\n",
    "                        #     continue\n",
    "                        # if sim == 'elektra' and hid == 10:\n",
    "                        #     continue\n",
    "                        #print keys in Shapes[str(hid)]\n",
    "                        #print(f'{sim} {t} {hid} {Shapes[str(hid)].keys()}')\n",
    "                        try:\n",
    "                            rbins,ba,ca=Shapes[(hid)]['rbins'],Shapes[(hid)]['ba'], Shapes[(hid)]['ca']\n",
    "                            if t == 'DMShapes':\n",
    "                                #check if N_d exists\n",
    "                                if 'N_d' in Shapes[(hid)].keys():\n",
    "                                    N_d = Shapes[(hid)]['N_d']\n",
    "                                if 'N' in Shapes[(hid)].keys():\n",
    "                                    N_d = Shapes[(hid)]['N']\n",
    "                                    \n",
    "                                sum = np.sum(N_d)\n",
    "                                if sum <10000:\n",
    "                                    print(f'{sim} {t} {hid} {sum}')\n",
    "                            if t == '3DShapes':\n",
    "                                #check if N_s exists\n",
    "                                if 'N_s' in Shapes[(hid)].keys():\n",
    "                                    N_s = Shapes[(hid)]['N_s']\n",
    "                                if 'N' in Shapes[(hid)].keys():\n",
    "                                    N_s = Shapes[(hid)]['N']\n",
    "                                sum = np.sum(N_s)\n",
    "                                if sum <10000:\n",
    "                                    print(f'{sim} {t} {hid} {sum}')\n",
    "                            #print min and max N_d and N_s\n",
    "                            #print(f'{sim} {t} {hid} {N_s}')\n",
    "                            #print sum of all bins\n",
    "                            #print(f'{sim} {t} {hid} {sum(N_s)}')\n",
    "                        except:\n",
    "                            print(traceback.format_exc())\n",
    "                            print(f'Error with {sim} {t} {hid}')\n",
    "                            print(Shapes[(hid)].keys())\n"
   ]
  },
  {
   "cell_type": "code",
   "execution_count": 4,
   "id": "5a1ec4dd56f83b4b",
   "metadata": {
    "ExecuteTime": {
     "end_time": "2025-01-17T22:23:53.094407Z",
     "start_time": "2025-01-17T22:23:53.089756Z"
    }
   },
   "outputs": [
    {
     "name": "stdout",
     "output_type": "stream",
     "text": [
      "['/home/blake/.local/share/JetBrains/Toolbox/apps/pycharm-professional/plugins/python/helpers-pro/jupyter_debug', '/home/blake/.local/share/JetBrains/Toolbox/apps/pycharm-professional/plugins/python-ce/helpers/pydev', '/home/bk639/MorphologyMeasurements/Code/IntrinsicShapes', '/home/bk639/miniconda3/envs/shapes/lib/python312.zip', '/home/bk639/miniconda3/envs/shapes/lib/python3.12', '/home/bk639/miniconda3/envs/shapes/lib/python3.12/lib-dynload', '', '/home/bk639/miniconda3/envs/shapes/lib/python3.12/site-packages', '/home/bk639/MorpholgyMeasurements/Code/SimInfoDicts/', '/home/bk639/MorpholgyMeasurements/Code/SimInfoDicts/']\n"
     ]
    }
   ],
   "source": [
    "#print sys.path\n",
    "print(sys.path)"
   ]
  },
  {
   "cell_type": "code",
   "execution_count": null,
   "id": "5cefaf600000c900",
   "metadata": {},
   "outputs": [],
   "source": []
  }
 ],
 "metadata": {
  "kernelspec": {
   "display_name": "Python 3",
   "language": "python",
   "name": "python3"
  },
  "language_info": {
   "codemirror_mode": {
    "name": "ipython",
    "version": 2
   },
   "file_extension": ".py",
   "mimetype": "text/x-python",
   "name": "python",
   "nbconvert_exporter": "python",
   "pygments_lexer": "ipython2",
   "version": "2.7.6"
  }
 },
 "nbformat": 4,
 "nbformat_minor": 5
}
