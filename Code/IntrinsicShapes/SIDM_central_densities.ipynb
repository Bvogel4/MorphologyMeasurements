{
 "cells": [
  {
   "cell_type": "code",
   "execution_count": 1,
   "id": "initial_id",
   "metadata": {
    "ExecuteTime": {
     "end_time": "2024-10-08T20:46:54.513025Z",
     "start_time": "2024-10-08T20:46:54.499357Z"
    },
    "collapsed": true
   },
   "outputs": [
    {
     "name": "stdout",
     "output_type": "stream",
     "text": [
      "r634.romulus25si2s50v35\n",
      "r492.romulus25si2s50v35\n",
      "r468.romulus25si2s50v35\n",
      "r488.romulus25si2s50v35\n",
      "r544.romulus25si2s50v35\n",
      "r597.romulus25si2s50v35\n",
      "r523.romulus25si2s50v35\n",
      "r618.romulus25si2s50v35\n",
      "r431.romulus25cvdXsec\n",
      "r492.romulus25cvdXsec\n"
     ]
    }
   ],
   "source": [
    "SIDMSims = {\n",
    "    \"r634.romulus25si2s50v35\": {'path': '/data/akaxia/rzooms/r634.romulus25si2s50v35.3072g1HsbBH/r634.romulus25si2s50v35.3072g1HsbBH.004096', 'halos': [1], 'goodhalos': [1]},\n",
    "    \"r492.romulus25si2s50v35\": {'path': '/data/akaxia/rzooms/r492.romulus25si2s50v35.3072g1HsbBH/r492.romulus25si2s50v35.3072g1HsbBH.004096', 'halos': [1], 'goodhalos': [1]},\n",
    "    \"r468.romulus25si2s50v35\": {'path': '/data/akaxia/rzooms/r468.romulus25si2s50v35.3072g1HsbBH/r468.romulus25si2s50v35.3072g1HsbBH.004096', 'halos': [1], 'goodhalos': [1]},\n",
    "    \"r488.romulus25si2s50v35\": {'path': '/data/akaxia/rzooms/r488.romulus25si2s50v35.3072g1HsbBH/r488.romulus25si2s50v35.3072g1HsbBH.004096', 'halos': [1], 'goodhalos': [1]},\n",
    "    \"r544.romulus25si2s50v35\": {'path': '/data/akaxia/rzooms/r544.romulus25si2s50v35.3072g1HsbBH/r544.romulus25si2s50v35.3072g1HsbBH.004096', 'halos': [1], 'goodhalos': [1]},\n",
    "    \"r597.romulus25si2s50v35\": {'path': '/data/akaxia/rzooms/r597.romulus25si2s50v35.3072g1HsbBH/r597.romulus25si2s50v35.3072g1HsbBH.004096', 'halos': [1], 'goodhalos': [1]},\n",
    "    \"r523.romulus25si2s50v35\": {'path': '/data/akaxia/rzooms/r523.romulus25si2s50v35.3072g1HsbBH/r523.romulus25si2s50v35.3072g1HsbBH.004096', 'halos': [1], 'goodhalos': [1]},\n",
    "    \"r618.romulus25si2s50v35\": {'path': '/data/akaxia/rzooms/r618.romulus25si2s50v35.3072g1HsbBH/r618.romulus25si2s50v35.3072g1HsbBH.004096', 'halos': [1], 'goodhalos': [1]},\n",
    "    \"r431.romulus25cvdXsec\": {'path': '/data/REPOSITORY/romulus_zooms/r431.romulus25cvdXsec.3072g1HsbBH/r431.romulus25cvdXsec.3072g1HsbBH.004096/r431.romulus25cvdXsec.3072g1HsbBH.004096', 'halos': [1], 'goodhalos': [1]},\n",
    "    \"r492.romulus25cvdXsec\": {'path': '/data/REPOSITORY/romulus_zooms/r492.romulus25cvdXsec.3072g1HsbBH/r492.romulus25cvdXsec.3072g1HsbBH.004096/r492.romulus25cvdXsec.3072g1HsbBH.004096', 'halos': [1], 'goodhalos': [1]},\n",
    "}\n",
    "CDMSims = {\n",
    "    \"r431\": {'path': '/home/bk639/data/MerianCDM/r431.romulus25.3072g1HsbBH/r431.romulus25.3072g1HsbBH.004096/r431.romulus25.3072g1HsbBH.004096', 'halos': [1], 'goodhalos': [1]},\n",
    "    \"r442\": {'path': '/home/bk639/data/MerianCDM/r442.romulus25.3072g1HsbBH/r442.romulus25.3072g1HsbBH.004096/r442.romulus25.3072g1HsbBH.004096', 'halos': [1], 'goodhalos': [1]},\n",
    "    \"r468\": {'path': '/home/bk639/data/MerianCDM/r468.romulus25.3072g1HsbBH/r468.romulus25.3072g1HsbBH.004096/r468.romulus25.3072g1HsbBH.004096', 'halos': [1], 'goodhalos': [1]},\n",
    "    \"r488\": {'path': '/home/bk639/data/MerianCDM/r488.romulus25.3072g1HsbBH/r488.romulus25.3072g1HsbBH.004096/r488.romulus25.3072g1HsbBH.004096', 'halos': [1], 'goodhalos': [1]},\n",
    "    \"r489\": {'path': '/home/bk639/data/MerianCDM/r489.romulus25.3072g1HsbBH/r489.romulus25.3072g1HsbBH.004096/r489.romulus25.3072g1HsbBH.004096', 'halos': [1], 'goodhalos': [1]},\n",
    "    \"r492\": {'path': '/home/bk639/data/MerianCDM/r492.romulus25.3072g1HsbBH/r492.romulus25.3072g1HsbBH.004096/r492.romulus25.3072g1HsbBH.004096', 'halos': [1], 'goodhalos': [1]},\n",
    "    \"r502\": {'path': '/home/bk639/data/MerianCDM/r502.romulus25.3072g1HsbBH/r502.romulus25.3072g1HsbBH.004096/r502.romulus25.3072g1HsbBH.004096', 'halos': [1], 'goodhalos': [1]},\n",
    "    \"r515\": {'path': '/home/bk639/data/MerianCDM/r515.romulus25.3072g1HsbBH/r515.romulus25.3072g1HsbBH.004096/r515.romulus25.3072g1HsbBH.004096', 'halos': [1], 'goodhalos': [1]},\n",
    "    \"r523\": {'path': '/home/bk639/data/MerianCDM/r523.romulus25.3072g1HsbBH/r523.romulus25.3072g1HsbBH.004096/r523.romulus25.3072g1HsbBH.004096', 'halos': [1], 'goodhalos': [1]},\n",
    "    \"r544\": {'path': '/home/bk639/data/MerianCDM/r544.romulus25.3072g1HsbBH/r544.romulus25.3072g1HsbBH.004096/r544.romulus25.3072g1HsbBH.004096', 'halos': [1], 'goodhalos': [1]},\n",
    "    \"r552\": {'path': '/home/bk639/data/MerianCDM/r552.romulus25.3072g1HsbBH/r552.romulus25.3072g1HsbBH.004096/r552.romulus25.3072g1HsbBH.004096', 'halos': [1], 'goodhalos': [1]},\n",
    "    \"r555\": {'path': '/home/bk639/data/MerianCDM/r555.romulus25.3072g1HsbBH/r555.romulus25.3072g1HsbBH.004096/r555.romulus25.3072g1HsbBH.004096', 'halos': [1], 'goodhalos': [1]},\n",
    "    \"r556\": {'path': '/home/bk639/data/MerianCDM/r556.romulus25.3072g1HsbBH/r556.romulus25.3072g1HsbBH.004096/r556.romulus25.3072g1HsbBH.004096', 'halos': [1], 'goodhalos': [1]},\n",
    "    \"r563\": {'path': '/home/bk639/data/MerianCDM/r563.romulus25.3072g1HsbBH/r563.romulus25.3072g1HsbBH.004096/r563.romulus25.3072g1HsbBH.004096', 'halos': [1], 'goodhalos': [1]},\n",
    "    \"r568\": {'path': '/home/bk639/data/MerianCDM/r568.romulus25.3072g1HsbBH/r568.romulus25.3072g1HsbBH.004096/r568.romulus25.3072g1HsbBH.004096', 'halos': [1], 'goodhalos': [1]},\n",
    "    \"r569\": {'path': '/home/bk639/data/MerianCDM/r569.romulus25.3072g1HsbBH/r569.romulus25.3072g1HsbBH.004096/r569.romulus25.3072g1HsbBH.004096', 'halos': [1], 'goodhalos': [1]},\n",
    "    \"r571\": {'path': '/home/bk639/data/MerianCDM/r571.romulus25.3072g1HsbBH/r571.romulus25.3072g1HsbBH.004096/r571.romulus25.3072g1HsbBH.004096', 'halos': [1], 'goodhalos': [1]},\n",
    "    \"r597\": {'path': '/home/bk639/data/MerianCDM/r597.romulus25.3072g1HsbBH/r597.romulus25.3072g1HsbBH.004096/r597.romulus25.3072g1HsbBH.004096', 'halos': [1], 'goodhalos': [1]},\n",
    "    \"r613\": {'path': '/home/bk639/data/MerianCDM/r613.romulus25.3072g1HsbBH/r613.romulus25.3072g1HsbBH.004096/r613.romulus25.3072g1HsbBH.004096', 'halos': [1], 'goodhalos': [1]},\n",
    "    \"r614\": {'path': '/home/bk639/data/MerianCDM/r614.romulus25.3072g1HsbBH/r614.romulus25.3072g1HsbBH.004096/r614.romulus25.3072g1HsbBH.004096', 'halos': [1], 'goodhalos': [1]},\n",
    "    \"r615\": {'path': '/home/bk639/data/MerianCDM/r615.romulus25.3072g1HsbBH/r615.romulus25.3072g1HsbBH.004096/r615.romulus25.3072g1HsbBH.004096', 'halos': [1], 'goodhalos': [1]},\n",
    "    \"r618\": {'path': '/home/bk639/data/MerianCDM/r618.romulus25.3072g1HsbBH/r618.romulus25.3072g1HsbBH.004096/r618.romulus25.3072g1HsbBH.004096', 'halos': [1], 'goodhalos': [1]},\n",
    "    \"r634\": {'path': '/home/bk639/data/MerianCDM/r634.romulus25.3072g1HsbBH/r634.romulus25.3072g1HsbBH.004096/r634.romulus25.3072g1HsbBH.004096', 'halos': [1], 'goodhalos': [1]},\n",
    "    \"r642\": {'path': '/home/bk639/data/MerianCDM/r642.romulus25.3072g1HsbBH/r642.romulus25.3072g1HsbBH.004096/r642.romulus25.3072g1HsbBH.004096', 'halos': [1], 'goodhalos': [1]},\n",
    "    \"r656\": {'path': '/home/bk639/data/MerianCDM/r656.romulus25.3072g1HsbBH/r656.romulus25.3072g1HsbBH.004096/r656.romulus25.3072g1HsbBH.004096', 'halos': [1], 'goodhalos': [1]},\n",
    "    \"r707\": {'path': '/home/bk639/data/MerianCDM/r707.romulus25.3072g1HsbBH/r707.romulus25.3072g1HsbBH.004096/r707.romulus25.3072g1HsbBH.004096', 'halos': [2], 'goodhalos': [2]},\n",
    "    \"r716\": {'path': '/home/bk639/data/MerianCDM/r716.romulus25.3072g1HsbBH/r716.romulus25.3072g1HsbBH.004096/r716.romulus25.3072g1HsbBH.004096', 'halos': [1], 'goodhalos': [1]},\n",
    "    \"r718\": {'path': '/home/bk639/data/MerianCDM/r718.romulus25.3072g1HsbBH/r718.romulus25.3072g1HsbBH.004096/r718.romulus25.3072g1HsbBH.004096', 'halos': [1], 'goodhalos': [1]},\n",
    "    \"r753\": {'path': '/home/bk639/data/MerianCDM/r753.romulus25.3072g1HsbBH/r753.romulus25.3072g1HsbBH.004096/r753.romulus25.3072g1HsbBH.004096', 'halos': [1], 'goodhalos': [1]},\n",
    "    \"r761\": {'path': '/home/bk639/data/MerianCDM/r761.romulus25.3072g1HsbBH/r761.romulus25.3072g1HsbBH.004096/r761.romulus25.3072g1HsbBH.004096', 'halos': [1], 'goodhalos': [1]},\n",
    "    \"r850\": {'path': '/home/bk639/data/MerianCDM/r850.romulus25.3072g1HsbBH/r850.romulus25.3072g1HsbBH.004096/r850.romulus25.3072g1HsbBH.004096', 'halos': [1], 'goodhalos': [1]},\n",
    "    \"r852\": {'path': '/home/bk639/data/MerianCDM/r852.romulus25.3072g1HsbBH/r852.romulus25.3072g1HsbBH.004096/r852.romulus25.3072g1HsbBH.004096', 'halos': [1], 'goodhalos': [1]},\n",
    "    \"r886\": {'path': '/home/bk639/data/MerianCDM/r886.romulus25.3072g1HsbBH/r886.romulus25.3072g1HsbBH.004096/r886.romulus25.3072g1HsbBH.004096', 'halos': [1], 'goodhalos': [1]},\n",
    "    \"r916\": {'path': '/home/bk639/data/MerianCDM/r916.romulus25.3072g1HsbBH/r916.romulus25.3072g1HsbBH.004096/r916.romulus25.3072g1HsbBH.004096', 'halos': [1], 'goodhalos': [1]},\n",
    "    \"r918\": {'path': '/home/bk639/data/MerianCDM/r918.romulus25.3072g1HsbBH/r918.romulus25.3072g1HsbBH.004096/r918.romulus25.3072g1HsbBH.004096', 'halos': [1], 'goodhalos': [1]},\n",
    "    \"r968\": {'path': '/home/bk639/data/MerianCDM/r968.romulus25.3072g1HsbBH/r968.romulus25.3072g1HsbBH.004096/r968.romulus25.3072g1HsbBH.004096', 'halos': [3], 'goodhalos': [3]},\n",
    "    \"r977\": {'path': '/home/bk639/data/MerianCDM/r977.romulus25.3072g1HsbBH/r977.romulus25.3072g1HsbBH.004096/r977.romulus25.3072g1HsbBH.004096', 'halos': [1], 'goodhalos': [1]},\n",
    "    \"r1023\": {'path': '/home/bk639/data/MerianCDM/r1023.romulus25.3072g1HsbBH/r1023.romulus25.3072g1HsbBH.004096/r1023.romulus25.3072g1HsbBH.004096', 'halos': [2], 'goodhalos': [2]},\n",
    "}\n",
    "\n",
    "for sim in SIDMSims:\n",
    "    print(sim)"
   ]
  },
  {
   "cell_type": "code",
   "execution_count": 2,
   "id": "52d5f68e2390726b",
   "metadata": {
    "ExecuteTime": {
     "end_time": "2024-10-08T20:47:40.030380Z",
     "start_time": "2024-10-08T20:47:38.581791Z"
    }
   },
   "outputs": [],
   "source": [
    "import pynbody\n",
    "import numpy as np\n",
    "def extract_number(sim_name):\n",
    "    return sim_name.split('.')[0][1:]"
   ]
  },
  {
   "cell_type": "code",
   "execution_count": 3,
   "id": "3806813b75aa50dd",
   "metadata": {
    "ExecuteTime": {
     "end_time": "2024-10-08T20:47:40.058985Z",
     "start_time": "2024-10-08T20:47:40.047157Z"
    }
   },
   "outputs": [],
   "source": [
    "def compare_central_densities(HCDM,HSIDM):\n",
    "    #calculate the difference in dark matter density between the two sims within the central 0.5kpc\n",
    "    #calulate the baryonic density within the central 0.5kpc\n",
    "    # calculate the difference in baryon fraction within the central 0.5kpc\n",
    "    #center halo\n",
    "    pynbody.analysis.halo.center(HCDM, mode='hyb')\n",
    "    pynbody.analysis.halo.center(HSIDM, mode='hyb')\n",
    "\n",
    "    #calculate the difference in dark matter density\n",
    "    r = pynbody.array.SimArray(0.5, 'kpc')\n",
    "    #create a sphere with radius 0.5kpc\n",
    "    sphereCDM = HCDM[pynbody.filt.Sphere(r)]\n",
    "    sphereSIDM = HSIDM[pynbody.filt.Sphere(r)]\n",
    "    V = (4/3)*np.pi*r**3\n",
    "    #calculate the dark matter density within the sphere\n",
    "\n",
    "    rho_DM_CDM = sphereCDM['mass'].sum().in_units('Msol')/V\n",
    "    rho_DM_SIDM = sphereSIDM['mass'].sum().in_units('Msol')/V\n",
    "    print(f'Dark matter density in CDM sim: {rho_DM_CDM:.2e}')\n",
    "    print(f'Dark matter density in SIDM sim: {rho_DM_SIDM:.2e}')\n",
    "    print(f'Difference in dark matter density: {rho_DM_CDM - rho_DM_SIDM:.2e}')\n",
    "\n",
    "    #calculate the baryonic density within the sphere\n",
    "    rho_b_CDM = (sphereCDM.gas['mass'].sum().in_units('Msol') + sphereCDM.star['mass'].sum().in_units('Msol'))/V\n",
    "    rho_b_SIDM = (sphereSIDM.gas['mass'].sum().in_units('Msol') + sphereSIDM.star['mass'].sum().in_units('Msol'))/V\n",
    "    print(f'Baryonic density in CDM sim: {rho_b_CDM:.2e}')\n",
    "    print(f'Baryonic density in SIDM sim: {rho_b_SIDM:.2e}')\n",
    "    print(f'Difference in baryonic density: {rho_b_CDM - rho_b_SIDM:.2e}')\n",
    "\n",
    "    #calculate the baryon fraction within the sphere\n",
    "    f_b_CDM = rho_b_CDM/(rho_DM_CDM + rho_b_CDM)\n",
    "    f_b_SIDM = rho_b_SIDM/(rho_DM_SIDM + rho_b_SIDM)\n",
    "    print(f'Baryon fraction in CDM sim: {f_b_CDM:.2f}')\n",
    "    print(f'Baryon fraction in SIDM sim: {f_b_SIDM:.2f}')\n",
    "    print(f'Difference in baryon fraction: {f_b_CDM - f_b_SIDM:.2f}')\n",
    "\n",
    "    #return percent differences in dark matter density, baryonic density and baryon fraction\n",
    "    return (rho_DM_CDM - rho_DM_SIDM)/rho_DM_CDM, (rho_b_CDM - rho_b_SIDM)/rho_b_CDM, (f_b_CDM - f_b_SIDM)/f_b_CDM\n",
    "\n"
   ]
  },
  {
   "cell_type": "code",
   "execution_count": 4,
   "id": "6fb94ca7f937fb20",
   "metadata": {
    "ExecuteTime": {
     "end_time": "2024-10-08T20:52:31.434611Z",
     "start_time": "2024-10-08T20:47:40.361596Z"
    }
   },
   "outputs": [
    {
     "name": "stdout",
     "output_type": "stream",
     "text": [
      "r634.romulus25si2s50v35 r634\n",
      "Dark matter density in CDM sim: 1.66e+08\n",
      "Dark matter density in SIDM sim: 5.53e+07\n",
      "Difference in dark matter density: 1.10e+08\n",
      "Baryonic density in CDM sim: 7.83e+07\n",
      "Baryonic density in SIDM sim: 2.45e+07\n",
      "Difference in baryonic density: 5.39e+07\n",
      "Baryon fraction in CDM sim: 3.21e-01\n",
      "Baryon fraction in SIDM sim: 3.07e-01\n",
      "Difference in baryon fraction: 1.44e-02\n",
      "r492.romulus25si2s50v35 r492\n"
     ]
    },
    {
     "name": "stderr",
     "output_type": "stream",
     "text": [
      "pynbody.halo : An error occurred while reading substructure file. Falling back to using the halo info.\n",
      "/home/bk639/miniconda3/envs/shapes/lib/python3.12/site-packages/pynbody/halo/ahf.py:157: UserWarning: Unable to write AHF_fpos file; performance will be reduced. Pass write_fpos=False to halo constructor to suppress this message.\n",
      "  warnings.warn(\"Unable to write AHF_fpos file; performance will be reduced. Pass write_fpos=False to halo constructor to suppress this message.\")\n"
     ]
    },
    {
     "name": "stdout",
     "output_type": "stream",
     "text": [
      "Dark matter density in CDM sim: 1.61e+08\n",
      "Dark matter density in SIDM sim: 5.59e+07\n",
      "Difference in dark matter density: 1.05e+08\n",
      "Baryonic density in CDM sim: 8.32e+07\n",
      "Baryonic density in SIDM sim: 1.93e+07\n",
      "Difference in baryonic density: 6.39e+07\n",
      "Baryon fraction in CDM sim: 3.41e-01\n",
      "Baryon fraction in SIDM sim: 2.57e-01\n",
      "Difference in baryon fraction: 8.42e-02\n",
      "r468.romulus25si2s50v35 r468\n"
     ]
    },
    {
     "name": "stderr",
     "output_type": "stream",
     "text": [
      "pynbody.halo : An error occurred while reading substructure file. Falling back to using the halo info.\n"
     ]
    },
    {
     "name": "stdout",
     "output_type": "stream",
     "text": [
      "Dark matter density in CDM sim: 7.37e+08\n",
      "Dark matter density in SIDM sim: 3.17e+08\n",
      "Difference in dark matter density: 4.21e+08\n",
      "Baryonic density in CDM sim: 5.60e+08\n",
      "Baryonic density in SIDM sim: 2.31e+08\n",
      "Difference in baryonic density: 3.28e+08\n",
      "Baryon fraction in CDM sim: 4.31e-01\n",
      "Baryon fraction in SIDM sim: 4.22e-01\n",
      "Difference in baryon fraction: 9.28e-03\n",
      "r488.romulus25si2s50v35 r488\n"
     ]
    },
    {
     "name": "stderr",
     "output_type": "stream",
     "text": [
      "pynbody.halo : An error occurred while reading substructure file. Falling back to using the halo info.\n"
     ]
    },
    {
     "name": "stdout",
     "output_type": "stream",
     "text": [
      "Dark matter density in CDM sim: 3.87e+08\n",
      "Dark matter density in SIDM sim: 1.59e+08\n",
      "Difference in dark matter density: 2.27e+08\n",
      "Baryonic density in CDM sim: 3.04e+08\n",
      "Baryonic density in SIDM sim: 1.13e+08\n",
      "Difference in baryonic density: 1.91e+08\n",
      "Baryon fraction in CDM sim: 4.40e-01\n",
      "Baryon fraction in SIDM sim: 4.16e-01\n",
      "Difference in baryon fraction: 2.42e-02\n",
      "r544.romulus25si2s50v35 r544\n"
     ]
    },
    {
     "name": "stderr",
     "output_type": "stream",
     "text": [
      "pynbody.halo : An error occurred while reading substructure file. Falling back to using the halo info.\n"
     ]
    },
    {
     "name": "stdout",
     "output_type": "stream",
     "text": [
      "Dark matter density in CDM sim: 1.03e+08\n",
      "Dark matter density in SIDM sim: 5.53e+07\n",
      "Difference in dark matter density: 4.80e+07\n",
      "Baryonic density in CDM sim: 5.11e+07\n",
      "Baryonic density in SIDM sim: 2.80e+07\n",
      "Difference in baryonic density: 2.31e+07\n",
      "Baryon fraction in CDM sim: 3.31e-01\n",
      "Baryon fraction in SIDM sim: 3.36e-01\n",
      "Difference in baryon fraction: -5.39e-03\n",
      "r597.romulus25si2s50v35 r597\n"
     ]
    },
    {
     "name": "stderr",
     "output_type": "stream",
     "text": [
      "pynbody.halo : An error occurred while reading substructure file. Falling back to using the halo info.\n"
     ]
    },
    {
     "name": "stdout",
     "output_type": "stream",
     "text": [
      "Dark matter density in CDM sim: 8.90e+07\n",
      "Dark matter density in SIDM sim: 7.67e+07\n",
      "Difference in dark matter density: 1.23e+07\n",
      "Baryonic density in CDM sim: 4.21e+07\n",
      "Baryonic density in SIDM sim: 4.02e+07\n",
      "Difference in baryonic density: 1.84e+06\n",
      "Baryon fraction in CDM sim: 3.21e-01\n",
      "Baryon fraction in SIDM sim: 3.44e-01\n",
      "Difference in baryon fraction: -2.32e-02\n",
      "r523.romulus25si2s50v35 r523\n"
     ]
    },
    {
     "name": "stderr",
     "output_type": "stream",
     "text": [
      "pynbody.halo : An error occurred while reading substructure file. Falling back to using the halo info.\n"
     ]
    },
    {
     "name": "stdout",
     "output_type": "stream",
     "text": [
      "Dark matter density in CDM sim: 7.22e+07\n",
      "Dark matter density in SIDM sim: 5.31e+07\n",
      "Difference in dark matter density: 1.91e+07\n",
      "Baryonic density in CDM sim: 3.80e+07\n",
      "Baryonic density in SIDM sim: 2.68e+07\n",
      "Difference in baryonic density: 1.13e+07\n",
      "Baryon fraction in CDM sim: 3.45e-01\n",
      "Baryon fraction in SIDM sim: 3.35e-01\n",
      "Difference in baryon fraction: 9.82e-03\n",
      "r618.romulus25si2s50v35 r618\n"
     ]
    },
    {
     "name": "stderr",
     "output_type": "stream",
     "text": [
      "pynbody.halo : An error occurred while reading substructure file. Falling back to using the halo info.\n"
     ]
    },
    {
     "name": "stdout",
     "output_type": "stream",
     "text": [
      "Dark matter density in CDM sim: 2.22e+08\n",
      "Dark matter density in SIDM sim: 1.34e+08\n",
      "Difference in dark matter density: 8.87e+07\n",
      "Baryonic density in CDM sim: 1.30e+08\n",
      "Baryonic density in SIDM sim: 7.74e+07\n",
      "Difference in baryonic density: 5.22e+07\n",
      "Baryon fraction in CDM sim: 3.68e-01\n",
      "Baryon fraction in SIDM sim: 3.67e-01\n",
      "Difference in baryon fraction: 1.67e-03\n",
      "r431.romulus25cvdXsec r431\n",
      "Dark matter density in CDM sim: 2.75e+08\n",
      "Dark matter density in SIDM sim: 2.50e+08\n",
      "Difference in dark matter density: 2.51e+07\n",
      "Baryonic density in CDM sim: 1.49e+08\n",
      "Baryonic density in SIDM sim: 1.54e+08\n",
      "Difference in baryonic density: -5.01e+06\n",
      "Baryon fraction in CDM sim: 3.52e-01\n",
      "Baryon fraction in SIDM sim: 3.82e-01\n",
      "Difference in baryon fraction: -2.99e-02\n",
      "r492.romulus25cvdXsec r492\n",
      "Dark matter density in CDM sim: 1.61e+08\n",
      "Dark matter density in SIDM sim: 1.13e+08\n",
      "Difference in dark matter density: 4.81e+07\n",
      "Baryonic density in CDM sim: 8.32e+07\n",
      "Baryonic density in SIDM sim: 5.38e+07\n",
      "Difference in baryonic density: 2.94e+07\n",
      "Baryon fraction in CDM sim: 3.41e-01\n",
      "Baryon fraction in SIDM sim: 3.23e-01\n",
      "Difference in baryon fraction: 1.76e-02\n",
      "                      name             rho_diff                 b_diff  \\\n",
      "0  r634.romulus25si2s50v35     0.66620940671526     0.6877934902751133   \n",
      "1  r492.romulus25si2s50v35   0.6523518856927246     0.7679067258833961   \n",
      "2  r468.romulus25si2s50v35   0.5705678792943778     0.5865525156167808   \n",
      "3  r488.romulus25si2s50v35   0.5879336376159221     0.6267651769430995   \n",
      "4  r544.romulus25si2s50v35  0.46454125114539446     0.4514096693812546   \n",
      "5  r597.romulus25si2s50v35  0.13862814021021944    0.04381864274368627   \n",
      "6  r523.romulus25si2s50v35  0.26454367520107197     0.2960371952754856   \n",
      "7  r618.romulus25si2s50v35    0.398574723087079    0.40287581359263386   \n",
      "8    r431.romulus25cvdXsec  0.09133529882263294  -0.033528730785207364   \n",
      "9    r492.romulus25cvdXsec  0.29946284954573793     0.3528620051705751   \n",
      "\n",
      "                  f_diff  \n",
      "0   0.044826915939143584  \n",
      "1    0.24703737771279513  \n",
      "2   0.021508252067754727  \n",
      "3   0.055036982191830335  \n",
      "4  -0.016273190818342116  \n",
      "5   -0.07220924687798648  \n",
      "6   0.028474819212024043  \n",
      "7   0.004530378221484301  \n",
      "8   -0.08489376538441226  \n",
      "9    0.05157104814673568  \n"
     ]
    }
   ],
   "source": [
    "\n",
    "rho_diffs = []\n",
    "b_diffs = []\n",
    "f_diffs = []\n",
    "name = []\n",
    "for SIDMname in SIDMSims:\n",
    "    #load the SIDM sim\n",
    "    SIDMsim = pynbody.load(SIDMSims[SIDMname]['path'])\n",
    "    #load the CDM sim with name that starts with the same number after the r\n",
    "    CDMname = 'r' + extract_number(SIDMname)\n",
    "    print(SIDMname, CDMname)\n",
    "    CDMSim = pynbody.load(CDMSims[CDMname]['path'])\n",
    "    SIDMsim.physical_units()\n",
    "    CDMSim.physical_units()\n",
    "    #center the halos\n",
    "    HCDM = CDMSim.halos()[1]\n",
    "    HSIDM = SIDMsim.halos()[1]\n",
    "\n",
    "    rho_diff, b_diff, f_diff = compare_central_densities(HCDM,HSIDM)\n",
    "    rho_diffs.append(rho_diff)\n",
    "    b_diffs.append(b_diff)\n",
    "    f_diffs.append(f_diff)\n",
    "    name.append(SIDMname)\n",
    "\n",
    "#place the differences in a dataframe\n",
    "import pandas as pd\n",
    "df = pd.DataFrame({'name': name, 'rho_diff': rho_diffs, 'b_diff': b_diffs, 'f_diff': f_diffs})\n",
    "print(df)\n",
    "\n",
    "\n"
   ]
  },
  {
   "cell_type": "code",
   "execution_count": null,
   "id": "a0a01a179609da41",
   "metadata": {},
   "outputs": [],
   "source": [
    "#print percent difference in SIDM vs CDM\n",
    "for i in range(len(rho_diffs)):\n",
    "    print(f'{name[i]}: Dark Matter Density: {rho_diffs[i]:.2%}, Baryonic Density: {b_diffs[i]:.2%}, Baryon Fraction: {f_diffs[i]:.2%}')"
   ]
  },
  {
   "cell_type": "code",
   "execution_count": 6,
   "id": "624dc238302adc47",
   "metadata": {
    "ExecuteTime": {
     "end_time": "2024-10-08T21:03:11.909048Z",
     "start_time": "2024-10-08T21:03:11.897857Z"
    }
   },
   "outputs": [],
   "source": [
    "#make new dataframe of 1 - percent difference\n",
    "#copy dataframe\n",
    "df2 = df.copy()\n",
    "#subtract percent difference from 1\n",
    "df2['rho_diff'] = 1 - df2['rho_diff']\n",
    "df2['b_diff'] = 1 - df2['b_diff']\n",
    "df2['f_diff'] = 1 - df2['f_diff']\n",
    "\n",
    "\n"
   ]
  },
  {
   "cell_type": "code",
   "execution_count": 7,
   "id": "dffa0c0ebcee1072",
   "metadata": {
    "ExecuteTime": {
     "end_time": "2024-10-08T21:03:15.661026Z",
     "start_time": "2024-10-08T21:03:15.645280Z"
    }
   },
   "outputs": [
    {
     "data": {
      "text/html": [
       "<div>\n",
       "<style scoped>\n",
       "    .dataframe tbody tr th:only-of-type {\n",
       "        vertical-align: middle;\n",
       "    }\n",
       "\n",
       "    .dataframe tbody tr th {\n",
       "        vertical-align: top;\n",
       "    }\n",
       "\n",
       "    .dataframe thead th {\n",
       "        text-align: right;\n",
       "    }\n",
       "</style>\n",
       "<table border=\"1\" class=\"dataframe\">\n",
       "  <thead>\n",
       "    <tr style=\"text-align: right;\">\n",
       "      <th></th>\n",
       "      <th>name</th>\n",
       "      <th>rho_diff</th>\n",
       "      <th>b_diff</th>\n",
       "      <th>f_diff</th>\n",
       "    </tr>\n",
       "  </thead>\n",
       "  <tbody>\n",
       "    <tr>\n",
       "      <th>0</th>\n",
       "      <td>r634.romulus25si2s50v35</td>\n",
       "      <td>0.33379059328474003</td>\n",
       "      <td>0.3122065097248867</td>\n",
       "      <td>0.9551730840608564</td>\n",
       "    </tr>\n",
       "    <tr>\n",
       "      <th>1</th>\n",
       "      <td>r492.romulus25si2s50v35</td>\n",
       "      <td>0.3476481143072754</td>\n",
       "      <td>0.23209327411660385</td>\n",
       "      <td>0.7529626222872049</td>\n",
       "    </tr>\n",
       "    <tr>\n",
       "      <th>2</th>\n",
       "      <td>r468.romulus25si2s50v35</td>\n",
       "      <td>0.4294321207056222</td>\n",
       "      <td>0.4134474843832192</td>\n",
       "      <td>0.9784917479322452</td>\n",
       "    </tr>\n",
       "    <tr>\n",
       "      <th>3</th>\n",
       "      <td>r488.romulus25si2s50v35</td>\n",
       "      <td>0.4120663623840779</td>\n",
       "      <td>0.3732348230569005</td>\n",
       "      <td>0.9449630178081697</td>\n",
       "    </tr>\n",
       "    <tr>\n",
       "      <th>4</th>\n",
       "      <td>r544.romulus25si2s50v35</td>\n",
       "      <td>0.5354587488546055</td>\n",
       "      <td>0.5485903306187454</td>\n",
       "      <td>1.0162731908183422</td>\n",
       "    </tr>\n",
       "    <tr>\n",
       "      <th>5</th>\n",
       "      <td>r597.romulus25si2s50v35</td>\n",
       "      <td>0.8613718597897806</td>\n",
       "      <td>0.9561813572563137</td>\n",
       "      <td>1.0722092468779865</td>\n",
       "    </tr>\n",
       "    <tr>\n",
       "      <th>6</th>\n",
       "      <td>r523.romulus25si2s50v35</td>\n",
       "      <td>0.7354563247989281</td>\n",
       "      <td>0.7039628047245143</td>\n",
       "      <td>0.971525180787976</td>\n",
       "    </tr>\n",
       "    <tr>\n",
       "      <th>7</th>\n",
       "      <td>r618.romulus25si2s50v35</td>\n",
       "      <td>0.601425276912921</td>\n",
       "      <td>0.5971241864073662</td>\n",
       "      <td>0.9954696217785157</td>\n",
       "    </tr>\n",
       "    <tr>\n",
       "      <th>8</th>\n",
       "      <td>r431.romulus25cvdXsec</td>\n",
       "      <td>0.9086647011773671</td>\n",
       "      <td>1.0335287307852075</td>\n",
       "      <td>1.0848937653844122</td>\n",
       "    </tr>\n",
       "    <tr>\n",
       "      <th>9</th>\n",
       "      <td>r492.romulus25cvdXsec</td>\n",
       "      <td>0.7005371504542621</td>\n",
       "      <td>0.6471379948294249</td>\n",
       "      <td>0.9484289518532644</td>\n",
       "    </tr>\n",
       "  </tbody>\n",
       "</table>\n",
       "</div>"
      ],
      "text/plain": [
       "                      name             rho_diff               b_diff  \\\n",
       "0  r634.romulus25si2s50v35  0.33379059328474003   0.3122065097248867   \n",
       "1  r492.romulus25si2s50v35   0.3476481143072754  0.23209327411660385   \n",
       "2  r468.romulus25si2s50v35   0.4294321207056222   0.4134474843832192   \n",
       "3  r488.romulus25si2s50v35   0.4120663623840779   0.3732348230569005   \n",
       "4  r544.romulus25si2s50v35   0.5354587488546055   0.5485903306187454   \n",
       "5  r597.romulus25si2s50v35   0.8613718597897806   0.9561813572563137   \n",
       "6  r523.romulus25si2s50v35   0.7354563247989281   0.7039628047245143   \n",
       "7  r618.romulus25si2s50v35    0.601425276912921   0.5971241864073662   \n",
       "8    r431.romulus25cvdXsec   0.9086647011773671   1.0335287307852075   \n",
       "9    r492.romulus25cvdXsec   0.7005371504542621   0.6471379948294249   \n",
       "\n",
       "               f_diff  \n",
       "0  0.9551730840608564  \n",
       "1  0.7529626222872049  \n",
       "2  0.9784917479322452  \n",
       "3  0.9449630178081697  \n",
       "4  1.0162731908183422  \n",
       "5  1.0722092468779865  \n",
       "6   0.971525180787976  \n",
       "7  0.9954696217785157  \n",
       "8  1.0848937653844122  \n",
       "9  0.9484289518532644  "
      ]
     },
     "execution_count": 7,
     "metadata": {},
     "output_type": "execute_result"
    }
   ],
   "source": [
    "df2"
   ]
  },
  {
   "cell_type": "code",
   "execution_count": 9,
   "id": "18a09f3d4a3131c0",
   "metadata": {
    "ExecuteTime": {
     "end_time": "2024-10-08T21:04:52.520356Z",
     "start_time": "2024-10-08T21:04:52.506512Z"
    }
   },
   "outputs": [
    {
     "name": "stdout",
     "output_type": "stream",
     "text": [
      "Average fractions of SIDM vs CDM, 1 = no difference\n",
      "Average Dark Matter Density: 58.66%\n",
      "Average Baryonic Density: 58.18%\n",
      "Average Baryon Fraction: 97.20%\n"
     ]
    }
   ],
   "source": [
    "#get the averages and display them\n",
    "print('Average fractions of SIDM vs CDM, 100 = no difference')\n",
    "print(f'Average Dark Matter Density: {df2[\"rho_diff\"].mean():.2%}')\n",
    "print(f'Average Baryonic Density: {df2[\"b_diff\"].mean():.2%}')\n",
    "print(f'Average Baryon Fraction: {df2[\"f_diff\"].mean():.2%}')\n",
    "\n"
   ]
  },
  {
   "cell_type": "code",
   "execution_count": null,
   "id": "c4f4273eee55f94b",
   "metadata": {},
   "outputs": [],
   "source": []
  }
 ],
 "metadata": {
  "kernelspec": {
   "display_name": "Python 3",
   "language": "python",
   "name": "python3"
  },
  "language_info": {
   "codemirror_mode": {
    "name": "ipython",
    "version": 2
   },
   "file_extension": ".py",
   "mimetype": "text/x-python",
   "name": "python",
   "nbconvert_exporter": "python",
   "pygments_lexer": "ipython2",
   "version": "2.7.6"
  }
 },
 "nbformat": 4,
 "nbformat_minor": 5
}
