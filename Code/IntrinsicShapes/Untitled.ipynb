{
 "cells": [
  {
   "cell_type": "code",
   "execution_count": 1,
   "id": "b83cc60e-9a36-497c-bf4d-2e4a2872b6d5",
   "metadata": {
    "ExecuteTime": {
     "end_time": "2024-07-05T16:33:24.454623Z",
     "start_time": "2024-07-05T16:33:23.548552Z"
    }
   },
   "outputs": [
    {
     "ename": "FileNotFoundError",
     "evalue": "[Errno 2] No such file or directory: '../Figures/halo_check_images'",
     "output_type": "error",
     "traceback": [
      "\u001b[0;31m---------------------------------------------------------------------------\u001b[0m",
      "\u001b[0;31mFileNotFoundError\u001b[0m                         Traceback (most recent call last)",
      "Cell \u001b[0;32mIn[1], line 10\u001b[0m\n\u001b[1;32m      7\u001b[0m image_base_path \u001b[38;5;241m=\u001b[39m \u001b[38;5;124m'\u001b[39m\u001b[38;5;124m../Figures/halo_check_images\u001b[39m\u001b[38;5;124m'\u001b[39m\n\u001b[1;32m      9\u001b[0m \u001b[38;5;66;03m# Assuming all your images are in a single folder and follow the 'simr431h1.png' naming convention\u001b[39;00m\n\u001b[0;32m---> 10\u001b[0m image_files \u001b[38;5;241m=\u001b[39m [f \u001b[38;5;28;01mfor\u001b[39;00m f \u001b[38;5;129;01min\u001b[39;00m \u001b[43mos\u001b[49m\u001b[38;5;241;43m.\u001b[39;49m\u001b[43mlistdir\u001b[49m\u001b[43m(\u001b[49m\u001b[43mimage_base_path\u001b[49m\u001b[43m)\u001b[49m \u001b[38;5;28;01mif\u001b[39;00m f\u001b[38;5;241m.\u001b[39mendswith(\u001b[38;5;124m'\u001b[39m\u001b[38;5;124m.png\u001b[39m\u001b[38;5;124m'\u001b[39m)]\n\u001b[1;32m     12\u001b[0m \u001b[38;5;66;03m# Prepare an empty dictionary for classifications\u001b[39;00m\n\u001b[1;32m     13\u001b[0m halo_types_dict \u001b[38;5;241m=\u001b[39m {}\n",
      "\u001b[0;31mFileNotFoundError\u001b[0m: [Errno 2] No such file or directory: '../Figures/halo_check_images'"
     ]
    }
   ],
   "source": [
    "import os\n",
    "import matplotlib.pyplot as plt\n",
    "import IPython.display as display\n",
    "import pickle\n",
    "\n",
    "# Base path where your images are stored\n",
    "image_base_path = '../Figures/halo_check_images'\n",
    "\n",
    "# Assuming all your images are in a single folder and follow the 'simr431h1.png' naming convention\n",
    "image_files = [f for f in os.listdir(image_base_path) if f.endswith('.png')]\n",
    "\n",
    "# Prepare an empty dictionary for classifications\n",
    "halo_types_dict = {}\n",
    "\n",
    "def classify_halo(image_path):\n",
    "    \"\"\"\n",
    "    Displays the image for classification.\n",
    "    This function should be adapted based on your interactive environment.\n",
    "    \"\"\"\n",
    "    img = plt.imread(image_path)\n",
    "    plt.imshow(img)\n",
    "    plt.axis('off')\n",
    "    plt.show()\n",
    "\n",
    "    # For a script, this would be manual classification,\n",
    "    # but in an interactive environment like Jupyter Notebook,\n",
    "    # you could use input() to classify each image.\n",
    "    classification = input(\"Enter classification (Central, Backsplash, Satellite): \")\n",
    "    return classification\n",
    "\n",
    "# Iterate through each image file\n",
    "for image_file in image_files:\n",
    "    # Extract simulation and halo ID from the filename\n",
    "    parts = image_file.split('h')\n",
    "    simulation_id = parts[0]  # e.g., 'simr431'\n",
    "    halo_id = parts[1].split('.')[0]  # e.g., '1'\n",
    "\n",
    "    image_path = os.path.join(image_base_path, image_file)\n",
    "\n",
    "    # Call the function to display the image and classify\n",
    "    classification = classify_halo(image_path)\n",
    "\n",
    "    # Store the classification in the dictionary\n",
    "    if simulation_id not in halo_types_dict:\n",
    "        halo_types_dict[simulation_id] = {}\n",
    "    halo_types_dict[simulation_id][halo_id] = classification\n",
    "\n",
    "    # Clear the output to prepare for the next image\n",
    "    display.clear_output(wait=True)\n",
    "\n",
    "# Once classification is done, convert the dictionary to the format expected by 'HaloTypes.txt'\n",
    "with open('HaloTypes.txt', 'w') as file:\n",
    "    file.write(\"SimulationID\\tHaloID\\tType\\n\")  # Writing header\n",
    "    for sim, halos in halo_types_dict.items():\n",
    "        for hid, type in halos.items():\n",
    "            file.write(f\"{sim}\\t{hid}\\t{type}\\n\")\n",
    "\n",
    "print(\"Classification completed and saved to HaloTypes.txt.\")\n"
   ]
  },
  {
   "cell_type": "code",
   "execution_count": 7,
   "id": "7df75fd542f7383b",
   "metadata": {
    "ExecuteTime": {
     "end_time": "2024-07-05T18:15:06.033095Z",
     "start_time": "2024-07-05T18:15:05.999126Z"
    }
   },
   "outputs": [
    {
     "name": "stderr",
     "output_type": "stream",
     "text": [
      "pynbody.snapshot.tipsy : Loading /data/REPOSITORY/romulus_zooms/r431.romulus25.3072g1HsbBH/r431.romulus25.3072g1HsbBH.004096/r431.romulus25.3072g1HsbBH.004096\n",
      "pynbody.snapshot : Loading using backend <class 'pynbody.snapshot.tipsy.TipsySnap'>\n",
      "pynbody.snapshot.tipsy : Loading /data/REPOSITORY/romulus_zooms/r431.romulus25.3072g1HsbBH/r431.romulus25.3072g1HsbBH.004096/r431.romulus25.3072g1HsbBH.004096\n"
     ]
    }
   ],
   "source": [
    "#import BWMDC sims from ../PickleFiles/SimulationInfo.pickle\n",
    "import pickle\n",
    "import pynbody\n",
    "with open('../PickleFiles/SimulationInfo.MerianCDM.pickle', 'rb') as f:\n",
    "    sims = pickle.load(f)\n",
    "#open sim 'cptmarvel' and load halo catalog\n",
    "sim = sims['r431']\n",
    "\n",
    "s = pynbody.load(sim['path'])\n",
    "s.physical_units()"
   ]
  },
  {
   "cell_type": "code",
   "execution_count": 8,
   "id": "312a94cf-fd03-4500-b23c-338fa5092329",
   "metadata": {
    "ExecuteTime": {
     "end_time": "2024-07-05T18:16:37.290596Z",
     "start_time": "2024-07-05T18:16:27.503391Z"
    }
   },
   "outputs": [
    {
     "name": "stderr",
     "output_type": "stream",
     "text": [
      "pynbody.snapshot.tipsy : Attempting to load auxiliary array /data/REPOSITORY/romulus_zooms/r431.romulus25.3072g1HsbBH/r431.romulus25.3072g1HsbBH.004096/r431.romulus25.3072g1HsbBH.004096.amiga.grp\n"
     ]
    }
   ],
   "source": [
    "\n",
    "h = s.halos()\n",
    "\n"
   ]
  },
  {
   "cell_type": "code",
   "execution_count": 9,
   "id": "ca531612244b4854",
   "metadata": {
    "ExecuteTime": {
     "end_time": "2024-07-05T18:16:37.544293Z",
     "start_time": "2024-07-05T18:16:37.292132Z"
    }
   },
   "outputs": [],
   "source": [
    "halo = h[1]"
   ]
  },
  {
   "cell_type": "code",
   "execution_count": 36,
   "id": "6bdaa7b9b5017dc8",
   "metadata": {
    "ExecuteTime": {
     "end_time": "2024-07-05T18:23:34.866517Z",
     "start_time": "2024-07-05T18:23:24.829214Z"
    }
   },
   "outputs": [
    {
     "name": "stderr",
     "output_type": "stream",
     "text": [
      "pynbody.analysis._com : Initial rough COM=[-0.00604414  0.01859719 -0.03371759]\n",
      "pynbody.analysis.halo : Final SSC=[ 2.07147071e-13 -5.16958438e-15 -1.20242358e-14]\n",
      "pynbody.analysis.halo : Finding halo velocity center...\n",
      "pynbody.analysis.halo : vcen=[ 1.61617195e-12 -1.21437145e-13 -8.83307160e-13]\n",
      "pynbody.analysis.halo : target_rho=7001.256566624509\n",
      "pynbody.snapshot.tipsy : Attempting to load auxiliary array /data/REPOSITORY/romulus_zooms/r431.romulus25.3072g1HsbBH/r431.romulus25.3072g1HsbBH.004096/r431.romulus25.3072g1HsbBH.004096.r\n",
      "pynbody.snapshot.tipsy : Attempting to load auxiliary array /data/REPOSITORY/romulus_zooms/r431.romulus25.3072g1HsbBH/r431.romulus25.3072g1HsbBH.004096/r431.romulus25.3072g1HsbBH.004096.r\n",
      "pynbody.snapshot.simsnap : Deriving array r\n",
      "pynbody.util : Entering bisection search algorithm\n",
      "pynbody.util : 0.000000 121.789612 243.579224 -5946.303188\n",
      "pynbody.util : 121.789612 182.684418 243.579224 3161.080617\n",
      "pynbody.util : 121.789612 152.237015 182.684418 365.432525\n",
      "pynbody.util : 121.789612 137.013313 152.237015 -2101.382722\n",
      "pynbody.util : 137.013313 144.625164 152.237015 -738.441980\n",
      "pynbody.util : 144.625164 148.431089 152.237015 -158.215755\n",
      "pynbody.util : 148.431089 150.334052 152.237015 110.235959\n",
      "pynbody.util : 148.431089 149.382571 150.334052 -22.280072\n",
      "pynbody.util : 149.382571 149.858311 150.334052 44.398626\n",
      "pynbody.util : 149.382571 149.620441 149.858311 11.165284\n",
      "pynbody.util : 149.382571 149.501506 149.620441 -5.530787\n"
     ]
    },
    {
     "name": "stdout",
     "output_type": "stream",
     "text": [
      "149.50150598483938\n"
     ]
    }
   ],
   "source": [
    "pynbody.analysis.halo.center(halo, mode='hyb')\n",
    "rvir = pynbody.analysis.halo.virial_radius(halo,overden=178)\n",
    "print(rvir)"
   ]
  },
  {
   "cell_type": "code",
   "execution_count": 28,
   "id": "7ac57bc6ebddcebc",
   "metadata": {
    "ExecuteTime": {
     "end_time": "2024-07-05T18:20:52.852842Z",
     "start_time": "2024-07-05T18:20:52.849050Z"
    }
   },
   "outputs": [],
   "source": [
    "rvir2 = halo.all_keys()"
   ]
  },
  {
   "cell_type": "code",
   "execution_count": 43,
   "id": "4d4f6bfc1bb4e125",
   "metadata": {
    "ExecuteTime": {
     "end_time": "2024-07-05T18:25:10.996741Z",
     "start_time": "2024-07-05T18:25:10.990761Z"
    }
   },
   "outputs": [
    {
     "name": "stdout",
     "output_type": "stream",
     "text": [
      "dict_keys(['omegaM0', 'omegaL0', 'h', 'boxsize', 'a', 'time', 'halo_id'])\n"
     ]
    }
   ],
   "source": [
    "rvir2 = h[1].properties.keys()\n",
    "\n",
    "print(rvir2)"
   ]
  },
  {
   "cell_type": "code",
   "execution_count": 44,
   "id": "8ffc9dcfb5f76523",
   "metadata": {
    "ExecuteTime": {
     "end_time": "2024-07-05T18:41:22.659105Z",
     "start_time": "2024-07-05T18:41:22.652917Z"
    }
   },
   "outputs": [
    {
     "ename": "SyntaxError",
     "evalue": "expected 'except' or 'finally' block (498971299.py, line 3)",
     "output_type": "error",
     "traceback": [
      "\u001b[0;36m  Cell \u001b[0;32mIn[44], line 3\u001b[0;36m\u001b[0m\n\u001b[0;31m    try:\u001b[0m\n\u001b[0m    ^\u001b[0m\n\u001b[0;31mSyntaxError\u001b[0m\u001b[0;31m:\u001b[0m expected 'except' or 'finally' block\n"
     ]
    }
   ],
   "source": []
  },
  {
   "cell_type": "code",
   "execution_count": null,
   "id": "1edc240843e99c1c",
   "metadata": {},
   "outputs": [],
   "source": []
  }
 ],
 "metadata": {
  "kernelspec": {
   "display_name": "Python 3 (ipykernel)",
   "language": "python",
   "name": "python3"
  },
  "language_info": {
   "codemirror_mode": {
    "name": "ipython",
    "version": 3
   },
   "file_extension": ".py",
   "mimetype": "text/x-python",
   "name": "python",
   "nbconvert_exporter": "python",
   "pygments_lexer": "ipython3",
   "version": "3.9.18"
  }
 },
 "nbformat": 4,
 "nbformat_minor": 5
}
