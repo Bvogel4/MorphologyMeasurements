{
 "cells": [
  {
   "cell_type": "code",
   "execution_count": 2,
   "id": "initial_id",
   "metadata": {
    "ExecuteTime": {
     "end_time": "2024-07-15T19:08:00.472244Z",
     "start_time": "2024-07-15T19:08:00.469141Z"
    },
    "collapsed": true
   },
   "outputs": [],
   "source": [
    "import pickle\n",
    "sims = pickle.load(open('SimulationInfo.BWMDC.pickle', 'rb'))"
   ]
  },
  {
   "cell_type": "code",
   "execution_count": null,
   "id": "3473ac5c61fa4547",
   "metadata": {
    "jupyter": {
     "is_executing": true
    }
   },
   "outputs": [],
   "source": [
    "print(sims.keys())"
   ]
  },
  {
   "cell_type": "code",
   "execution_count": 6,
   "id": "4b5231a6b222e00b",
   "metadata": {
    "ExecuteTime": {
     "end_time": "2024-07-15T19:08:31.584704Z",
     "start_time": "2024-07-15T19:08:31.578528Z"
    }
   },
   "outputs": [
    {
     "name": "stdout",
     "output_type": "stream",
     "text": [
      "cptmarvel\n",
      "[1, 2, 3, 5, 6, 7, 10]\n",
      "elektra\n",
      "[1, 2, 3, 4, 5, 9, 10]\n",
      "storm\n",
      "[1, 2, 3, 4, 5, 6, 7, 8, 14, 31]\n",
      "rogue\n",
      "[1, 3, 7, 8, 10, 11, 12, 15, 28]\n",
      "h148\n",
      "[2, 3, 4, 6, 7, 11, 12, 23, 27, 38, 65]\n",
      "h229\n",
      "[2, 3, 6, 18]\n",
      "h242\n",
      "[8, 10]\n",
      "h329\n",
      "[7]\n"
     ]
    }
   ],
   "source": [
    "for sim in sims:\n",
    "    print(sim)\n",
    "    print(sims[sim]['goodhalos'])"
   ]
  },
  {
   "cell_type": "code",
   "execution_count": null,
   "id": "18d52453d90d338f",
   "metadata": {},
   "outputs": [],
   "source": []
  }
 ],
 "metadata": {
  "kernelspec": {
   "display_name": "Python 3",
   "language": "python",
   "name": "python3"
  },
  "language_info": {
   "codemirror_mode": {
    "name": "ipython",
    "version": 2
   },
   "file_extension": ".py",
   "mimetype": "text/x-python",
   "name": "python",
   "nbconvert_exporter": "python",
   "pygments_lexer": "ipython2",
   "version": "2.7.6"
  }
 },
 "nbformat": 4,
 "nbformat_minor": 5
}
