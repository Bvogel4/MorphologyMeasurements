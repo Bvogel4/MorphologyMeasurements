{
 "cells": [
  {
   "cell_type": "code",
   "execution_count": 39,
   "id": "0f3b4f0e-ded3-46a7-8c9e-0c8a0f75f2b5",
   "metadata": {},
   "outputs": [],
   "source": [
    "import pynbody\n",
    "import numpy as np\n",
    "from collections import Counter\n",
    "\n",
    "# Load the simulations\n",
    "\n",
    "s1path = '/data/REPOSITORY/dwarf_volumes/storm.cosmo25cmb.4096/storm.cosmo25cmb.4096.004096'\n",
    "s2path = '/data/akaxia/storm/storm.cosmo25cmbsi2s50v35.4096/storm.cosmo25cmbsi2s50v35.4096.004096'"
   ]
  },
  {
   "cell_type": "code",
   "execution_count": 41,
   "id": "9b32f9cf-63b6-40d6-9aac-94b340156e44",
   "metadata": {},
   "outputs": [
    {
     "name": "stdout",
     "output_type": "stream",
     "text": [
      "File missing: /data/REPOSITORY/dwarf_volumes/storm.cosmo25cmb.4096/storm.cosmo25cmb.4096.004096/.AHF_halos\n",
      "File missing: /data/REPOSITORY/dwarf_volumes/storm.cosmo25cmb.4096/storm.cosmo25cmb.4096.004096/.AHF_particles\n"
     ]
    }
   ],
   "source": [
    "import os\n",
    "\n",
    "# Define the directory containing your simulation data\n",
    "sim_directory = s1path\n",
    "\n",
    "# List expected halo finder files\n",
    "expected_files = ['.AHF_halos', '.AHF_particles']  # Add other related file extensions\n",
    "\n",
    "# Check each file\n",
    "for file_extension in expected_files:\n",
    "    file_path = os.path.join(sim_directory, file_extension)\n",
    "    if os.path.exists(file_path):\n",
    "        print(f\"File found: {file_path}\")\n",
    "        # Optionally, check for file size or open and read first few lines\n",
    "        print(\"First 100 characters of the file:\")\n",
    "        with open(file_path, 'r') as file:\n",
    "            print(file.read(100))\n",
    "    else:\n",
    "        print(f\"File missing: {file_path}\")\n"
   ]
  },
  {
   "cell_type": "code",
   "execution_count": null,
   "id": "fc338e48-fd5d-4a9e-9e4a-ad485e55facb",
   "metadata": {},
   "outputs": [
    {
     "name": "stdout",
     "output_type": "stream",
     "text": [
      "load sim 1\n",
      "sim 1 loaded, load sim 2\n",
      "sim 2 loaded\n"
     ]
    }
   ],
   "source": [
    "print('load sim 1')\n",
    "s_1 = pynbody.load(s1path)\n",
    "print('sim 1 loaded, load sim 2')\n",
    "s_2 = s_1 #pynbody.load(s2path)\n",
    "print('sim 2 loaded')"
   ]
  },
  {
   "cell_type": "code",
   "execution_count": 36,
   "id": "d5043738-3d59-4a86-be56-bc85cd4bef03",
   "metadata": {},
   "outputs": [
    {
     "name": "stdout",
     "output_type": "stream",
     "text": [
      "load halos sim 1\n",
      "halos sim 1 loaded, halos sim 2\n"
     ]
    },
    {
     "name": "stderr",
     "output_type": "stream",
     "text": [
      "pynbody.halo : An error occurred while reading substructure file. Falling back to using the halo info.\n"
     ]
    },
    {
     "name": "stdout",
     "output_type": "stream",
     "text": [
      "halos sim 2 loaded\n"
     ]
    }
   ],
   "source": [
    "# Load the halo catalogues - assuming AHF halos\n",
    "print('load halos sim 1')\n",
    "h_1 = s_1.halos()\n",
    "print('halos sim 1 loaded, load halos sim 2')\n",
    "h_2 = s_2.halos()\n",
    "print('halos sim 2 loaded')"
   ]
  },
  {
   "cell_type": "code",
   "execution_count": 32,
   "id": "a1c4b9f6-a947-4edf-8c7b-6e418fa65864",
   "metadata": {},
   "outputs": [
    {
     "name": "stdout",
     "output_type": "stream",
     "text": [
      "['pos', 'eps', 'mass', 'amiga.grp', 'phi', 'vel']\n",
      "['pos', 'den', 'iord', 'nsidm', 'dtsidm', 'eps', 'mass', 'phi', 'vel']\n"
     ]
    }
   ],
   "source": [
    "print(h_1[1].dm.loadable_keys())\n",
    "print(h_2[1][1].dm.loadable_keys())"
   ]
  },
  {
   "cell_type": "code",
   "execution_count": 34,
   "id": "d81d618d-13fa-47e6-9a96-40c85b9df62f",
   "metadata": {},
   "outputs": [
    {
     "ename": "KeyError",
     "evalue": "'No array iord for family dm'",
     "output_type": "error",
     "traceback": [
      "\u001b[0;31m---------------------------------------------------------------------------\u001b[0m",
      "\u001b[0;31mKeyError\u001b[0m                                  Traceback (most recent call last)",
      "Cell \u001b[0;32mIn[34], line 5\u001b[0m\n\u001b[1;32m      3\u001b[0m \u001b[38;5;66;03m# Iterate over halos in the first simulation\u001b[39;00m\n\u001b[1;32m      4\u001b[0m \u001b[38;5;28;01mfor\u001b[39;00m i \u001b[38;5;129;01min\u001b[39;00m \u001b[38;5;28mrange\u001b[39m(\u001b[38;5;241m1\u001b[39m, \u001b[38;5;241m7\u001b[39m):  \u001b[38;5;66;03m# Adjust range if needed\u001b[39;00m\n\u001b[0;32m----> 5\u001b[0m     iord_1 \u001b[38;5;241m=\u001b[39m \u001b[43mh_1\u001b[49m\u001b[43m[\u001b[49m\u001b[43mi\u001b[49m\u001b[43m]\u001b[49m\u001b[38;5;241;43m.\u001b[39;49m\u001b[43mdm\u001b[49m\u001b[43m[\u001b[49m\u001b[38;5;124;43m'\u001b[39;49m\u001b[38;5;124;43miord\u001b[39;49m\u001b[38;5;124;43m'\u001b[39;49m\u001b[43m]\u001b[49m\n\u001b[1;32m      6\u001b[0m     num_particles_1 \u001b[38;5;241m=\u001b[39m \u001b[38;5;28mlen\u001b[39m(iord_1)  \u001b[38;5;66;03m# Total particles in halo i from sim 1\u001b[39;00m\n\u001b[1;32m      8\u001b[0m     \u001b[38;5;66;03m# Iterate over halos in the second simulation\u001b[39;00m\n",
      "File \u001b[0;32m~/miniconda3/envs/pynbody/lib/python3.9/site-packages/pynbody/snapshot/simsnap.py:241\u001b[0m, in \u001b[0;36mSimSnap.__getitem__\u001b[0;34m(self, i)\u001b[0m\n\u001b[1;32m    238\u001b[0m \u001b[38;5;28;01mfrom\u001b[39;00m \u001b[38;5;21;01m.\u001b[39;00m \u001b[38;5;28;01mimport\u001b[39;00m subsnap\n\u001b[1;32m    240\u001b[0m \u001b[38;5;28;01mif\u001b[39;00m \u001b[38;5;28misinstance\u001b[39m(i, \u001b[38;5;28mstr\u001b[39m):\n\u001b[0;32m--> 241\u001b[0m     \u001b[38;5;28;01mreturn\u001b[39;00m \u001b[38;5;28;43mself\u001b[39;49m\u001b[38;5;241;43m.\u001b[39;49m\u001b[43m_get_array_with_lazy_actions\u001b[49m\u001b[43m(\u001b[49m\u001b[43mi\u001b[49m\u001b[43m)\u001b[49m\n\u001b[1;32m    242\u001b[0m \u001b[38;5;28;01melif\u001b[39;00m \u001b[38;5;28misinstance\u001b[39m(i, \u001b[38;5;28mslice\u001b[39m):\n\u001b[1;32m    243\u001b[0m     \u001b[38;5;28;01mreturn\u001b[39;00m subsnap\u001b[38;5;241m.\u001b[39mSubSnap(\u001b[38;5;28mself\u001b[39m, i)\n",
      "File \u001b[0;32m~/miniconda3/envs/pynbody/lib/python3.9/site-packages/pynbody/snapshot/simsnap.py:343\u001b[0m, in \u001b[0;36mSimSnap._get_array_with_lazy_actions\u001b[0;34m(self, name)\u001b[0m\n\u001b[1;32m    340\u001b[0m     \u001b[38;5;28;01mif\u001b[39;00m \u001b[38;5;129;01mnot\u001b[39;00m \u001b[38;5;28mself\u001b[39m\u001b[38;5;241m.\u001b[39mlazy_derive_off:\n\u001b[1;32m    341\u001b[0m         \u001b[38;5;28mself\u001b[39m\u001b[38;5;241m.\u001b[39m__derive_if_required(name)\n\u001b[0;32m--> 343\u001b[0m \u001b[38;5;28;01mreturn\u001b[39;00m \u001b[38;5;28;43mself\u001b[39;49m\u001b[38;5;241;43m.\u001b[39;49m\u001b[43m_get_array\u001b[49m\u001b[43m(\u001b[49m\u001b[43mname\u001b[49m\u001b[43m)\u001b[49m\n",
      "File \u001b[0;32m~/miniconda3/envs/pynbody/lib/python3.9/site-packages/pynbody/snapshot/subsnap.py:337\u001b[0m, in \u001b[0;36mFamilySubSnap._get_array\u001b[0;34m(self, name, index, always_writable)\u001b[0m\n\u001b[1;32m    335\u001b[0m     \u001b[38;5;28;01mreturn\u001b[39;00m SubSnap\u001b[38;5;241m.\u001b[39m_get_array(\u001b[38;5;28mself\u001b[39m, name, index, always_writable)\n\u001b[1;32m    336\u001b[0m \u001b[38;5;28;01mexcept\u001b[39;00m \u001b[38;5;167;01mKeyError\u001b[39;00m:\n\u001b[0;32m--> 337\u001b[0m     \u001b[38;5;28;01mreturn\u001b[39;00m \u001b[38;5;28;43mself\u001b[39;49m\u001b[38;5;241;43m.\u001b[39;49m\u001b[43m_subsnap_base\u001b[49m\u001b[38;5;241;43m.\u001b[39;49m\u001b[43m_get_family_array\u001b[49m\u001b[43m(\u001b[49m\u001b[43mname\u001b[49m\u001b[43m,\u001b[49m\u001b[43m \u001b[49m\u001b[38;5;28;43mself\u001b[39;49m\u001b[38;5;241;43m.\u001b[39;49m\u001b[43m_unifamily\u001b[49m\u001b[43m,\u001b[49m\u001b[43m \u001b[49m\u001b[43mindex\u001b[49m\u001b[43m,\u001b[49m\u001b[43m \u001b[49m\u001b[43malways_writable\u001b[49m\u001b[43m)\u001b[49m\n",
      "File \u001b[0;32m~/miniconda3/envs/pynbody/lib/python3.9/site-packages/pynbody/snapshot/subsnap.py:288\u001b[0m, in \u001b[0;36mIndexedSubSnap._get_family_array\u001b[0;34m(self, name, fam, index, always_writable)\u001b[0m\n\u001b[1;32m    285\u001b[0m sl \u001b[38;5;241m=\u001b[39m \u001b[38;5;28mself\u001b[39m\u001b[38;5;241m.\u001b[39m_family_indices\u001b[38;5;241m.\u001b[39mget(fam,\u001b[38;5;28mslice\u001b[39m(\u001b[38;5;241m0\u001b[39m,\u001b[38;5;241m0\u001b[39m))\n\u001b[1;32m    286\u001b[0m sl \u001b[38;5;241m=\u001b[39m util\u001b[38;5;241m.\u001b[39mconcatenate_indexing(sl, index)\n\u001b[0;32m--> 288\u001b[0m \u001b[38;5;28;01mreturn\u001b[39;00m \u001b[38;5;28;43mself\u001b[39;49m\u001b[38;5;241;43m.\u001b[39;49m\u001b[43m_subsnap_base\u001b[49m\u001b[38;5;241;43m.\u001b[39;49m\u001b[43m_get_family_array\u001b[49m\u001b[43m(\u001b[49m\u001b[43mname\u001b[49m\u001b[43m,\u001b[49m\u001b[43m \u001b[49m\u001b[43mfam\u001b[49m\u001b[43m,\u001b[49m\u001b[43m \u001b[49m\u001b[43msl\u001b[49m\u001b[43m,\u001b[49m\u001b[43m \u001b[49m\u001b[43malways_writable\u001b[49m\u001b[43m)\u001b[49m\n",
      "File \u001b[0;32m~/miniconda3/envs/pynbody/lib/python3.9/site-packages/pynbody/snapshot/simsnap.py:1237\u001b[0m, in \u001b[0;36mSimSnap._get_family_array\u001b[0;34m(self, name, fam, index, always_writable)\u001b[0m\n\u001b[1;32m   1235\u001b[0m     x \u001b[38;5;241m=\u001b[39m \u001b[38;5;28mself\u001b[39m\u001b[38;5;241m.\u001b[39m_family_arrays[name][fam]\n\u001b[1;32m   1236\u001b[0m \u001b[38;5;28;01mexcept\u001b[39;00m \u001b[38;5;167;01mKeyError\u001b[39;00m:\n\u001b[0;32m-> 1237\u001b[0m     \u001b[38;5;28;01mraise\u001b[39;00m \u001b[38;5;167;01mKeyError\u001b[39;00m(\u001b[38;5;124m\"\u001b[39m\u001b[38;5;124mNo array \u001b[39m\u001b[38;5;124m\"\u001b[39m \u001b[38;5;241m+\u001b[39m name \u001b[38;5;241m+\u001b[39m \u001b[38;5;124m\"\u001b[39m\u001b[38;5;124m for family \u001b[39m\u001b[38;5;124m\"\u001b[39m \u001b[38;5;241m+\u001b[39m fam\u001b[38;5;241m.\u001b[39mname) \u001b[38;5;28;01mfrom\u001b[39;00m \u001b[38;5;28;01mNone\u001b[39;00m\n\u001b[1;32m   1239\u001b[0m \u001b[38;5;28;01mif\u001b[39;00m x\u001b[38;5;241m.\u001b[39mderived \u001b[38;5;129;01mand\u001b[39;00m \u001b[38;5;129;01mnot\u001b[39;00m always_writable:\n\u001b[1;32m   1240\u001b[0m     x \u001b[38;5;241m=\u001b[39m x\u001b[38;5;241m.\u001b[39mview()\n",
      "\u001b[0;31mKeyError\u001b[0m: 'No array iord for family dm'"
     ]
    }
   ],
   "source": [
    "halo_match_counter = {}\n",
    "\n",
    "# Iterate over halos in the first simulation\n",
    "for i in range(1, 7):  # Adjust range if needed\n",
    "    iord_1 = h_1[i].dm['iord']\n",
    "    num_particles_1 = len(iord_1)  # Total particles in halo i from sim 1\n",
    "\n",
    "    # Iterate over halos in the second simulation\n",
    "    for j in range(1, 7):  # Adjust range if needed\n",
    "        \n",
    "        iord_2 = h_2[j].dm['iord']\n",
    "        common_particles = np.intersect1d(iord_1, iord_2)\n",
    "        total_common = len(common_particles)\n",
    "\n",
    "        # Calculate overlap as a percentage of each halo's particle count\n",
    "        overlap_1 = (total_common / num_particles_1) * 100\n",
    "\n",
    "        # Check if overlap meets the minimum threshold\n",
    "        if overlap_1 >= min_overlap_percentage:\n",
    "            if (i, j) not in halo_match_counter:\n",
    "                halo_match_counter[(i, j)] = overlap_1\n",
    "\n",
    "# Print the best matches that meet the criteria\n",
    "for match, overlap in sorted(halo_match_counter.items(), key=lambda x: x[1], reverse=True):\n",
    "    print(f'Halo {match[0]} in Simulation 1 matches Halo {match[1]} in Simulation 2 with {overlap:.2f}% overlap of particle IDs.')\n"
   ]
  },
  {
   "cell_type": "code",
   "execution_count": null,
   "id": "d4c48aa1-4381-43f0-b1aa-85d96dfd8fa8",
   "metadata": {},
   "outputs": [],
   "source": []
  }
 ],
 "metadata": {
  "kernelspec": {
   "display_name": "Python 3 (ipykernel)",
   "language": "python",
   "name": "python3"
  },
  "language_info": {
   "codemirror_mode": {
    "name": "ipython",
    "version": 3
   },
   "file_extension": ".py",
   "mimetype": "text/x-python",
   "name": "python",
   "nbconvert_exporter": "python",
   "pygments_lexer": "ipython3",
   "version": "3.9.18"
  }
 },
 "nbformat": 4,
 "nbformat_minor": 5
}
