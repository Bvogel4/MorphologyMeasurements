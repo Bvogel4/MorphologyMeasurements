{
 "cells": [
  {
   "cell_type": "code",
   "execution_count": 10,
   "id": "c8764575-8e60-4c65-bdf3-046229cecfb3",
   "metadata": {},
   "outputs": [],
   "source": [
    "import csv\n",
    "\n",
    "# Path to your CSV file\n",
    "csv_file_path = 'Storm_SIDM_good_halos.txt'\n",
    "\n",
    "# Reading numbers from the CSV file\n",
    "numbers = []\n",
    "with open(csv_file_path, newline='') as csvfile:\n",
    "    reader = csv.reader(csvfile)\n",
    "    for row in reader:\n",
    "        if row:  # Checking to make sure the row is not empty\n",
    "            numbers.append(int(row[0]))  # Assuming each row contains one number\n",
    "\n",
    "# Creating the dictionary\n",
    "akaxia_dict = {\n",
    "    'Sims': {\n",
    "        'storm': {\n",
    "            'path': '/data/akaxia/storm/storm.cosmo25cmbsi2s50v35.4096/storm.cosmo25cmbsi2s50v35.4096.004096',\n",
    "            'halos': numbers,\n",
    "            'goodhalos': numbers.copy()\n",
    "        }\n",
    "    }\n",
    "}\n",
    "\n",
    "# Writing the dictionary to a Python file\n",
    "with open('akaxia.py', 'w') as py_file:\n",
    "    # Accessing the 'storm' dictionary within 'Sims'\n",
    "    #py_file.write('Storm = ' + repr(akaxia_dict['Sims']['storm']) + '\\n\\n')\n",
    "    py_file.write('Sims = ' + repr(akaxia_dict['Sims']) + '\\n')\n"
   ]
  },
  {
   "cell_type": "code",
   "execution_count": 14,
   "id": "b44e9666-32c3-469a-8ca6-2653921e9ae9",
   "metadata": {},
   "outputs": [],
   "source": [
    "import csv\n",
    "\n",
    "# Path to your CSV file\n",
    "csv_file_path = 'storm_CDM_good_halos.txt'\n",
    "\n",
    "# Reading numbers from the CSV file\n",
    "numbers = []\n",
    "with open(csv_file_path, newline='') as csvfile:\n",
    "    reader = csv.reader(csvfile)\n",
    "    for row in reader:\n",
    "        if row:  # Checking to make sure the row is not empty\n",
    "            numbers.append(int(row[0]))  # Assuming each row contains one number\n",
    "\n",
    "# Creating the dictionary\n",
    "akaxia_dict = {\n",
    "    'Sims': {\n",
    "        'storm': {\n",
    "            'path': '/data/REPOSITORY/dwarf_volumes/storm.cosmo25cmb.4096/storm.cosmo25cmb.4096.004096',\n",
    "            'halos': numbers,\n",
    "            'goodhalos': numbers.copy()\n",
    "        }\n",
    "    }\n",
    "}\n",
    "\n",
    "# Writing the dictionary to a Python file\n",
    "with open('stormCDM.py', 'w') as py_file:\n",
    "    #py_file.write('Storm = ' + repr(akaxia_dict['Sims']['storm']) + '\\n\\n')\n",
    "    py_file.write('Sims = ' + repr(akaxia_dict['Sims']) + '\\n')\n"
   ]
  },
  {
   "cell_type": "code",
   "execution_count": null,
   "id": "595a050e-a333-4f2d-ba81-646ef4396f8a",
   "metadata": {},
   "outputs": [],
   "source": []
  }
 ],
 "metadata": {
  "kernelspec": {
   "display_name": "Python 3 (ipykernel)",
   "language": "python",
   "name": "python3"
  },
  "language_info": {
   "codemirror_mode": {
    "name": "ipython",
    "version": 3
   },
   "file_extension": ".py",
   "mimetype": "text/x-python",
   "name": "python",
   "nbconvert_exporter": "python",
   "pygments_lexer": "ipython3",
   "version": "3.9.18"
  }
 },
 "nbformat": 4,
 "nbformat_minor": 5
}
