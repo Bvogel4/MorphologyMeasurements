{
 "cells": [
  {
   "cell_type": "code",
   "execution_count": 1,
   "id": "initial_id",
   "metadata": {
    "ExecuteTime": {
     "end_time": "2024-06-12T21:23:53.278846Z",
     "start_time": "2024-06-12T21:23:52.969402Z"
    },
    "collapsed": true
   },
   "outputs": [],
   "source": [
    "import pynbody\n",
    "star_family = pynbody.family.get_family('star')"
   ]
  },
  {
   "cell_type": "code",
   "execution_count": 2,
   "id": "8783c3bcb28ca12a",
   "metadata": {
    "ExecuteTime": {
     "end_time": "2024-06-12T21:23:57.071683Z",
     "start_time": "2024-06-12T21:23:57.064572Z"
    }
   },
   "outputs": [
    {
     "name": "stdout",
     "output_type": "stream",
     "text": [
      "star\n"
     ]
    }
   ],
   "source": [
    "print(star_family)"
   ]
  },
  {
   "cell_type": "code",
   "execution_count": null,
   "id": "5fba2776b1251803",
   "metadata": {},
   "outputs": [],
   "source": []
  }
 ],
 "metadata": {
  "kernelspec": {
   "display_name": "Python 3",
   "language": "python",
   "name": "python3"
  },
  "language_info": {
   "codemirror_mode": {
    "name": "ipython",
    "version": 2
   },
   "file_extension": ".py",
   "mimetype": "text/x-python",
   "name": "python",
   "nbconvert_exporter": "python",
   "pygments_lexer": "ipython2",
   "version": "2.7.6"
  }
 },
 "nbformat": 4,
 "nbformat_minor": 5
}
