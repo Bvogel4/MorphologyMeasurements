{
 "cells": [
  {
   "cell_type": "code",
   "execution_count": 28,
   "id": "initial_id",
   "metadata": {
    "ExecuteTime": {
     "end_time": "2024-10-29T21:45:01.468518Z",
     "start_time": "2024-10-29T21:45:01.455604Z"
    },
    "collapsed": true
   },
   "outputs": [],
   "source": [
    "import pynbody\n",
    "import numpy as np\n",
    "import scipy.optimize\n"
   ]
  },
  {
   "cell_type": "code",
   "execution_count": 29,
   "id": "f29bbd56721b4c66",
   "metadata": {
    "ExecuteTime": {
     "end_time": "2024-10-29T21:45:01.760303Z",
     "start_time": "2024-10-29T21:45:01.746235Z"
    }
   },
   "outputs": [],
   "source": [
    "def CoreRadius (alpha_1, alpha_2, x, x_1,  x_2, beta_1, gamma_1):\n",
    "    return(10**alpha_1*((alpha_2 + (x/x_1))**(-beta_1))*((x/x_2)**gamma_1))\n",
    "\n",
    "def s_radius(r_2, x, x_3, x_4, beta_2, BETA, gamma_2):\n",
    "    return(r_2*((1+x/x_3)**-beta_2)+(BETA*(x/x_4)**gamma_2))\n",
    "\n",
    "def S_CoreEinasto(r,rho_s,r_s,r_c,a, x, y0):\n",
    "    return( x * -0.1 + y0)\n",
    "### could also multiply x by a random interger that is a good guess for the slope that you are calculating (between -1 and 0)\n",
    "\n",
    "###Need to make sure that this code is changed if you're switching between simulations, set halo=sim_halo\n",
    "def CoreEinasto(S_CoreEinasto, halo, core_rad):\n",
    "    halo=halo\n",
    "    pynbody.analysis.angmom.faceon(halo)\n",
    "    if core_rad > 10:\n",
    "        prof = pynbody.analysis.profile.Profile(halo.dm, vmin =.25, max=core_rad, ndim=3)\n",
    "    else:\n",
    "        prof = pynbody.analysis.profile.Profile(halo.dm, vmin =.25, max=10, ndim=3)\n",
    "    if RADIUS > 1:\n",
    "        N = (prof['rbins'] < RADIUS).sum()\n",
    "    else:\n",
    "        N = (prof['rbins'] < 1).sum()\n",
    "    x,y = np.log10(prof['rbins'][:N+1]),np.log10(prof['density'][:N+1])\n",
    "    y[np.isneginf(y)] = 0.1\n",
    "    par,err = scipy.optimize.curve_fit(S_CoreEinasto,x,y)\n",
    "    x_in = np.log10(prof['rbins'][:N+1][(prof['rbins'][:N+1]<par[2])])\n",
    "    y_in = np.log10(prof['density'][:N+1][(prof['rbins'][:N+1]<par[2])])\n",
    "    y_in[np.isneginf(y_in)] = 0.1\n",
    "    if len(x_in) > 0:\n",
    "        line =  np.polyfit(x_in,y_in,1)\n",
    "    else:\n",
    "        x_in = np.log10(prof['rbins'][:N+1])\n",
    "        y_in = np.log10(prof['density'][:N+1])\n",
    "        y_in[np.isneginf(y_in)] = 0.1\n",
    "        line =  np.polyfit(x_in,y_in,1)\n",
    "    return(line)"
   ]
  },
  {
   "cell_type": "code",
   "execution_count": 12,
   "id": "c3b1de517b8350b4",
   "metadata": {
    "ExecuteTime": {
     "end_time": "2024-10-29T21:48:23.791222Z",
     "start_time": "2024-10-29T21:48:23.778574Z"
    }
   },
   "outputs": [
    {
     "name": "stdout",
     "output_type": "stream",
     "text": [
      "r492.romulus25.3072g1HsbBH\n"
     ]
    }
   ],
   "source": [
    "import os\n",
    "#os.environ['TANGOS_DB_CONNECTION'] = '/home/bk639/Merians_db/tangos_data1.db'\n",
    "os.environ['TANGOS_DB_CONNECTION'] = '/home/bk639/data/MerianSIDM/MerianSIDM.db'\n",
    "os.environ['TANGOS_SIMULATION_FOLDER'] = '/home/bk639/data/MerianSIDM/'\n",
    "#load tangos database\n",
    "\n",
    "#make sure to only load tangos after setting environment variable otherwise it will see nothing\n",
    "import tangos\n",
    "import pynbody\n",
    "#export TANGOS_DB_CONNECTION=/home/bk639/Merians_db/tangos_data.db\n",
    "# set the environment variable\n",
    "\n",
    "sims = tangos.all_simulations()\n",
    "\n",
    "\n",
    "#sim = tangos.get_simulation('r492.romulus25si2s50v35')\n",
    "sim = tangos.get_simulation('r492.romulus25.3072g1HsbBH')\n",
    "print(sim.path)"
   ]
  },
  {
   "cell_type": "code",
   "execution_count": 13,
   "id": "ee4afd641088fe41",
   "metadata": {
    "ExecuteTime": {
     "end_time": "2024-10-29T21:48:24.611526Z",
     "start_time": "2024-10-29T21:48:24.599023Z"
    }
   },
   "outputs": [
    {
     "data": {
      "text/plain": [
       "'r492.romulus25.3072g1HsbBH.004096'"
      ]
     },
     "execution_count": 13,
     "metadata": {},
     "output_type": "execute_result"
    }
   ],
   "source": [
    "sim.timesteps[-1].extension"
   ]
  },
  {
   "cell_type": "code",
   "execution_count": 16,
   "id": "736d20947d159172",
   "metadata": {
    "ExecuteTime": {
     "end_time": "2024-10-29T21:49:06.190476Z",
     "start_time": "2024-10-29T21:49:06.170936Z"
    }
   },
   "outputs": [
    {
     "name": "stdout",
     "output_type": "stream",
     "text": [
      "[7.24515620e+07 2.93165796e+07 5.93128579e+07 9.60006974e+07\n",
      " 6.21526882e+07 1.00597099e+08 1.01763260e+08 9.05897868e+07\n",
      " 6.66472286e+07 9.97813476e+07 6.54733312e+07 9.18421557e+07\n",
      " 8.86188188e+07 7.75005193e+07 7.76968558e+07 7.65142398e+07\n",
      " 8.33787432e+07 7.14454326e+07 7.62888594e+07 7.73356998e+07\n",
      " 7.81007230e+07 7.89528946e+07 7.38834185e+07 7.19175581e+07\n",
      " 7.20744989e+07 6.57217036e+07 6.56709984e+07 6.40260738e+07\n",
      " 6.15389460e+07 6.26438538e+07 5.63993409e+07 5.70787861e+07\n",
      " 5.01558692e+07 4.94232061e+07 4.58680178e+07 4.32019367e+07\n",
      " 3.88874373e+07 3.65272042e+07 3.45562461e+07 3.21404753e+07\n",
      " 2.88432316e+07 2.67406563e+07 2.44909128e+07 2.18696288e+07\n",
      " 1.94768873e+07 1.75975631e+07 1.53051330e+07 1.35829026e+07\n",
      " 1.18154812e+07 1.04100433e+07 9.31607097e+06 7.92120434e+06\n",
      " 7.08346133e+06 5.96773712e+06 5.15608049e+06 4.37243747e+06\n",
      " 3.71734352e+06 3.22241702e+06 2.80885739e+06 2.48268019e+06\n",
      " 2.21480198e+06 1.93331749e+06 1.71515746e+06 1.51068102e+06\n",
      " 1.31724663e+06 1.14179780e+06 9.85584137e+05 8.46107003e+05\n",
      " 7.13498164e+05 5.98678473e+05 5.01621410e+05 4.28940886e+05\n",
      " 3.63471483e+05 3.11702905e+05 2.69636362e+05 2.32099532e+05\n",
      " 1.97269633e+05 1.67241674e+05 1.40087679e+05 1.14203591e+05\n",
      " 9.20815456e+04 7.26133909e+04 5.84241991e+04 4.75170193e+04\n",
      " 3.84458459e+04 3.03506453e+04 2.43541523e+04 1.92619828e+04\n",
      " 1.52608914e+04 1.22939018e+04 9.79825960e+03 7.40232184e+03\n",
      " 5.64529920e+03 4.43079908e+03 3.50871174e+03 2.77088753e+03\n",
      " 2.25556912e+03 1.97226865e+03 1.71783892e+03 1.02472940e+03]\n"
     ]
    }
   ],
   "source": [
    "halo = sim.timesteps[-1].halos[1]\n",
    "print(halo['rho_dm'])\n",
    "rho_dm = halo['rho_dm']\n",
    "rbins = halo['rho_dm_rbins']"
   ]
  },
  {
   "cell_type": "code",
   "execution_count": 10,
   "id": "ddd2b9f00b5e621e",
   "metadata": {
    "ExecuteTime": {
     "end_time": "2024-10-29T20:35:56.817057Z",
     "start_time": "2024-10-29T20:35:56.724483Z"
    }
   },
   "outputs": [
    {
     "name": "stdout",
     "output_type": "stream",
     "text": [
      "/home/bk639/data/MerianSIDM/ r492.romulus25si2s50v35 r492.romulus25si2s50v35.3072g1HsbBH.004096\n",
      "/home/bk639/data/MerianSIDM/r492.romulus25si2s50v35/r492.romulus25si2s50v35.3072g1HsbBH.004096\n"
     ]
    }
   ],
   "source": [
    "\n",
    "#file path is in TANGOS_SIMULATION_FOLDER/sim.basename/sim.timesteps[-1].extension\n",
    "filepath = os.path.join(os.environ['TANGOS_SIMULATION_FOLDER'],sim.basename,sim.timesteps[-1].extension)\n",
    "print(os.environ['TANGOS_SIMULATION_FOLDER'],sim.basename,sim.timesteps[-1].extension)\n",
    "\n",
    "# How is \n",
    "# /home/bk639/MerianSIDM/r492.romulus25si2s50v35/r492.romulus25si2s50v35.3072g1HsbBH.004096\n",
    "# different from\n",
    "# /home/bk639/data/MerianSIDM/r492.romulus25si2s50v35\n",
    "print(filepath)\n",
    "sim = pynbody.load(filepath)\n",
    "sim.physical_units()"
   ]
  },
  {
   "cell_type": "code",
   "execution_count": 11,
   "id": "7031c894de16b07e",
   "metadata": {
    "ExecuteTime": {
     "end_time": "2024-10-29T20:36:03.855376Z",
     "start_time": "2024-10-29T20:35:59.619096Z"
    }
   },
   "outputs": [
    {
     "name": "stderr",
     "output_type": "stream",
     "text": [
      "pynbody.halo : An error occurred while reading substructure file. Falling back to using the halo info.\n"
     ]
    },
    {
     "name": "stdout",
     "output_type": "stream",
     "text": [
      "1307161\n"
     ]
    }
   ],
   "source": [
    "halo = sim.halos()[1]\n",
    "print(len(halo.s))"
   ]
  },
  {
   "cell_type": "code",
   "execution_count": 13,
   "id": "e61aeb03aeece3ef",
   "metadata": {
    "ExecuteTime": {
     "end_time": "2024-10-29T20:37:16.277641Z",
     "start_time": "2024-10-29T20:37:04.707055Z"
    }
   },
   "outputs": [
    {
     "data": {
      "text/plain": [
       "<pynbody.transformation.GenericRotation at 0x7f17e6e439e0>"
      ]
     },
     "execution_count": 13,
     "metadata": {},
     "output_type": "execute_result"
    }
   ],
   "source": [
    "pynbody.analysis.angmom.faceon(halo)"
   ]
  },
  {
   "cell_type": "code",
   "execution_count": 14,
   "id": "e6b9358bcd15695f",
   "metadata": {
    "ExecuteTime": {
     "end_time": "2024-10-29T20:37:18.532221Z",
     "start_time": "2024-10-29T20:37:16.402654Z"
    }
   },
   "outputs": [],
   "source": [
    "prof = pynbody.analysis.profile.Profile(halo.dm, vmin =.25, max=10, ndim=3)"
   ]
  },
  {
   "cell_type": "code",
   "execution_count": 13,
   "id": "650237f3bc330080",
   "metadata": {
    "ExecuteTime": {
     "end_time": "2024-10-29T18:43:15.979918Z",
     "start_time": "2024-10-29T18:43:02.974218Z"
    }
   },
   "outputs": [
    {
     "name": "stderr",
     "output_type": "stream",
     "text": [
      "/tmp/ipykernel_3345903/2475273282.py:25: OptimizeWarning: Covariance of the parameters could not be estimated\n",
      "  par,err = scipy.optimize.curve_fit(S_CoreEinasto,x,y)\n"
     ]
    }
   ],
   "source": [
    "###Find the value of the core radius\n",
    "a = 0.16\n",
    "Mstar = np.sum(halo.s['mass'])\n",
    "Mhalo = np.sum(halo['mass'])\n",
    "Xmsmh = Mstar/Mhalo\n",
    "r_c = CoreRadius(1.21, 0.71, Mstar/Mhalo, 7.2*1e-3, 0.011, 2.31, 1.55)\n",
    "r_c = float(r_c)\n",
    "\n",
    "\n",
    "\n",
    "r = Rvir\n",
    "if r < 10:\n",
    "    RADIUS = r\n",
    "else:\n",
    "    RADIUS = 10\n",
    "\n",
    "###Find R_2 value\n",
    "for i in range(len(p['rbins'])):\n",
    "    x1 = np.log10(p['rbins'][i]/Rvir)\n",
    "    x2 = np.log10(p['rbins'][i+1]/Rvir)\n",
    "    y1 = np.log10(p['density'][i])\n",
    "    y2 = np.log10(p['density'][i+1])\n",
    "    m = (y1-y2)/(x1-x2)\n",
    "    if m < -2:\n",
    "        r_2 = p['rbins'][i]\n",
    "        break\n",
    "        \n",
    "###Find R_s\n",
    "r_s = s_radius(r_2, Mstar/Mhalo, 0.044, 0.28, 31.79, 1.51, 0.40)\n",
    "\n",
    "###Find Rho_s value, relies on R_s calculation\n",
    "low = []\n",
    "high = []\n",
    "for i in range(len(p['rbins'])): \n",
    "    if r_s >= p['rbins'][i]:\n",
    "        low.append(p['rbins'][i])\n",
    "    else:\n",
    "        high.append(p['rbins'][i])\n",
    "z = len(low)-1\n",
    "try:\n",
    "    Lval = max(low)\n",
    "    Hval = min(high)\n",
    "    Ldiff = r_s - Lval\n",
    "    Hdiff = Hval - r_s\n",
    "    if Ldiff < Hdiff:\n",
    "        rho_s = p['density'][z]\n",
    "    else:\n",
    "        rho_s = p['density'][z+1]\n",
    "except:\n",
    "    ValueError\n",
    "    rho_s = p['density'][0]\n",
    "\n",
    "Xmsmh = Mstar/Mhalo\n",
    "x,y = np.log10(p['rbins']),np.log10(p['density'])\n",
    "y0 = y[0]\n",
    "S_CoreEinasto(r,rho_s,r_s,r_c,a,x, y0)\n",
    "\n",
    "Core_ES = CoreEinasto(S_CoreEinasto, halo, r_c)"
   ]
  },
  {
   "cell_type": "code",
   "execution_count": 14,
   "id": "a02a4ebb1086f568",
   "metadata": {
    "ExecuteTime": {
     "end_time": "2024-10-29T18:43:16.024773Z",
     "start_time": "2024-10-29T18:43:16.017610Z"
    }
   },
   "outputs": [
    {
     "name": "stdout",
     "output_type": "stream",
     "text": [
      "[-0.03345653  7.54285241]\n",
      "-0.033456529010868076\n",
      "0.4118972409208907\n"
     ]
    }
   ],
   "source": [
    "print(Core_ES)\n",
    "###Spits out the slope and intercept of the linear fit, core_slope is the 0th value in the array (in logscale)\n",
    "print(Core_ES[0])\n",
    "\n",
    "print(r_s)"
   ]
  },
  {
   "cell_type": "code",
   "execution_count": 18,
   "id": "e18d8443babceb4f",
   "metadata": {
    "ExecuteTime": {
     "end_time": "2024-10-29T19:00:05.334976Z",
     "start_time": "2024-10-29T19:00:05.205351Z"
    }
   },
   "outputs": [
    {
     "data": {
      "text/plain": [
       "Text(-0.5, 7, 'slope = -0.033456529010868076')"
      ]
     },
     "execution_count": 18,
     "metadata": {},
     "output_type": "execute_result"
    },
    {
     "data": {
      "image/png": "[encoded data removed]",
      "text/plain": [
       "<Figure size 640x480 with 1 Axes>"
      ]
     },
     "metadata": {},
     "output_type": "display_data"
    }
   ],
   "source": [
    "import matplotlib.pyplot as plt\n",
    "###Visual check to make sure that the core_slope fit matches the density profile\n",
    "x = np.linspace(-1, 0.5, 100)\n",
    "y = x*Core_ES[0] + Core_ES[1]\n",
    "plt.plot(x,y)\n",
    "\n",
    "x1,y1 = np.log10(p['rbins']),np.log10(p['density'])\n",
    "plt.plot(x1,y1, c='red')\n",
    "plt.xlabel('log(r)')\n",
    "plt.ylabel('log(density)')\n",
    "#add slope value to plot\n",
    "plt.text(-0.5, 7, 'slope = {}'.format(Core_ES[0]))\n",
    "\n",
    "#plt.vlines(np.log10(r_s),6.5,8.5, color='green')"
   ]
  },
  {
   "cell_type": "code",
   "execution_count": 27,
   "id": "bdde954d5b2fca17",
   "metadata": {
    "ExecuteTime": {
     "end_time": "2024-10-29T19:23:38.919613Z",
     "start_time": "2024-10-29T19:23:38.899780Z"
    }
   },
   "outputs": [],
   "source": []
  },
  {
   "cell_type": "code",
   "execution_count": 43,
   "id": "204e5900cd461d4c",
   "metadata": {
    "ExecuteTime": {
     "end_time": "2024-10-29T19:37:17.465254Z",
     "start_time": "2024-10-29T19:37:17.447121Z"
    }
   },
   "outputs": [],
   "source": []
  },
  {
   "cell_type": "code",
   "execution_count": 18,
   "id": "765bc26f66f82e42",
   "metadata": {
    "ExecuteTime": {
     "end_time": "2024-10-29T21:49:37.735531Z",
     "start_time": "2024-10-29T21:49:36.556380Z"
    }
   },
   "outputs": [],
   "source": [
    "import numpy as np\n",
    "import scipy.optimize\n",
    "import matplotlib.pyplot as plt\n",
    "from scipy.stats import chi2\n",
    "\n",
    "def einasto_profile(r, rho_0, r_2, alpha):\n",
    "    \"\"\"\n",
    "    Einasto density profile function.\n",
    "    \n",
    "    Parameters:\n",
    "    -----------\n",
    "    r : array-like\n",
    "        Radial distances\n",
    "    rho_s : float\n",
    "        Scale density\n",
    "    r_s : float\n",
    "        Scale radius\n",
    "    alpha : float\n",
    "        Shape parameter\n",
    "    \n",
    "    Returns:\n",
    "    --------\n",
    "    array-like\n",
    "        Density values at given radii\n",
    "    \"\"\"\n",
    "    x = r/r_2\n",
    "    y = -2/alpha * (x**alpha - 1)\n",
    "    rho = rho_0 * np.exp(y)\n",
    "    return rho\n",
    "\n",
    "def fit_einasto(r, rho, rho_err=None, p0=None):\n",
    "    \"\"\"\n",
    "    Fit Einasto profile to density data.\n",
    "    \n",
    "    Parameters:\n",
    "    -----------\n",
    "    r : array-like\n",
    "        Radial distances\n",
    "    rho : array-like\n",
    "        Density values\n",
    "    rho_err : array-like, optional\n",
    "        Uncertainties in density values\n",
    "    p0 : tuple, optional\n",
    "        Initial parameter guess (rho_s, r_s, alpha)\n",
    "    \n",
    "    Returns:\n",
    "    --------\n",
    "    tuple\n",
    "        Best-fit parameters and covariance matrix\n",
    "    \"\"\"\n",
    "    if p0 is None:\n",
    "        # Make educated guesses for initial parameters\n",
    "        rho_s_guess = np.max(rho)\n",
    "        r_s_guess = r[len(r)//2]  # middle radius\n",
    "        alpha_guess = 0.2  # typical value for dark matter halos\n",
    "        p0 = (rho_s_guess, r_s_guess, alpha_guess)\n",
    "    \n",
    "    try:\n",
    "        if rho_err is not None:\n",
    "            popt, pcov = scipy.optimize.curve_fit(\n",
    "                einasto_profile, r, rho, \n",
    "                p0=p0, \n",
    "                sigma=rho_err,\n",
    "                bounds=([0, 0, 0], [np.inf, np.inf, 2])  # physical constraints\n",
    "            )\n",
    "        else:\n",
    "            popt, pcov = scipy.optimize.curve_fit(\n",
    "                einasto_profile, r, rho, \n",
    "                p0=p0,\n",
    "                bounds=([0, 0, 0], [np.inf, np.inf, 2])\n",
    "            )\n",
    "        return popt, pcov\n",
    "    except RuntimeError:\n",
    "        raise RuntimeError(\"Fitting failed to converge. Try different initial parameters.\")\n",
    "\n",
    "def plot_einasto_fit(r, rho, popt, pcov, rho_err=None, r_range=None):\n",
    "    \"\"\"\n",
    "    Plot data points and fitted Einasto profile.\n",
    "    \n",
    "    Parameters:\n",
    "    -----------\n",
    "    r : array-like\n",
    "        Radial distances\n",
    "    rho : array-like\n",
    "        Density values\n",
    "    popt : tuple\n",
    "        Best-fit parameters (rho_s, r_s, alpha)\n",
    "    pcov : array-like\n",
    "        Covariance matrix\n",
    "    rho_err : array-like, optional\n",
    "        Uncertainties in density values\n",
    "    r_range : tuple, optional\n",
    "        (r_min, r_max) for plotting smooth curve\n",
    "    \"\"\"\n",
    "    plt.figure(figsize=(10, 6))\n",
    "    \n",
    "    # Plot data points\n",
    "    if rho_err is not None:\n",
    "        plt.errorbar(r, rho, yerr=rho_err, fmt='o', label='Data')\n",
    "    else:\n",
    "        plt.scatter(r, rho, label='Data')\n",
    "    \n",
    "    # Create smooth curve for fitted profile\n",
    "    if r_range is None:\n",
    "        r_min, r_max = np.min(r), np.max(r)\n",
    "    else:\n",
    "        r_min, r_max = r_range\n",
    "    \n",
    "    r_smooth = np.logspace(np.log10(r_min), np.log10(r_max), 1000)\n",
    "    rho_fit = einasto_profile(r_smooth, *popt)\n",
    "    \n",
    "    # Plot fitted profile\n",
    "    plt.plot(r_smooth, rho_fit, 'r-', label='Einasto fit')\n",
    "    \n",
    "    # Calculate and plot confidence bands (if covariance matrix is available)\n",
    "    if pcov is not None:\n",
    "        # Generate random parameters from the covariance matrix\n",
    "        n_samples = 1000\n",
    "        params = np.random.multivariate_normal(popt, pcov, size=n_samples)\n",
    "        \n",
    "        # Calculate profiles for each parameter set\n",
    "        profiles = np.array([einasto_profile(r_smooth, *p) for p in params])\n",
    "        \n",
    "        # Calculate confidence intervals\n",
    "        lower = np.percentile(profiles, 2.5, axis=0)\n",
    "        upper = np.percentile(profiles, 97.5, axis=0)\n",
    "        \n",
    "        plt.fill_between(r_smooth, lower, upper, color='r', alpha=0.2,\n",
    "                        label='95% confidence')\n",
    "    \n",
    "    plt.xlabel('Radius')\n",
    "    plt.ylabel('Density')\n",
    "    plt.xscale('log')\n",
    "    plt.yscale('log')\n",
    "    plt.legend()\n",
    "    plt.grid(True)\n",
    "    \n",
    "    #add vertical line at r_2\n",
    "    r_2 = popt[1]\n",
    "    plt.axvline(r_2, color='k', linestyle='--', label='r_2')\n",
    "    \n",
    "    \n",
    "    # Add fit parameters to plot\n",
    "    param_text = f'ρs = {popt[0]:.2e}\\nrs = {popt[1]:.2f}\\nα = {popt[2]:.3f}'\n",
    "    plt.text(0.02, 0.98, param_text, transform=plt.gca().transAxes,\n",
    "             verticalalignment='top', bbox=dict(facecolor='white', alpha=0.8))\n",
    "    \n",
    "    plt.tight_layout()\n",
    "\n",
    "\n",
    "\n"
   ]
  },
  {
   "cell_type": "code",
   "execution_count": 21,
   "id": "32c1892cf079dc43",
   "metadata": {
    "ExecuteTime": {
     "end_time": "2024-10-29T21:50:18.557017Z",
     "start_time": "2024-10-29T21:50:18.095508Z"
    }
   },
   "outputs": [
    {
     "name": "stdout",
     "output_type": "stream",
     "text": [
      "[2.07379094e+07 2.22784102e+00 1.44894925e+00]\n"
     ]
    },
    {
     "data": {
      "image/png": "[encoded data removed]",
      "text/plain": [
       "<Figure size 1000x600 with 1 Axes>"
      ]
     },
     "metadata": {},
     "output_type": "display_data"
    }
   ],
   "source": [
    "#fit the einasto profile to the data and plot the data and the fit, and the r_2 value\n",
    "\n",
    "r = rbins\n",
    "rho = rho_dm\n",
    "popt, pcov = fit_einasto(r, rho)\n",
    "print(popt)\n",
    "plot_einasto_fit(r, rho, popt, pcov, r_range=(0.1, 10))\n",
    "\n",
    "\n",
    "    \n",
    "    "
   ]
  },
  {
   "cell_type": "code",
   "execution_count": null,
   "id": "b4f8859fab427adb",
   "metadata": {},
   "outputs": [],
   "source": []
  }
 ],
 "metadata": {
  "kernelspec": {
   "display_name": "Python 3",
   "language": "python",
   "name": "python3"
  },
  "language_info": {
   "codemirror_mode": {
    "name": "ipython",
    "version": 2
   },
   "file_extension": ".py",
   "mimetype": "text/x-python",
   "name": "python",
   "nbconvert_exporter": "python",
   "pygments_lexer": "ipython2",
   "version": "2.7.6"
  }
 },
 "nbformat": 4,
 "nbformat_minor": 5
}
