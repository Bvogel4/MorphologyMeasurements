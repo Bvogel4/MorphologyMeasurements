{
 "cells": [
  {
   "cell_type": "code",
   "execution_count": 1,
   "id": "initial_id",
   "metadata": {
    "ExecuteTime": {
     "end_time": "2024-11-05T00:44:28.002178Z",
     "start_time": "2024-11-05T00:44:18.369237Z"
    },
    "collapsed": true
   },
   "outputs": [
    {
     "name": "stdout",
     "output_type": "stream",
     "text": [
      "[<Simulation(\"r431.romulus25.3072g1HsbBH\")>, <Simulation(\"r431.romulus25cvdXsec.3072g1HsbBH\")>, <Simulation(\"r468.romulus25.3072g1HsbBH\")>, <Simulation(\"r468.romulus25si2s50v35\")>, <Simulation(\"r488.romulus25.3072g1HsbBH\")>, <Simulation(\"r488.romulus25si2s50v35\")>, <Simulation(\"r492.romulus25.3072g1HsbBH\")>, <Simulation(\"r492.romulus25cvdXsec.3072g1HsbBH\")>, <Simulation(\"r492.romulus25si2s50v35\")>, <Simulation(\"r523.romulus25.3072g1HsbBH\")>, <Simulation(\"r523.romulus25si2s50v35\")>, <Simulation(\"r544.romulus25.3072g1HsbBH\")>, <Simulation(\"r544.romulus25si2s50v35\")>, <Simulation(\"r597.romulus25.3072g1HsbBH\")>, <Simulation(\"r597.romulus25si2s50v35\")>, <Simulation(\"r618.romulus25.3072g1HsbBH\")>, <Simulation(\"r618.romulus25si2s50v35\")>, <Simulation(\"r634.romulus25.3072g1HsbBH\")>, <Simulation(\"r634.romulus25si2s50v35\")>]\n"
     ]
    }
   ],
   "source": [
    "import os\n",
    "#os.environ['TANGOS_DB_CONNECTION'] = '/home/bk639/Merians_db/tangos_data1.db'\n",
    "os.environ['TANGOS_DB_CONNECTION'] = '/home/bk639/data/MerianSIDM/MerianSIDM.db'\n",
    "os.environ['TANGOS_SIMULATION_FOLDER'] = '/home/bk639/MerianSIDM/'\n",
    "#load tangos database\n",
    "\n",
    "#make sure to only load tangos after setting environment variable otherwise it will see nothing\n",
    "import tangos\n",
    "import pynbody\n",
    "#export TANGOS_DB_CONNECTION=/home/bk639/Merians_db/tangos_data.db\n",
    "# set the environment variable\n",
    "\n",
    "sims = tangos.all_simulations()\n",
    "print(sims)"
   ]
  },
  {
   "cell_type": "code",
   "execution_count": 2,
   "id": "57b9320eccf74989",
   "metadata": {
    "ExecuteTime": {
     "end_time": "2024-11-05T00:44:57.945252Z",
     "start_time": "2024-11-05T00:44:57.937591Z"
    }
   },
   "outputs": [
    {
     "name": "stdout",
     "output_type": "stream",
     "text": [
      "<Simulation(\"r431.romulus25.3072g1HsbBH\")>\n"
     ]
    }
   ],
   "source": [
    "sim = sims[0]\n",
    "print(sim)"
   ]
  },
  {
   "cell_type": "code",
   "execution_count": 5,
   "id": "d0e3dee2886b6d49",
   "metadata": {
    "ExecuteTime": {
     "end_time": "2024-11-05T00:45:56.407836Z",
     "start_time": "2024-11-05T00:45:56.381064Z"
    }
   },
   "outputs": [],
   "source": [
    "timestep = sim.timesteps[-1]\n",
    "halo = timestep.halos[0]"
   ]
  },
  {
   "cell_type": "code",
   "execution_count": 3,
   "id": "3772fea37800c8b0",
   "metadata": {
    "ExecuteTime": {
     "end_time": "2024-11-05T00:59:20.096106Z",
     "start_time": "2024-11-05T00:59:19.869692Z"
    }
   },
   "outputs": [
    {
     "name": "stdout",
     "output_type": "stream",
     "text": [
      "[<Simulation(\"cptmarvel.cosmo25cmb.4096g5HbwK1BH\")>]\n"
     ]
    },
    {
     "data": {
      "text/plain": [
       "array([0.        , 0.        , 0.        , 0.        , 0.        ,\n",
       "       0.        , 0.        , 0.        , 0.        , 0.        ,\n",
       "       0.        , 0.        , 0.        , 0.        , 0.        ,\n",
       "       0.        , 0.        , 0.        , 0.        , 0.        ,\n",
       "       0.        , 0.        , 0.        , 0.        , 0.        ,\n",
       "       0.        , 0.        , 0.        , 0.        , 0.        ,\n",
       "       0.        , 0.        , 0.        , 0.        , 0.        ,\n",
       "       0.        , 0.        , 0.        , 0.        , 0.        ,\n",
       "       0.        , 0.        , 0.        , 0.        , 0.        ,\n",
       "       0.        , 0.        , 0.        , 0.        , 0.        ,\n",
       "       0.        , 0.        , 0.        , 0.        , 0.        ,\n",
       "       0.        , 0.        , 0.        , 0.        , 0.        ,\n",
       "       0.        , 0.        , 0.        , 0.        , 0.        ,\n",
       "       0.        , 0.        , 0.        , 0.        , 0.        ,\n",
       "       0.        , 0.        , 0.        , 0.        , 0.        ,\n",
       "       0.        , 0.        , 0.        , 0.        , 0.        ,\n",
       "       0.        , 0.        , 0.        , 0.        , 0.        ,\n",
       "       0.        , 0.        , 0.        , 0.        , 0.        ,\n",
       "       0.        , 0.        , 0.        , 0.        , 0.        ,\n",
       "       0.        , 0.        , 0.        , 0.        , 0.        ,\n",
       "       0.        , 0.        , 0.        , 0.        , 0.        ,\n",
       "       0.        , 0.        , 0.        , 0.        , 0.        ,\n",
       "       0.        , 0.        , 0.        , 0.        , 0.        ,\n",
       "       0.        , 0.        , 0.        , 0.        , 0.        ,\n",
       "       0.        , 0.        , 0.        , 0.        , 0.        ,\n",
       "       0.        , 0.        , 0.        , 0.        , 0.        ,\n",
       "       0.        , 0.        , 0.        , 0.        , 0.        ,\n",
       "       0.        , 0.        , 0.        , 0.        , 0.        ,\n",
       "       0.        , 0.        , 0.        , 0.        , 0.        ,\n",
       "       0.        , 0.        , 0.        , 0.        , 0.        ,\n",
       "       0.        , 0.        , 0.        , 0.        , 0.        ,\n",
       "       0.        , 0.        , 0.        , 0.        , 0.        ,\n",
       "       0.        , 0.        , 0.        , 0.        , 0.        ,\n",
       "       0.        , 0.        , 0.        , 0.        , 0.        ,\n",
       "       0.        , 0.        , 0.        , 0.        , 0.        ,\n",
       "       0.        , 0.        , 0.        , 0.        , 0.        ,\n",
       "       0.        , 0.        , 0.        , 0.        , 0.        ,\n",
       "       0.        , 0.        , 0.        , 0.        , 0.        ,\n",
       "       0.        , 0.        , 0.        , 0.        , 0.        ,\n",
       "       0.        , 0.        , 0.        , 0.        , 0.        ,\n",
       "       0.        , 0.        , 0.        , 0.        , 0.        ,\n",
       "       0.        , 0.        , 0.        , 0.        , 0.        ,\n",
       "       0.        , 0.        , 0.        , 0.        , 0.        ,\n",
       "       0.        , 0.        , 0.        , 0.        , 0.        ,\n",
       "       0.        , 0.        , 0.        , 0.        , 0.        ,\n",
       "       0.        , 0.        , 0.        , 0.        , 0.        ,\n",
       "       0.        , 0.        , 0.        , 0.        , 0.        ,\n",
       "       0.        , 0.        , 0.        , 0.        , 0.        ,\n",
       "       0.        , 0.        , 0.        , 0.        , 0.        ,\n",
       "       0.        , 0.        , 0.        , 0.        , 0.        ,\n",
       "       0.        , 0.        , 0.        , 0.        , 0.        ,\n",
       "       0.        , 0.        , 0.        , 0.        , 0.        ,\n",
       "       0.        , 0.        , 0.        , 0.        , 0.        ,\n",
       "       0.        , 0.        , 0.        , 0.        , 0.        ,\n",
       "       0.        , 0.        , 0.        , 0.        , 0.        ,\n",
       "       0.        , 0.        , 0.        , 0.        , 0.        ,\n",
       "       0.        , 0.        , 0.        , 0.        , 0.        ,\n",
       "       0.        , 0.        , 0.        , 0.        , 0.        ,\n",
       "       0.        , 0.        , 0.        , 0.        , 0.        ,\n",
       "       0.        , 0.        , 0.        , 0.        , 0.        ,\n",
       "       0.        , 0.        , 0.        , 0.        , 0.        ,\n",
       "       0.        , 0.        , 0.        , 0.        , 0.        ,\n",
       "       0.        , 0.        , 0.        , 0.        , 0.        ,\n",
       "       0.        , 0.        , 0.        , 0.        , 0.        ,\n",
       "       0.        , 0.        , 0.        , 0.        , 0.        ,\n",
       "       0.        , 0.        , 0.        , 0.        , 0.        ,\n",
       "       0.        , 0.        , 0.        , 0.        , 0.        ,\n",
       "       0.        , 0.        , 0.        , 0.        , 0.        ,\n",
       "       0.        , 0.        , 0.        , 0.        , 0.        ,\n",
       "       0.        , 0.        , 0.        , 0.        , 0.        ,\n",
       "       0.        , 0.        , 0.        , 0.        , 0.        ,\n",
       "       0.        , 0.        , 0.        , 0.        , 0.        ,\n",
       "       0.        , 0.        , 0.        , 0.        , 0.        ,\n",
       "       0.        , 0.        , 0.        , 0.        , 0.        ,\n",
       "       0.        , 0.        , 0.        , 0.        , 0.        ,\n",
       "       0.        , 0.        , 0.        , 0.        , 0.        ,\n",
       "       0.        , 0.        , 0.        , 0.        , 0.        ,\n",
       "       0.        , 0.        , 0.        , 0.        , 0.        ,\n",
       "       0.        , 0.        , 0.        , 0.        , 0.        ,\n",
       "       0.        , 0.        , 0.        , 0.        , 0.        ,\n",
       "       0.        , 0.        , 0.        , 0.        , 0.        ,\n",
       "       0.        , 0.        , 0.        , 0.        , 0.        ,\n",
       "       0.        , 0.        , 0.        , 0.        , 0.        ,\n",
       "       0.        , 0.        , 0.        , 0.        , 0.        ,\n",
       "       0.        , 0.        , 0.        , 0.        , 0.        ,\n",
       "       0.        , 0.        , 0.        , 0.        , 0.        ,\n",
       "       0.        , 0.        , 0.        , 0.        , 0.        ,\n",
       "       0.        , 0.        , 0.        , 0.        , 0.        ,\n",
       "       0.        , 0.        , 0.        , 0.        , 0.        ,\n",
       "       0.        , 0.        , 0.        , 0.        , 0.        ,\n",
       "       0.        , 0.        , 0.        , 0.        , 0.        ,\n",
       "       0.        , 0.        , 0.        , 0.        , 0.        ,\n",
       "       0.        , 0.        , 0.        , 0.        , 0.        ,\n",
       "       0.        , 0.        , 0.        , 0.        , 0.        ,\n",
       "       0.        , 0.        , 0.        , 0.        , 0.        ,\n",
       "       0.        , 0.        , 0.        , 0.        , 0.        ,\n",
       "       0.        , 0.        , 0.        , 0.        , 0.        ,\n",
       "       0.        , 0.        , 0.        , 0.        , 0.        ,\n",
       "       0.        , 0.        , 0.        , 0.        , 0.        ,\n",
       "       0.        , 0.        , 0.        , 0.        , 0.        ,\n",
       "       0.        , 0.        , 0.        , 0.        , 0.        ,\n",
       "       0.        , 0.        , 0.        , 0.        , 0.        ,\n",
       "       0.        , 0.        , 0.        , 0.        , 0.        ,\n",
       "       0.        , 0.        , 0.        , 0.        , 0.        ,\n",
       "       0.        , 0.        , 0.        , 0.        , 0.        ,\n",
       "       0.        , 0.        , 0.        , 0.        , 0.        ,\n",
       "       0.        , 0.        , 0.        , 0.        , 0.        ,\n",
       "       0.        , 0.        , 0.        , 0.        , 0.        ,\n",
       "       0.        , 0.        , 0.        , 0.        , 0.        ,\n",
       "       0.        , 0.        , 0.        , 0.        , 0.        ,\n",
       "       0.        , 0.        , 0.        , 0.        , 0.        ,\n",
       "       0.        , 0.        , 0.        , 0.        , 0.        ,\n",
       "       0.        , 0.        , 0.        , 0.        , 0.        ,\n",
       "       0.        , 0.        , 0.        , 0.        , 0.        ,\n",
       "       0.        , 0.        , 0.        , 0.        , 0.        ,\n",
       "       0.        , 0.        , 0.        , 0.        , 0.        ,\n",
       "       0.        , 0.        , 0.        , 0.        , 0.        ,\n",
       "       0.        , 0.        , 0.        , 0.        , 0.        ,\n",
       "       0.        , 0.        , 0.        , 0.        , 0.        ,\n",
       "       0.        , 0.        , 0.        , 0.        , 0.        ,\n",
       "       0.        , 0.        , 0.        , 0.        , 0.        ,\n",
       "       0.        , 0.        , 0.        , 0.        , 0.        ,\n",
       "       0.        , 0.        , 0.        , 0.        , 0.        ,\n",
       "       0.        , 0.        , 0.        , 0.        , 0.        ,\n",
       "       0.        , 0.        , 0.        , 0.        , 0.        ,\n",
       "       0.        , 0.        , 0.        , 0.        , 0.        ,\n",
       "       0.        , 0.        , 0.        , 0.        , 0.        ,\n",
       "       0.        , 0.        , 0.        , 0.        , 0.        ,\n",
       "       0.        , 0.        , 0.        , 0.        , 0.        ,\n",
       "       0.        , 0.        , 0.        , 0.        , 0.        ,\n",
       "       0.        , 0.        , 0.        , 0.        , 0.        ,\n",
       "       0.        , 0.        , 0.        , 0.        , 0.        ,\n",
       "       0.        , 0.00257441, 0.00189916, 0.0024478 , 0.00274323,\n",
       "       0.00213128, 0.00194136, 0.0023845 , 0.00234229, 0.00200466,\n",
       "       0.00154043, 0.00137161, 0.00272212, 0.00282763, 0.00261662,\n",
       "       0.0024478 , 0.00223678, 0.00198356, 0.00217348, 0.00194136,\n",
       "       0.00213128, 0.00284873, 0.00354509, 0.00337628, 0.00259551,\n",
       "       0.00267992])"
      ]
     },
     "execution_count": 3,
     "metadata": {},
     "output_type": "execute_result"
    }
   ],
   "source": [
    "import os\n",
    "\n",
    "os.environ['TANGOS_DB_CONNECTION'] = '/data/REPOSITORY/public_data/cptmarvel.cosmo25cmb.4096g5HbwK1BH.db'\n",
    "#os.environ['TANGOS_SIMULATION_FOLDER'] = '/data/REPOSITORY/public_data'\n",
    "os.environ['TANGOS_SIMULATION_FOLDER'] = '/data/REPOSITORY/dwarf_volumes'\n",
    "#load tangos database\n",
    "\n",
    "#make sure to only load tangos after setting environment variable otherwise it will see nothing\n",
    "import tangos\n",
    "import pynbody\n",
    "#export TANGOS_DB_CONNECTION=/home/bk639/Merians_db/tangos_data.db\n",
    "# set the environment variable\n",
    "\n",
    "sims = tangos.all_simulations()\n",
    "print(sims)\n",
    "\n",
    "timesteps = sims[0].timesteps\n",
    "#get the halos at the last timestep\n",
    "halos = timesteps[-1].halos\n",
    "halo = halos[0]\n",
    "halo.calculate(\"SFR_histogram\")\n"
   ]
  },
  {
   "cell_type": "code",
   "execution_count": 4,
   "id": "29d0cefc871c2567",
   "metadata": {
    "ExecuteTime": {
     "end_time": "2024-11-05T00:59:20.898274Z",
     "start_time": "2024-11-05T00:59:20.858607Z"
    }
   },
   "outputs": [
    {
     "ename": "NoResultsError",
     "evalue": "Calculation SFR_histogram returned no results",
     "output_type": "error",
     "traceback": [
      "\u001b[0;31m---------------------------------------------------------------------------\u001b[0m",
      "\u001b[0;31mNoResultsError\u001b[0m                            Traceback (most recent call last)",
      "Cell \u001b[0;32mIn[4], line 3\u001b[0m\n\u001b[1;32m      1\u001b[0m halos \u001b[38;5;241m=\u001b[39m timesteps[\u001b[38;5;241m-\u001b[39m\u001b[38;5;241m2\u001b[39m]\u001b[38;5;241m.\u001b[39mhalos\n\u001b[1;32m      2\u001b[0m halo \u001b[38;5;241m=\u001b[39m halos[\u001b[38;5;241m0\u001b[39m]\n\u001b[0;32m----> 3\u001b[0m halo\u001b[38;5;241m.\u001b[39mcalculate(\u001b[38;5;124m\"\u001b[39m\u001b[38;5;124mSFR_histogram\u001b[39m\u001b[38;5;124m\"\u001b[39m)\n",
      "File \u001b[0;32m~/miniconda3/envs/shapes/lib/python3.12/site-packages/tangos/core/halo.py:181\u001b[0m, in \u001b[0;36mSimulationObjectBase.calculate\u001b[0;34m(self, calculation, return_description)\u001b[0m\n\u001b[1;32m    179\u001b[0m \u001b[38;5;28;01mfrom\u001b[39;00m \u001b[38;5;21;01m.\u001b[39;00m\u001b[38;5;21;01m.\u001b[39;00m \u001b[38;5;28;01mimport\u001b[39;00m live_calculation\n\u001b[1;32m    180\u001b[0m calculation \u001b[38;5;241m=\u001b[39m live_calculation\u001b[38;5;241m.\u001b[39mparser\u001b[38;5;241m.\u001b[39mparse_property_name_if_required(calculation)\n\u001b[0;32m--> 181\u001b[0m (value,), description \u001b[38;5;241m=\u001b[39m calculation\u001b[38;5;241m.\u001b[39mvalues_sanitized_and_description([\u001b[38;5;28mself\u001b[39m], Session\u001b[38;5;241m.\u001b[39mobject_session(\u001b[38;5;28mself\u001b[39m))\n\u001b[1;32m    182\u001b[0m \u001b[38;5;28;01mif\u001b[39;00m \u001b[38;5;28mlen\u001b[39m(value)\u001b[38;5;241m==\u001b[39m\u001b[38;5;241m1\u001b[39m:\n\u001b[1;32m    183\u001b[0m     retval \u001b[38;5;241m=\u001b[39m value[\u001b[38;5;241m0\u001b[39m]\n",
      "File \u001b[0;32m~/miniconda3/envs/shapes/lib/python3.12/site-packages/tangos/live_calculation/__init__.py:132\u001b[0m, in \u001b[0;36mCalculation.values_sanitized_and_description\u001b[0;34m(self, halos, load_into_session)\u001b[0m\n\u001b[1;32m    128\u001b[0m \u001b[38;5;250m\u001b[39m\u001b[38;5;124;03m\"\"\"Return the 'sanitized' values of this calculation, as well as a PropertyCalculation object (if available).\u001b[39;00m\n\u001b[1;32m    129\u001b[0m \n\u001b[1;32m    130\u001b[0m \u001b[38;5;124;03mSee values_sanitized for the definition of sanitized\"\"\"\u001b[39;00m\n\u001b[1;32m    131\u001b[0m values, desc \u001b[38;5;241m=\u001b[39m \u001b[38;5;28mself\u001b[39m\u001b[38;5;241m.\u001b[39mvalues_and_description(halos)\n\u001b[0;32m--> 132\u001b[0m \u001b[38;5;28;01mreturn\u001b[39;00m \u001b[38;5;28mself\u001b[39m\u001b[38;5;241m.\u001b[39m_sanitize_values(values, load_into_session), desc\n",
      "File \u001b[0;32m~/miniconda3/envs/shapes/lib/python3.12/site-packages/tangos/live_calculation/__init__.py:179\u001b[0m, in \u001b[0;36mCalculation._sanitize_values\u001b[0;34m(self, unsanitized_values, load_into_session, no_results_raises)\u001b[0m\n\u001b[1;32m    177\u001b[0m \u001b[38;5;28;01mfor\u001b[39;00m x \u001b[38;5;129;01min\u001b[39;00m output_values:\n\u001b[1;32m    178\u001b[0m     \u001b[38;5;28;01mif\u001b[39;00m \u001b[38;5;28mlen\u001b[39m(x)\u001b[38;5;241m==\u001b[39m\u001b[38;5;241m0\u001b[39m \u001b[38;5;129;01mand\u001b[39;00m no_results_raises:\n\u001b[0;32m--> 179\u001b[0m         \u001b[38;5;28;01mraise\u001b[39;00m NoResultsError(\u001b[38;5;124m\"\u001b[39m\u001b[38;5;124mCalculation \u001b[39m\u001b[38;5;132;01m%s\u001b[39;00m\u001b[38;5;124m returned no results\u001b[39m\u001b[38;5;124m\"\u001b[39m \u001b[38;5;241m%\u001b[39m \u001b[38;5;28mself\u001b[39m)\n\u001b[1;32m    181\u001b[0m \u001b[38;5;28;01mif\u001b[39;00m load_into_session \u001b[38;5;129;01mis\u001b[39;00m \u001b[38;5;129;01mnot\u001b[39;00m \u001b[38;5;28;01mNone\u001b[39;00m:\n\u001b[1;32m    182\u001b[0m     \u001b[38;5;28mself\u001b[39m\u001b[38;5;241m.\u001b[39m_refetch_halos_from_original_session(output_values, load_into_session)\n",
      "\u001b[0;31mNoResultsError\u001b[0m: Calculation SFR_histogram returned no results"
     ]
    }
   ],
   "source": [
    "halos = timesteps[-2].halos\n",
    "halo = halos[0]\n",
    "halo.calculate(\"SFR_histogram\")"
   ]
  },
  {
   "cell_type": "code",
   "execution_count": 6,
   "id": "d456a447a63007e6",
   "metadata": {
    "ExecuteTime": {
     "end_time": "2024-11-05T00:54:49.861055Z",
     "start_time": "2024-11-05T00:54:49.648911Z"
    }
   },
   "outputs": [
    {
     "ename": "NoResultsError",
     "evalue": "Calculation reassemble(SFR_histogram,\"sum\") returned no results",
     "output_type": "error",
     "traceback": [
      "\u001b[0;31m---------------------------------------------------------------------------\u001b[0m",
      "\u001b[0;31mNoResultsError\u001b[0m                            Traceback (most recent call last)",
      "Cell \u001b[0;32mIn[6], line 1\u001b[0m\n\u001b[0;32m----> 1\u001b[0m halo\u001b[38;5;241m.\u001b[39mcalculate(\u001b[38;5;124m\"\u001b[39m\u001b[38;5;124mreassemble(SFR_histogram, \u001b[39m\u001b[38;5;124m'\u001b[39m\u001b[38;5;124msum\u001b[39m\u001b[38;5;124m'\u001b[39m\u001b[38;5;124m)\u001b[39m\u001b[38;5;124m\"\u001b[39m)\n",
      "File \u001b[0;32m~/miniconda3/envs/shapes/lib/python3.12/site-packages/tangos/core/halo.py:181\u001b[0m, in \u001b[0;36mSimulationObjectBase.calculate\u001b[0;34m(self, calculation, return_description)\u001b[0m\n\u001b[1;32m    179\u001b[0m \u001b[38;5;28;01mfrom\u001b[39;00m \u001b[38;5;21;01m.\u001b[39;00m\u001b[38;5;21;01m.\u001b[39;00m \u001b[38;5;28;01mimport\u001b[39;00m live_calculation\n\u001b[1;32m    180\u001b[0m calculation \u001b[38;5;241m=\u001b[39m live_calculation\u001b[38;5;241m.\u001b[39mparser\u001b[38;5;241m.\u001b[39mparse_property_name_if_required(calculation)\n\u001b[0;32m--> 181\u001b[0m (value,), description \u001b[38;5;241m=\u001b[39m calculation\u001b[38;5;241m.\u001b[39mvalues_sanitized_and_description([\u001b[38;5;28mself\u001b[39m], Session\u001b[38;5;241m.\u001b[39mobject_session(\u001b[38;5;28mself\u001b[39m))\n\u001b[1;32m    182\u001b[0m \u001b[38;5;28;01mif\u001b[39;00m \u001b[38;5;28mlen\u001b[39m(value)\u001b[38;5;241m==\u001b[39m\u001b[38;5;241m1\u001b[39m:\n\u001b[1;32m    183\u001b[0m     retval \u001b[38;5;241m=\u001b[39m value[\u001b[38;5;241m0\u001b[39m]\n",
      "File \u001b[0;32m~/miniconda3/envs/shapes/lib/python3.12/site-packages/tangos/live_calculation/__init__.py:132\u001b[0m, in \u001b[0;36mCalculation.values_sanitized_and_description\u001b[0;34m(self, halos, load_into_session)\u001b[0m\n\u001b[1;32m    128\u001b[0m \u001b[38;5;250m\u001b[39m\u001b[38;5;124;03m\"\"\"Return the 'sanitized' values of this calculation, as well as a PropertyCalculation object (if available).\u001b[39;00m\n\u001b[1;32m    129\u001b[0m \n\u001b[1;32m    130\u001b[0m \u001b[38;5;124;03mSee values_sanitized for the definition of sanitized\"\"\"\u001b[39;00m\n\u001b[1;32m    131\u001b[0m values, desc \u001b[38;5;241m=\u001b[39m \u001b[38;5;28mself\u001b[39m\u001b[38;5;241m.\u001b[39mvalues_and_description(halos)\n\u001b[0;32m--> 132\u001b[0m \u001b[38;5;28;01mreturn\u001b[39;00m \u001b[38;5;28mself\u001b[39m\u001b[38;5;241m.\u001b[39m_sanitize_values(values, load_into_session), desc\n",
      "File \u001b[0;32m~/miniconda3/envs/shapes/lib/python3.12/site-packages/tangos/live_calculation/__init__.py:179\u001b[0m, in \u001b[0;36mCalculation._sanitize_values\u001b[0;34m(self, unsanitized_values, load_into_session, no_results_raises)\u001b[0m\n\u001b[1;32m    177\u001b[0m \u001b[38;5;28;01mfor\u001b[39;00m x \u001b[38;5;129;01min\u001b[39;00m output_values:\n\u001b[1;32m    178\u001b[0m     \u001b[38;5;28;01mif\u001b[39;00m \u001b[38;5;28mlen\u001b[39m(x)\u001b[38;5;241m==\u001b[39m\u001b[38;5;241m0\u001b[39m \u001b[38;5;129;01mand\u001b[39;00m no_results_raises:\n\u001b[0;32m--> 179\u001b[0m         \u001b[38;5;28;01mraise\u001b[39;00m NoResultsError(\u001b[38;5;124m\"\u001b[39m\u001b[38;5;124mCalculation \u001b[39m\u001b[38;5;132;01m%s\u001b[39;00m\u001b[38;5;124m returned no results\u001b[39m\u001b[38;5;124m\"\u001b[39m \u001b[38;5;241m%\u001b[39m \u001b[38;5;28mself\u001b[39m)\n\u001b[1;32m    181\u001b[0m \u001b[38;5;28;01mif\u001b[39;00m load_into_session \u001b[38;5;129;01mis\u001b[39;00m \u001b[38;5;129;01mnot\u001b[39;00m \u001b[38;5;28;01mNone\u001b[39;00m:\n\u001b[1;32m    182\u001b[0m     \u001b[38;5;28mself\u001b[39m\u001b[38;5;241m.\u001b[39m_refetch_halos_from_original_session(output_values, load_into_session)\n",
      "\u001b[0;31mNoResultsError\u001b[0m: Calculation reassemble(SFR_histogram,\"sum\") returned no results"
     ]
    }
   ],
   "source": [
    "h"
   ]
  },
  {
   "cell_type": "code",
   "execution_count": null,
   "id": "c1fb9bc1966ba805",
   "metadata": {},
   "outputs": [],
   "source": []
  }
 ],
 "metadata": {
  "kernelspec": {
   "display_name": "Python 3",
   "language": "python",
   "name": "python3"
  },
  "language_info": {
   "codemirror_mode": {
    "name": "ipython",
    "version": 2
   },
   "file_extension": ".py",
   "mimetype": "text/x-python",
   "name": "python",
   "nbconvert_exporter": "python",
   "pygments_lexer": "ipython2",
   "version": "2.7.6"
  }
 },
 "nbformat": 4,
 "nbformat_minor": 5
}
