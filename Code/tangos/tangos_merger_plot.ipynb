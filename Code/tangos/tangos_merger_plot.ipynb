{
 "cells": [
  {
   "cell_type": "code",
   "execution_count": 3,
   "id": "8d52b0bc268481ca",
   "metadata": {
    "ExecuteTime": {
     "end_time": "2025-03-31T17:28:37.417773Z",
     "start_time": "2025-03-31T17:28:37.414261Z"
    }
   },
   "outputs": [],
   "source": [
    "\n"
   ]
  },
  {
   "cell_type": "code",
   "execution_count": 4,
   "id": "6885b595c5cbc773",
   "metadata": {
    "ExecuteTime": {
     "end_time": "2025-03-31T17:28:43.449529Z",
     "start_time": "2025-03-31T17:28:38.253788Z"
    }
   },
   "outputs": [],
   "source": [
    "import os\n",
    "import sys\n",
    "os.environ['PYTHONPATH'] = '/home/bk639/mytangosproperty'\n",
    "os.environ['TANGOS_DB_CONNECTION'] = '/home/bk639/data_base/Merians_test.db'\n",
    "os.environ['TANGOS_SIMULATION_FOLDER'] = '/home/bk639/data/MerianCDM'\n",
    "os.environ['TANGOS_PROPERTY_MODULES']='mytangosproperty'\n",
    "#add ~/mytangosproperty to python path\n",
    "\n",
    "\n",
    "import tangos_merger_plot as tmp"
   ]
  },
  {
   "cell_type": "code",
   "execution_count": 2,
   "id": "a21d384c8f86f602",
   "metadata": {
    "ExecuteTime": {
     "end_time": "2025-03-26T19:07:07.608745Z",
     "start_time": "2025-03-26T19:06:36.749728Z"
    }
   },
   "outputs": [
    {
     "name": "stdout",
     "output_type": "stream",
     "text": [
      "                          name |     handler     | property class\r\n",
      "-------------------------------+-----------------+-------------------------------------------------------------\r\n",
      "           BH_central_distance | PynbodyInputHan | tangos.properties.pynbody.BH.BH\r\n",
      "             BH_central_offset | PynbodyInputHan | tangos.properties.pynbody.BH.BH\r\n",
      "                       BH_mass | PynbodyInputHan | tangos.properties.pynbody.BH.BH\r\n",
      "                               | EagleLikeInputH | tangos.properties.pynbody.eagle.EagleBH\r\n",
      "                       BH_mass | PynbodyInputHan | tangos.properties.pynbody.BH.BH\r\n",
      "                               | EagleLikeInputH | tangos.properties.pynbody.eagle.EagleBH\r\n",
      "                       BH_mdot | PynbodyInputHan | tangos.properties.pynbody.BH.BH\r\n",
      "                               | EagleLikeInputH | tangos.properties.pynbody.eagle.EagleBH\r\n",
      "                       BH_mdot | PynbodyInputHan | tangos.properties.pynbody.BH.BH\r\n",
      "                               | EagleLikeInputH | tangos.properties.pynbody.eagle.EagleBH\r\n",
      "                   BH_mdot_ave | PynbodyInputHan | tangos.properties.pynbody.BH.BH\r\n",
      "             BH_mdot_histogram |   HandlerBase   | tangos.properties.pynbody.BH.BHAccHistogram\r\n",
      "         BH_mdot_histogram_all | PynbodyInputHan | tangos.properties.pynbody.BH.BHAccHistogramMerged\r\n",
      "                       Mb_mvir | PynbodyInputHan | mytangosproperty.BaryonicFractionVirial\r\n",
      "           Mb_mvir_within_reff | PynbodyInputHan | mytangosproperty.BaryonicFractionReff\r\n",
      "                      Mcoldgas |  YtInputHandler | tangos.properties.yt.gas.GasMass\r\n",
      "                          Mgas | PynbodyInputHan | mytangosproperty.BaryonicFractionVirial\r\n",
      "                               |  YtInputHandler | tangos.properties.yt.gas.GasMass\r\n",
      "                          Mgas | PynbodyInputHan | mytangosproperty.BaryonicFractionVirial\r\n",
      "                               |  YtInputHandler | tangos.properties.yt.gas.GasMass\r\n",
      "              Mgas_within_reff | PynbodyInputHan | mytangosproperty.BaryonicFractionReff\r\n",
      "                         Mstar | PynbodyInputHan | mytangosproperty.BaryonicFractionVirial\r\n",
      "                               |  YtInputHandler | tangos.properties.yt.stars.StellarMass\r\n",
      "                         Mstar | PynbodyInputHan | mytangosproperty.BaryonicFractionVirial\r\n",
      "                               |  YtInputHandler | tangos.properties.yt.stars.StellarMass\r\n",
      "             Mstar_within_reff | PynbodyInputHan | mytangosproperty.BaryonicFractionReff\r\n",
      "                          Mvir | PynbodyInputHan | mytangosproperty.BaryonicFractionVirial\r\n",
      "              Mvir_within_reff | PynbodyInputHan | mytangosproperty.BaryonicFractionReff\r\n",
      "                           NDM |       live      | tangos.properties.intrinsic.IntrinsicProperties\r\n",
      "                          NGas |       live      | tangos.properties.intrinsic.IntrinsicProperties\r\n",
      "                         NStar |       live      | tangos.properties.intrinsic.IntrinsicProperties\r\n",
      "                         Rhalf | PynbodyInputHan | mytangosproperty.ImageHalo\r\n",
      "                               | PynbodyInputHan | mytangosproperty.SersicFit\r\n",
      "                    SFR_100Myr | PynbodyInputHan | tangos.properties.pynbody.SF.StarForm\r\n",
      "                     SFR_10Myr | PynbodyInputHan | tangos.properties.pynbody.SF.StarForm\r\n",
      "                 SFR_histogram | PynbodyInputHan | tangos.properties.pynbody.SF.StarFormHistogram\r\n",
      "                             a |       live      | tangos.properties.intrinsic.IntrinsicProperties\r\n",
      "                            at |       live      | tangos.properties.live_profiles.AtPosition\r\n",
      "                          ba_d | PynbodyInputHan | mytangosproperty.Shape_Profile\r\n",
      "                  ba_d_at_reff |       live      | mytangosproperty.SmoothAxisRatio\r\n",
      "                 ba_d_smoothed |       live      | mytangosproperty.SmoothAxisRatio\r\n",
      "                          ba_s | PynbodyInputHan | mytangosproperty.Shape_Profile\r\n",
      "                  ba_s_at_reff |       live      | mytangosproperty.SmoothAxisRatio\r\n",
      "                 ba_s_smoothed |       live      | mytangosproperty.SmoothAxisRatio\r\n",
      "                            bh |       live      | tangos.properties.pynbody.BH.BHGal\r\n",
      "                      bhcenter |       live      | tangos.properties.pynbody.BH.BHCentral\r\n",
      "                          ca_d | PynbodyInputHan | mytangosproperty.Shape_Profile\r\n",
      "                  ca_d_at_reff |       live      | mytangosproperty.SmoothAxisRatio\r\n",
      "                 ca_d_smoothed |       live      | mytangosproperty.SmoothAxisRatio\r\n",
      "                          ca_s | PynbodyInputHan | mytangosproperty.Shape_Profile\r\n",
      "                  ca_s_at_reff |       live      | mytangosproperty.SmoothAxisRatio\r\n",
      "                 ca_s_smoothed |       live      | mytangosproperty.SmoothAxisRatio\r\n",
      "                        center |       live      | tangos.properties.yt.basic.FindCenter\r\n",
      "                    center_Mpc |       live      | tangos.properties.yt.basic.FindPhyiscalCenter\r\n",
      "                    contamfrac |  YtInputHandler | tangos.properties.yt.DM.Contamination\r\n",
      "        contamination_fraction | PynbodyInputHan | tangos.properties.pynbody.zoom.Contamination\r\n",
      "                          dbid |       live      | tangos.properties.intrinsic.IntrinsicProperties\r\n",
      "            dm_density_profile | PynbodyInputHan | tangos.properties.pynbody.profile.HaloDensityProfile\r\n",
      "                               |  YtInputHandler | tangos.properties.yt.DM.HaloDensityProfile\r\n",
      "            dm_density_profile | PynbodyInputHan | tangos.properties.pynbody.profile.HaloDensityProfile\r\n",
      "                               |  YtInputHandler | tangos.properties.yt.DM.HaloDensityProfile\r\n",
      "               dm_mass_profile | PynbodyInputHan | tangos.properties.pynbody.profile.HaloDensityProfile\r\n",
      "                               |  YtInputHandler | tangos.properties.yt.DM.HaloDensityProfile\r\n",
      "               dm_mass_profile | PynbodyInputHan | tangos.properties.pynbody.profile.HaloDensityProfile\r\n",
      "                               |  YtInputHandler | tangos.properties.yt.DM.HaloDensityProfile\r\n",
      "                finder_dm_mass | PynbodyInputHan | tangos.properties.pynbody.mass.MassBreakdown\r\n",
      "               finder_gas_mass | PynbodyInputHan | tangos.properties.pynbody.mass.MassBreakdown\r\n",
      "                     finder_id |       live      | tangos.properties.intrinsic.IntrinsicProperties\r\n",
      "                   finder_mass | PynbodyInputHan | tangos.properties.pynbody.mass.Masses\r\n",
      "                 finder_offset |       live      | tangos.properties.intrinsic.IntrinsicProperties\r\n",
      "              finder_star_mass | PynbodyInputHan | tangos.properties.pynbody.mass.MassBreakdown\r\n",
      "           gas_density_profile | PynbodyInputHan | tangos.properties.pynbody.profile.BaryonicHaloDensityProfile\r\n",
      "                       gas_map | PynbodyInputHan | tangos.properties.pynbody.images.BaryonicImages\r\n",
      "                gas_map_faceon | PynbodyInputHan | tangos.properties.pynbody.images.BaryonicImages\r\n",
      "                gas_map_sideon | PynbodyInputHan | tangos.properties.pynbody.images.BaryonicImages\r\n",
      "              gas_mass_profile | PynbodyInputHan | tangos.properties.pynbody.profile.BaryonicHaloDensityProfile\r\n",
      "                gas_max_radius | PynbodyInputHan | tangos.properties.pynbody.centring.CentreAndRadiusGas\r\n",
      "             gas_shrink_center | PynbodyInputHan | tangos.properties.pynbody.centring.CentreAndRadiusGas\r\n",
      "                   halo_images | PynbodyInputHan | mytangosproperty.ImageHalo\r\n",
      "                   halo_number |       live      | tangos.properties.intrinsic.IntrinsicProperties\r\n",
      "                         hosts |       live      | tangos.properties.yt.basic.FindHosts\r\n",
      "            image_orientations | PynbodyInputHan | mytangosproperty.ImageHalo\r\n",
      "                   image_reffs | PynbodyInputHan | mytangosproperty.ImageHalo\r\n",
      "           isophote_parameters |       live      | mytangosproperty.IsophoteAnalysis\r\n",
      "                           max |       live      | tangos.properties.live_profiles.MaxMinProperty\r\n",
      "                    max_radius | PynbodyInputHan | tangos.properties.pynbody.centring.CentreAndRadius\r\n",
      "           max_radius_comoving |       live      | tangos.properties.pynbody.centring.CentreAndRadiusComoving\r\n",
      "                      mean_rho | PynbodyInputHan | tangos.properties.pynbody.gas.MeanGasProperties\r\n",
      "                     mean_temp | PynbodyInputHan | tangos.properties.pynbody.gas.MeanGasProperties\r\n",
      "                           min |       live      | tangos.properties.live_profiles.MaxMinProperty\r\n",
      "                          path |       live      | tangos.properties.intrinsic.IntrinsicProperties\r\n",
      "                        posmax |       live      | tangos.properties.live_profiles.MaxMinProperty\r\n",
      "                        posmin |       live      | tangos.properties.live_profiles.MaxMinProperty\r\n",
      "                         r200c | PynbodyInputHan | tangos.properties.pynbody.radius.Radius200c\r\n",
      "                         r200m | PynbodyInputHan | tangos.properties.pynbody.radius.Radius200m\r\n",
      "                          r_80 | PynbodyInputHan | mytangosproperty.r_80\r\n",
      "                       rbins_d | PynbodyInputHan | mytangosproperty.Shape_Profile\r\n",
      "                       rbins_s | PynbodyInputHan | mytangosproperty.Shape_Profile\r\n",
      "                          reff | PynbodyInputHan | mytangosproperty.SersicFit\r\n",
      "                         rhalf | PynbodyInputHan | mytangosproperty.ImageHalo\r\n",
      "                               | PynbodyInputHan | mytangosproperty.SersicFit\r\n",
      "                        rho_dm | PynbodyInputHan | mytangosproperty.DMDensityProfile\r\n",
      "                  rho_dm_rbins | PynbodyInputHan | mytangosproperty.DMDensityProfile\r\n",
      "                       rvirial | PynbodyInputHan | tangos.properties.pynbody.radius.RadiusVirial\r\n",
      "                    satellites |       live      | tangos.properties.yt.basic.FindSats\r\n",
      "                 shrink_center | PynbodyInputHan | tangos.properties.pynbody.centring.CentreAndRadius\r\n",
      "        shrink_center_comoving |       live      | tangos.properties.pynbody.centring.CentreAndRadiusComoving\r\n",
      "          star_density_profile | PynbodyInputHan | tangos.properties.pynbody.profile.BaryonicHaloDensityProfile\r\n",
      "             star_mass_profile | PynbodyInputHan | tangos.properties.pynbody.profile.BaryonicHaloDensityProfile\r\n",
      "              stars_max_radius | PynbodyInputHan | tangos.properties.pynbody.centring.CentreAndRadiusStars\r\n",
      "           stars_shrink_center | PynbodyInputHan | tangos.properties.pynbody.centring.CentreAndRadiusStars\r\n",
      "                     step_path |       live      | tangos.properties.intrinsic.IntrinsicProperties\r\n",
      "                             t |       live      | tangos.properties.intrinsic.IntrinsicProperties\r\n",
      "                          tdyn | PynbodyInputHan | mytangosproperty.dynamical_time\r\n",
      "                          type |       live      | tangos.properties.intrinsic.IntrinsicProperties\r\n",
      "                       typetag |       live      | tangos.properties.intrinsic.IntrinsicProperties\r\n",
      "                     uvi_image | PynbodyInputHan | tangos.properties.pynbody.images.BaryonicImages\r\n",
      "              uvi_image_faceon | PynbodyInputHan | tangos.properties.pynbody.images.BaryonicImages\r\n",
      "              uvi_image_sideon | PynbodyInputHan | tangos.properties.pynbody.images.BaryonicImages\r\n",
      "                             z |       live      | tangos.properties.intrinsic.IntrinsicProperties\r\n"
     ]
    }
   ],
   "source": [
    "!tangos write ba_s --sim r615.romulus25.3072g1HsbBH --include-only=\"latest().halo_number()==1\" --include-only=\"t()>12.7\" --backwards --with-prerequisites"
   ]
  },
  {
   "cell_type": "code",
   "execution_count": 3,
   "id": "dd3c422c8c34e6de",
   "metadata": {
    "ExecuteTime": {
     "end_time": "2025-03-26T18:58:56.005526Z",
     "start_time": "2025-03-26T18:58:55.683528Z"
    }
   },
   "outputs": [
    {
     "name": "stdout",
     "output_type": "stream",
     "text": [
      "[<Simulation(\"r1023.romulus25.3072g1HsbBH\")>, <Simulation(\"r431.romulus25.3072g1HsbBH\")>, <Simulation(\"r442.romulus25.3072g1HsbBH\")>, <Simulation(\"r468.romulus25.3072g1HsbBH\")>, <Simulation(\"r488.romulus25.3072g1HsbBH\")>, <Simulation(\"r489.romulus25.3072g1HsbBH\")>, <Simulation(\"r492.romulus25.3072g1HsbBH\")>, <Simulation(\"r502.romulus25.3072g1HsbBH\")>, <Simulation(\"r515.romulus25.3072g1HsbBH\")>, <Simulation(\"r523.romulus25.3072g1HsbBH\")>, <Simulation(\"r544.romulus25.3072g1HsbBH\")>, <Simulation(\"r552.romulus25.3072g1HsbBH\")>, <Simulation(\"r555.romulus25.3072g1HsbBH\")>, <Simulation(\"r556.romulus25.3072g1HsbBH\")>, <Simulation(\"r568.romulus25.3072g1HsbBH\")>, <Simulation(\"r569.romulus25.3072g1HsbBH\")>, <Simulation(\"r571.romulus25.3072g1HsbBH\")>, <Simulation(\"r597.romulus25.3072g1HsbBH\")>, <Simulation(\"r613.romulus25.3072g1HsbBH\")>, <Simulation(\"r614.romulus25.3072g1HsbBH\")>, <Simulation(\"r615.romulus25.3072g1HsbBH\")>, <Simulation(\"r618.romulus25.3072g1HsbBH\")>, <Simulation(\"r634.romulus25.3072g1HsbBH\")>, <Simulation(\"r642.romulus25.3072g1HsbBH\")>, <Simulation(\"r656.romulus25.3072g1HsbBH\")>, <Simulation(\"r707.romulus25.3072g1HsbBH\")>, <Simulation(\"r716.romulus25.3072g1HsbBH\")>, <Simulation(\"r718.romulus25.3072g1HsbBH\")>, <Simulation(\"r753.romulus25.3072g1HsbBH\")>, <Simulation(\"r761.romulus25.3072g1HsbBH\")>, <Simulation(\"r850.romulus25.3072g1HsbBH\")>, <Simulation(\"r852.romulus25.3072g1HsbBH\")>, <Simulation(\"r886.romulus25.3072g1HsbBH\")>, <Simulation(\"r916.romulus25.3072g1HsbBH\")>, <Simulation(\"r918.romulus25.3072g1HsbBH\")>, <Simulation(\"r968.romulus25.3072g1HsbBH\")>, <Simulation(\"r977.romulus25.3072g1HsbBH\")>]\n"
     ]
    }
   ],
   "source": [
    "\n",
    "#this locks the database, so kill the kernel to unlock\n",
    "import tangos\n",
    "#once  tangos is loaded force a reload\n",
    "import importlib\n",
    "importlib.reload(tangos)\n",
    "#importlib.reload(mytangosproperty)\n",
    "#from merger_properties import SmoothAxisRatio\n",
    "#print names of SmoothAxisRatio functions\n",
    "\n",
    "tangos.all_simulations()\n",
    "print(tangos.all_simulations())\n",
    "r615 = tangos.get_simulation('r615.romulus25.3072g1HsbBH')\n",
    "r761 = tangos.get_simulation('r761.romulus25.3072g1HsbBH')\n",
    "r613 = tangos.get_simulation('r613.romulus25.3072g1HsbBH')\n",
    "r918 = tangos.get_simulation('r918.romulus25.3072g1HsbBH')\n",
    "r431 = tangos.get_simulation('r431.romulus25.3072g1HsbBH')"
   ]
  },
  {
   "cell_type": "code",
   "execution_count": 4,
   "id": "e19bf7d1b47d78fd",
   "metadata": {
    "ExecuteTime": {
     "end_time": "2025-03-26T18:58:59.932626Z",
     "start_time": "2025-03-26T18:58:59.443909Z"
    }
   },
   "outputs": [
    {
     "name": "stdout",
     "output_type": "stream",
     "text": [
      "['#ID', 'numSubStruct', 'Mhalo', 'npart', 'Xc', 'Yc', 'Zc', 'VXc', 'VYc', 'VZc', 'Rhalo', 'Rmax', 'r2', 'mbp_offset', 'com_offset', 'Vmax', 'v_esc', 'sigV', 'lambda', 'lambdaE', 'Lx', 'Ly', 'Lz', 'b', 'c', 'Eax', 'Eay', 'Eaz', 'Ebx', 'Eby', 'Ebz', 'Ecx', 'Ecy', 'Ecz', 'ovdens', 'nbins', 'fMhires', 'Ekin', 'Epot', 'SurfP', 'Phi0', 'cNFW', 'n_gas', 'M_gas', 'lambda_gas', 'lambdaE_gas', 'Lx_gas', 'Ly_gas', 'Lz_gas', 'b_gas', 'c_gas', 'Eax_gas', 'Eay_gas', 'Eaz_gas', 'Ebx_gas', 'Eby_gas', 'Ebz_gas', 'Ecx_gas', 'Ecy_gas', 'Ecz_gas', 'Ekin_gas', 'Epot_gas', 'n_star', 'M_star', 'lambda_star', 'lambdaE_star', 'Lx_star', 'Ly_star', 'Lz_star', 'b_star', 'c_star', 'Eax_star', 'Eay_star', 'Eaz_star', 'Ebx_star', 'Eby_star', 'Ebz_star', 'Ecx_star', 'Ecy_star', 'Ecz_star', 'Ekin_star', 'Epot_star', 'n_gas', 'n_star', 'n_dm', 'ptcls_in_common', 'ptcls_in_common', 'childHalo', 'childHalo', 'childHalo', 'childHalo', 'childHalo', 'childHalo', 'childHalo', 'childHalo', 'childHalo', 'childHalo', 'childHalo', 'childHalo', 'childHalo', 'childHalo', 'childHalo', 'childHalo', 'childHalo', 'childHalo', 'childHalo', 'childHalo', 'childHalo', 'childHalo', 'childHalo', 'childHalo', 'childHalo', 'childHalo', 'childHalo', 'childHalo', 'childHalo', 'childHalo', 'childHalo', 'childHalo', 'childHalo', 'childHalo', 'childHalo', 'childHalo', 'childHalo', 'childHalo', 'childHalo', 'childHalo']\n"
     ]
    }
   ],
   "source": [
    "#print properties of halo 1 at timestep -1\n",
    "halo = r615.timesteps[-1].halos[0]\n",
    "print(halo.keys())"
   ]
  },
  {
   "cell_type": "code",
   "execution_count": 5,
   "id": "f4ea47d634fa5984",
   "metadata": {
    "ExecuteTime": {
     "end_time": "2025-03-26T18:59:14.790423Z",
     "start_time": "2025-03-26T18:59:13.082835Z"
    }
   },
   "outputs": [
    {
     "ename": "ModuleNotFoundError",
     "evalue": "No module named 'mytangosproperty'",
     "output_type": "error",
     "traceback": [
      "\u001b[0;31m---------------------------------------------------------------------------\u001b[0m",
      "\u001b[0;31mModuleNotFoundError\u001b[0m                       Traceback (most recent call last)",
      "Cell \u001b[0;32mIn[5], line 1\u001b[0m\n\u001b[0;32m----> 1\u001b[0m \u001b[38;5;28;01mimport\u001b[39;00m \u001b[38;5;21;01mtangos_merger_plot\u001b[39;00m \u001b[38;5;28;01mas\u001b[39;00m \u001b[38;5;21;01mtmp\u001b[39;00m\n\u001b[1;32m      3\u001b[0m \u001b[38;5;28;01mfor\u001b[39;00m i \u001b[38;5;129;01min\u001b[39;00m \u001b[38;5;28mrange\u001b[39m(\u001b[38;5;241m2\u001b[39m,\u001b[38;5;241m5\u001b[39m):\n\u001b[1;32m      4\u001b[0m     \u001b[38;5;28;01mfor\u001b[39;00m sim \u001b[38;5;129;01min\u001b[39;00m tangos\u001b[38;5;241m.\u001b[39mall_simulations():\n",
      "File \u001b[0;32m~/MorphologyMeasurements/Code/tangos/tangos_merger_plot.py:8\u001b[0m\n\u001b[1;32m      6\u001b[0m \u001b[38;5;28;01mimport\u001b[39;00m \u001b[38;5;21;01mmatplotlib\u001b[39;00m\u001b[38;5;21;01m.\u001b[39;00m\u001b[38;5;21;01mpyplot\u001b[39;00m \u001b[38;5;28;01mas\u001b[39;00m \u001b[38;5;21;01mplt\u001b[39;00m\n\u001b[1;32m      7\u001b[0m \u001b[38;5;28;01mimport\u001b[39;00m \u001b[38;5;21;01mtime\u001b[39;00m\n\u001b[0;32m----> 8\u001b[0m \u001b[38;5;28;01mimport\u001b[39;00m \u001b[38;5;21;01mmytangosproperty\u001b[39;00m\n\u001b[1;32m     11\u001b[0m \u001b[38;5;28;01mdef\u001b[39;00m \u001b[38;5;21msmooth_shape\u001b[39m(rbins, ba, ca):\n\u001b[1;32m     12\u001b[0m     k \u001b[38;5;241m=\u001b[39m \u001b[38;5;241m4\u001b[39m\n",
      "\u001b[0;31mModuleNotFoundError\u001b[0m: No module named 'mytangosproperty'"
     ]
    }
   ],
   "source": [
    "\n",
    "import tangos_merger_plot as tmp\n",
    "\n",
    "for i in range(2,5):\n",
    "    for sim in tangos.all_simulations():\n",
    "        print(sim)\n",
    "        #skip <Simulation(\"r1023.romulus25.3072g1HsbBH\")>\n",
    "        if sim == tangos.get_simulation('r1023.romulus25.3072g1HsbBH'):\n",
    "            continue\n",
    "        halo = sim.timesteps[-i].halos[1]\n",
    "        prog = halo.calculate('earlier(1)')\n",
    "        #print ratio of Mvir of prog to Mvir of halo\n",
    "        print( ( 1 - halo['Mhalo']/prog['Mhalo'])**(-1))\n",
    "\n"
   ]
  },
  {
   "cell_type": "code",
   "execution_count": 9,
   "id": "419046a21466e676",
   "metadata": {
    "ExecuteTime": {
     "end_time": "2025-03-26T19:00:13.839017Z",
     "start_time": "2025-03-26T19:00:13.435288Z"
    }
   },
   "outputs": [
    {
     "name": "stdout",
     "output_type": "stream",
     "text": [
      "r615.romulus25.3072g1HsbBH\n",
      "Building merger tree for <Simulation(\"r615.romulus25.3072g1HsbBH\")>\n",
      "1.980894689022175\n"
     ]
    },
    {
     "ename": "KeyError",
     "evalue": "'rbins_s'",
     "output_type": "error",
     "traceback": [
      "\u001b[0;31m---------------------------------------------------------------------------\u001b[0m",
      "\u001b[0;31mKeyError\u001b[0m                                  Traceback (most recent call last)",
      "Cell \u001b[0;32mIn[9], line 21\u001b[0m\n\u001b[1;32m     18\u001b[0m     os\u001b[38;5;241m.\u001b[39mmakedirs(figure_folder)\n\u001b[1;32m     20\u001b[0m halo \u001b[38;5;241m=\u001b[39m sim\u001b[38;5;241m.\u001b[39mtimesteps[\u001b[38;5;241m-\u001b[39m\u001b[38;5;241m1\u001b[39m]\u001b[38;5;241m.\u001b[39mhalos[merger_halos[sims\u001b[38;5;241m.\u001b[39mindex(sim)]]\n\u001b[0;32m---> 21\u001b[0m tree, main_line \u001b[38;5;241m=\u001b[39m \u001b[43mtmp\u001b[49m\u001b[38;5;241;43m.\u001b[39;49m\u001b[43mbuild_merger_tree\u001b[49m\u001b[43m(\u001b[49m\u001b[43mhalo\u001b[49m\u001b[43m,\u001b[49m\u001b[43m \u001b[49m\u001b[43mmax_depth\u001b[49m\u001b[38;5;241;43m=\u001b[39;49m\u001b[38;5;241;43m4\u001b[39;49m\u001b[43m)\u001b[49m\n\u001b[1;32m     22\u001b[0m halo \u001b[38;5;241m=\u001b[39m sim\u001b[38;5;241m.\u001b[39mtimesteps[\u001b[38;5;241m-\u001b[39m\u001b[38;5;241m1\u001b[39m]\u001b[38;5;241m.\u001b[39mhalos[merger_halos[sims\u001b[38;5;241m.\u001b[39mindex(sim)]]\n\u001b[1;32m     23\u001b[0m tree, main_line \u001b[38;5;241m=\u001b[39m tmp\u001b[38;5;241m.\u001b[39mbuild_merger_tree(halo, max_depth\u001b[38;5;241m=\u001b[39m\u001b[38;5;241m4\u001b[39m)\n",
      "File \u001b[0;32m~/MorphologyMeasurements/Code/tangos/tangos_merger_plot.py:168\u001b[0m, in \u001b[0;36mbuild_merger_tree\u001b[0;34m(input_halo, max_depth, min_fractional_weight, min_fractional_NDM, timeout)\u001b[0m\n\u001b[1;32m    166\u001b[0m start_time \u001b[38;5;241m=\u001b[39m time\u001b[38;5;241m.\u001b[39mtime()\n\u001b[1;32m    167\u001b[0m tree \u001b[38;5;241m=\u001b[39m defaultdict(\u001b[38;5;28mlist\u001b[39m)\n\u001b[0;32m--> 168\u001b[0m start_node \u001b[38;5;241m=\u001b[39m \u001b[43mHaloNode\u001b[49m\u001b[43m(\u001b[49m\u001b[43minput_halo\u001b[49m\u001b[43m)\u001b[49m\n\u001b[1;32m    169\u001b[0m tree[\u001b[38;5;241m0\u001b[39m]\u001b[38;5;241m.\u001b[39mappend(start_node)\n\u001b[1;32m    171\u001b[0m \u001b[38;5;66;03m# Use MultiHopAllProgenitorsStrategy to get all progenitors\u001b[39;00m\n",
      "File \u001b[0;32m~/MorphologyMeasurements/Code/tangos/tangos_merger_plot.py:130\u001b[0m, in \u001b[0;36mHaloNode.__init__\u001b[0;34m(self, halo)\u001b[0m\n\u001b[1;32m    127\u001b[0m \u001b[38;5;28mself\u001b[39m\u001b[38;5;241m.\u001b[39mmerger_ratio \u001b[38;5;241m=\u001b[39m \u001b[38;5;28;01mNone\u001b[39;00m\n\u001b[1;32m    129\u001b[0m \u001b[38;5;66;03m#try:\u001b[39;00m\n\u001b[0;32m--> 130\u001b[0m rbins_s, ba_s, ca_s \u001b[38;5;241m=\u001b[39m \u001b[43mhalo\u001b[49m\u001b[43m[\u001b[49m\u001b[38;5;124;43m'\u001b[39;49m\u001b[38;5;124;43mrbins_s\u001b[39;49m\u001b[38;5;124;43m'\u001b[39;49m\u001b[43m]\u001b[49m, halo[\u001b[38;5;124m'\u001b[39m\u001b[38;5;124mba_s\u001b[39m\u001b[38;5;124m'\u001b[39m], halo[\u001b[38;5;124m'\u001b[39m\u001b[38;5;124mca_s\u001b[39m\u001b[38;5;124m'\u001b[39m]\n\u001b[1;32m    131\u001b[0m rbins_filtered, ba_filtered, ca_filtered, ba_s, ca_s \u001b[38;5;241m=\u001b[39m smooth_shape(rbins_s, ba_s, ca_s)\n\u001b[1;32m    132\u001b[0m \u001b[38;5;28mself\u001b[39m\u001b[38;5;241m.\u001b[39mba_s \u001b[38;5;241m=\u001b[39m ba_s(\u001b[38;5;28mself\u001b[39m\u001b[38;5;241m.\u001b[39mreff)\n",
      "File \u001b[0;32m~/miniconda3/envs/pynbody_beta/lib/python3.12/site-packages/tangos/core/halo.py:194\u001b[0m, in \u001b[0;36mSimulationObjectBase.__getitem__\u001b[0;34m(self, key)\u001b[0m\n\u001b[1;32m    192\u001b[0m \u001b[38;5;28;01mdef\u001b[39;00m \u001b[38;5;21m__getitem__\u001b[39m(\u001b[38;5;28mself\u001b[39m, key):\n\u001b[1;32m    193\u001b[0m \u001b[38;5;250m    \u001b[39m\u001b[38;5;124;03m\"\"\"Highest-level method for retrieving data or link\"\"\"\u001b[39;00m\n\u001b[0;32m--> 194\u001b[0m     \u001b[38;5;28;01mreturn\u001b[39;00m \u001b[38;5;28;43mself\u001b[39;49m\u001b[38;5;241;43m.\u001b[39;49m\u001b[43mget_data\u001b[49m\u001b[43m(\u001b[49m\u001b[43mkey\u001b[49m\u001b[43m)\u001b[49m\n",
      "File \u001b[0;32m~/miniconda3/envs/pynbody_beta/lib/python3.12/site-packages/tangos/core/halo.py:219\u001b[0m, in \u001b[0;36mSimulationObjectBase.get_data\u001b[0;34m(self, key, raw, always_return_array)\u001b[0m\n\u001b[1;32m    216\u001b[0m     getters\u001b[38;5;241m=\u001b[39m[extraction_patterns\u001b[38;5;241m.\u001b[39mHaloPropertyValueGetter()]\n\u001b[1;32m    217\u001b[0m getters\u001b[38;5;241m+\u001b[39m\u001b[38;5;241m=\u001b[39m[extraction_patterns\u001b[38;5;241m.\u001b[39mHaloLinkTargetGetter()]\n\u001b[0;32m--> 219\u001b[0m return_data \u001b[38;5;241m=\u001b[39m \u001b[38;5;28;43mself\u001b[39;49m\u001b[38;5;241;43m.\u001b[39;49m\u001b[43mget_objects\u001b[49m\u001b[43m(\u001b[49m\u001b[43mkey\u001b[49m\u001b[43m,\u001b[49m\u001b[43m \u001b[49m\u001b[43mgetters\u001b[49m\u001b[43m)\u001b[49m\n\u001b[1;32m    221\u001b[0m \u001b[38;5;28;01mif\u001b[39;00m (\u001b[38;5;129;01mnot\u001b[39;00m always_return_array) \u001b[38;5;129;01mand\u001b[39;00m \u001b[38;5;28mlen\u001b[39m(return_data) \u001b[38;5;241m==\u001b[39m \u001b[38;5;241m1\u001b[39m:\n\u001b[1;32m    222\u001b[0m     return_data \u001b[38;5;241m=\u001b[39m return_data[\u001b[38;5;241m0\u001b[39m]\n",
      "File \u001b[0;32m~/miniconda3/envs/pynbody_beta/lib/python3.12/site-packages/tangos/core/halo.py:236\u001b[0m, in \u001b[0;36mSimulationObjectBase.get_objects\u001b[0;34m(self, key, getters)\u001b[0m\n\u001b[1;32m    234\u001b[0m \u001b[38;5;28;01mfrom\u001b[39;00m \u001b[38;5;21;01m.\u001b[39;00m \u001b[38;5;28;01mimport\u001b[39;00m Session\n\u001b[1;32m    235\u001b[0m session \u001b[38;5;241m=\u001b[39m Session\u001b[38;5;241m.\u001b[39mobject_session(\u001b[38;5;28mself\u001b[39m)\n\u001b[0;32m--> 236\u001b[0m key_id \u001b[38;5;241m=\u001b[39m \u001b[43mget_dict_id\u001b[49m\u001b[43m(\u001b[49m\u001b[43mkey\u001b[49m\u001b[43m,\u001b[49m\u001b[43m \u001b[49m\u001b[43msession\u001b[49m\u001b[38;5;241;43m=\u001b[39;49m\u001b[43msession\u001b[49m\u001b[43m)\u001b[49m\n\u001b[1;32m    238\u001b[0m ret_values \u001b[38;5;241m=\u001b[39m []\n\u001b[1;32m    239\u001b[0m \u001b[38;5;28;01mfor\u001b[39;00m g \u001b[38;5;129;01min\u001b[39;00m getters:\n",
      "File \u001b[0;32m~/miniconda3/envs/pynbody_beta/lib/python3.12/site-packages/tangos/core/dictionary.py:45\u001b[0m, in \u001b[0;36mget_dict_id\u001b[0;34m(text, default, session, allow_query)\u001b[0m\n\u001b[1;32m     42\u001b[0m     close_session\u001b[38;5;241m=\u001b[39m\u001b[38;5;28;01mFalse\u001b[39;00m\n\u001b[1;32m     44\u001b[0m \u001b[38;5;28;01mtry\u001b[39;00m:\n\u001b[0;32m---> 45\u001b[0m     \u001b[38;5;28;01mreturn\u001b[39;00m \u001b[43m_dict_id\u001b[49m\u001b[43m[\u001b[49m\u001b[43mtext\u001b[49m\u001b[43m]\u001b[49m\n\u001b[1;32m     46\u001b[0m \u001b[38;5;28;01mexcept\u001b[39;00m \u001b[38;5;167;01mKeyError\u001b[39;00m:\n\u001b[1;32m     48\u001b[0m     \u001b[38;5;28;01mif\u001b[39;00m allow_query:\n",
      "\u001b[0;31mKeyError\u001b[0m: 'rbins_s'"
     ]
    }
   ],
   "source": [
    "sims = [r615, r761, r613, r918]\n",
    "merger_halos = [1,1,1,1]\n",
    "#sims = [r918]\n",
    "trees = []\n",
    "main_lines = []\n",
    "importlib.reload(tmp)\n",
    "\n",
    "for sim in sims:\n",
    "    #get simulation name from sim object\n",
    "    sim_name = str(sim.basename)\n",
    "    print(sim_name)\n",
    "    #strip everything excpt for something like r615\n",
    "    sim_name = sim_name.split('.')[0]\n",
    "\n",
    "    print(f\"Building merger tree for {sim}\")\n",
    "    figure_folder = f'../../Figures/mergers/{sim_name}'\n",
    "    if not os.path.exists(figure_folder):\n",
    "        os.makedirs(figure_folder)\n",
    "\n",
    "    halo = sim.timesteps[-1].halos[merger_halos[sims.index(sim)]]\n",
    "    tree, main_line = tmp.build_merger_tree(halo, max_depth=4)\n",
    "    halo = sim.timesteps[-1].halos[merger_halos[sims.index(sim)]]\n",
    "    tree, main_line = tmp.build_merger_tree(halo, max_depth=4)\n",
    "\n",
    "    # Check if any node in the main line is a merger\n",
    "    merger_found = any(node.is_merger for node in main_line)\n",
    "    #remove last node from main_line\n",
    "    main_line = main_line[:-1]\n",
    "    if merger_found:\n",
    "        #plot_ba_ca_smoothed(main_line, figure_folder, sim_name)\n",
    "        #plot_ba_ca(main_line, figure_folder, sim_name)\n",
    "        trees.append(tree)\n",
    "        main_lines.append(main_line)\n",
    "\n"
   ]
  },
  {
   "cell_type": "code",
   "execution_count": 7,
   "id": "132bb94589a2ec31",
   "metadata": {
    "ExecuteTime": {
     "end_time": "2024-12-05T18:05:55.176453Z",
     "start_time": "2024-12-05T18:05:55.163572Z"
    }
   },
   "outputs": [
    {
     "name": "stdout",
     "output_type": "stream",
     "text": [
      "Loaded existing data from picklable_main_lines.pkl\n",
      "Saved combined data to picklable_main_lines.pkl\n"
     ]
    }
   ],
   "source": [
    "#save \n",
    "tmp.save_picklable_data(main_lines)\n"
   ]
  },
  {
   "cell_type": "code",
   "execution_count": 3,
   "id": "1d6225ecbf5b7f5e",
   "metadata": {
    "ExecuteTime": {
     "end_time": "2025-03-31T17:28:32.890328Z",
     "start_time": "2025-03-31T17:28:32.850541Z"
    }
   },
   "outputs": [
    {
     "ename": "ModuleNotFoundError",
     "evalue": "No module named 'merger_properties'",
     "output_type": "error",
     "traceback": [
      "\u001b[0;31m---------------------------------------------------------------------------\u001b[0m",
      "\u001b[0;31mModuleNotFoundError\u001b[0m                       Traceback (most recent call last)",
      "Cell \u001b[0;32mIn[3], line 4\u001b[0m\n\u001b[1;32m      2\u001b[0m os\u001b[38;5;241m.\u001b[39menviron[\u001b[38;5;124m'\u001b[39m\u001b[38;5;124mTANGOS_DB_CONNECTION\u001b[39m\u001b[38;5;124m'\u001b[39m] \u001b[38;5;241m=\u001b[39m \u001b[38;5;124m'\u001b[39m\u001b[38;5;124m/home/bk639/data_base/BWMDC_test.db\u001b[39m\u001b[38;5;124m'\u001b[39m\n\u001b[1;32m      3\u001b[0m os\u001b[38;5;241m.\u001b[39menviron[\u001b[38;5;124m'\u001b[39m\u001b[38;5;124mTANGOS_SIMULATION_FOLDER\u001b[39m\u001b[38;5;124m'\u001b[39m] \u001b[38;5;241m=\u001b[39m \u001b[38;5;124m'\u001b[39m\u001b[38;5;124m/home/bk639/data/BWMDC\u001b[39m\u001b[38;5;124m'\u001b[39m\n\u001b[0;32m----> 4\u001b[0m \u001b[38;5;28;01mimport\u001b[39;00m \u001b[38;5;21;01mmerger_properties\u001b[39;00m\n\u001b[1;32m      5\u001b[0m \u001b[38;5;66;03m#this locks the database, so kill the kernel to unlock\u001b[39;00m\n\u001b[1;32m      6\u001b[0m \u001b[38;5;28;01mimport\u001b[39;00m \u001b[38;5;21;01mtangos\u001b[39;00m\n",
      "\u001b[0;31mModuleNotFoundError\u001b[0m: No module named 'merger_properties'"
     ]
    }
   ],
   "source": [
    "import os\n",
    "os.environ['TANGOS_DB_CONNECTION'] = '/home/bk639/data_base/BWMDC_test.db'\n",
    "os.environ['TANGOS_SIMULATION_FOLDER'] = '/home/bk639/data/BWMDC'\n",
    "import merger_properties\n",
    "#this locks the database, so kill the kernel to unlock\n",
    "import tangos\n",
    "#once  tangos is loaded force a reload\n",
    "import importlib\n",
    "importlib.reload(tangos)\n",
    "importlib.reload(merger_properties)\n",
    "import tangos_merger_plot as tmp\n",
    "from merger_properties import SmoothAxisRatio\n",
    "#print names of SmoothAxisRatio functions\n",
    "\n",
    "tangos.all_simulations()\n",
    "elektra = tangos.get_simulation('elektra.cosmo25cmb.4096g5HbwK1BH')\n",
    "\n",
    "halo = elektra.timesteps[-1].halos[2] #2\n",
    "print(halo)\n",
    "print(halo['Mvir'])\n",
    "print(halo['reff'])\n",
    "\n",
    "#set earlier timesteps reff to that at -1\n",
    "# for i in range(2,len(elektra.timesteps)):\n",
    "#     halo = elektra.timesteps[-i].halos[2]\n",
    "#     halo['reff'] = elektra.timesteps[-1].halos[2]['reff']\n",
    "#     print(halo['reff'])\n",
    "#plt.plot(halo['rbins'], halo.calculate('ba_s_smoothed()'), label='Stellar B/A')\n",
    "\n",
    "\n",
    "storm = tangos.get_simulation('storm.cosmo25cmb.4096g5HbwK1BH')\n",
    "halo = storm.timesteps[-4].halos[3]\n",
    "# for i in range(2,len(storm.timesteps)):\n",
    "#     halo = storm.timesteps[-i].halos[3]\n",
    "#     halo['reff'] = storm.timesteps[-1].halos[3]['reff']\n",
    "#     print(halo['reff'])\n",
    "\n",
    "#print(halo)\n",
    "#print(halo['Mvir'])\n",
    "\n",
    "rogue = tangos.get_simulation('rogue.cosmo25cmb.4096g5HbwK1BH')\n",
    "halo = rogue.timesteps[-4].halos[0]\n",
    "\n",
    "# for i in range(2,len(rogue.timesteps)):\n",
    "#     halo = rogue.timesteps[-i].halos[0]\n",
    "#     halo['reff'] = rogue.timesteps[-1].halos[0]['reff']\n",
    "#     print(halo['reff'])\n",
    "#print(halo)\n",
    "#print(halo['Mvir'])\n",
    "# sims = ['h148.cosmo50PLK.3072g3HbwK1BH','h148.cosmo50PLK.3072g3HbwK1BH', 'h329.cosmo50PLK.3072gst5HbwK1BH', 'storm.cosmo25cmb.4096g5HbwK1BH' ,'storm.cosmo25cmb.4096g5HbwK1BH', 'storm.cosmo25cmb.4096g5HbwK1BH', 'cptmarvel.cosmo25cmb.4096g5HbwK1BH']\n",
    "# merger_halos = [2,11 ,7 ,2,6,7, 7]"
   ]
  },
  {
   "cell_type": "code",
   "execution_count": 2,
   "id": "6bcc59e6dbbb2f5d",
   "metadata": {
    "ExecuteTime": {
     "end_time": "2024-12-06T23:12:23.171692Z",
     "start_time": "2024-12-06T23:12:22.797554Z"
    }
   },
   "outputs": [
    {
     "name": "stdout",
     "output_type": "stream",
     "text": [
      "<Simulation(\"elektra.cosmo25cmb.4096g5HbwK1BH\")>\n",
      "elektra.cosmo25cmb.4096g5HbwK1BH\n",
      "Building merger tree for <Simulation(\"elektra.cosmo25cmb.4096g5HbwK1BH\")>\n",
      "1.0999457994294426\n",
      "1.0999457994294426\n",
      "1.0999457994294426\n",
      "1.0999457994294426\n",
      "1.0999457994294426\n",
      "1.0999457994294426\n",
      "<Simulation(\"storm.cosmo25cmb.4096g5HbwK1BH\")>\n",
      "storm.cosmo25cmb.4096g5HbwK1BH\n",
      "Building merger tree for <Simulation(\"storm.cosmo25cmb.4096g5HbwK1BH\")>\n",
      "1.7187970287557166\n",
      "1.7187970287557166\n",
      "1.7187970287557166\n",
      "1.7187970287557166\n",
      "1.7187970287557166\n",
      "1.7187970287557166\n",
      "<Simulation(\"rogue.cosmo25cmb.4096g5HbwK1BH\")>\n",
      "rogue.cosmo25cmb.4096g5HbwK1BH\n",
      "Building merger tree for <Simulation(\"rogue.cosmo25cmb.4096g5HbwK1BH\")>\n",
      "0.8477720928175199\n",
      "0.8477720928175199\n",
      "0.8477720928175199\n",
      "0.8477720928175199\n",
      "0.8477720928175199\n",
      "0.8477720928175199\n"
     ]
    }
   ],
   "source": [
    "\n",
    "\n",
    "import numpy as np\n",
    "sim_names = ['elektra.cosmo25cmb.4096g5HbwK1BH', 'storm.cosmo25cmb.4096g5HbwK1BH', 'rogue.cosmo25cmb.4096g5HbwK1BH']\n",
    "sims = [tangos.get_simulation(sim) for sim in sim_names]\n",
    "\n",
    "\n",
    "merger_halos = [2,3,0]\n",
    "# try:\n",
    "#     main_lines = pickle.load(open('main_lines.pkl', 'rb'))\n",
    "#     trees = pickle.load(open('trees.pkl', 'rb'))\n",
    "# except:\n",
    "#     print('No existing pickle files found')\n",
    "\n",
    "main_lines = []\n",
    "trees = []\n",
    "NaN = np.nan\n",
    "merger_ratios = {2: [0.178100,0.102379,None] , 3: [0.226337,0.141545,None], 0: [None,0.019733,None]}\n",
    "\n",
    "\n",
    "for sim in sims:\n",
    "    #get simulation name from sim object\n",
    "    print(sim)\n",
    "    sim_name = str(sim.basename)\n",
    "    print(sim_name)\n",
    "    #strip everything excpt for something like r615\n",
    "    sim_name = sim_name.split('.')[0]\n",
    "\n",
    "    print(f\"Building merger tree for {sim}\")\n",
    "    figure_folder = f'../../Figures/mergers/{sim_name}'\n",
    "    if not os.path.exists(figure_folder):\n",
    "        os.makedirs(figure_folder)\n",
    "\n",
    "    halo = sim.timesteps[-1].halos[merger_halos[sims.index(sim)]]\n",
    "    tree, main_line = tmp.build_merger_tree(halo, max_depth=4)\n",
    "\n",
    "    #compare merger_ratios with values in main_line\n",
    "    halo_ratios = merger_ratios[merger_halos[sims.index(sim)]]\n",
    "    for i, node in enumerate(main_line):\n",
    "        if i == 3:\n",
    "            break\n",
    "        if halo_ratios[i] is not None:\n",
    "            expected_ratio = 1/halo_ratios[i]\n",
    "        else:\n",
    "            expected_ratio = None\n",
    "        #node_merger = node.merger_ratio\n",
    "        #print(f'Expected: {expected_ratio}, Actual: {node_merger}')\n",
    "        #update merger ratio\n",
    "        if halo_ratios[i] is not None:\n",
    "            main_line[i].merger_ratio = expected_ratio\n",
    "            main_line[i].is_merger = True\n",
    "            main_line[i].merger_time = main_line[i].halo.timestep.time_gyr\n",
    "\n",
    "    main_line = main_line[:-1]\n",
    "    #print_merger_tree(tree)\n",
    "    #plot_ba_ca_smoothed(main_line, figure_folder, sim_name)\n",
    "    #plot_ba_ca(main_line, figure_folder, sim_name)\n",
    "    \n",
    "    trees.append(tree)\n",
    "    main_lines.append(main_line)\n",
    "    \n",
    "\n",
    "\n",
    "\n",
    "#save to pickle, try and open existing pickle frist to avoid overwriting\n"
   ]
  },
  {
   "cell_type": "code",
   "execution_count": null,
   "id": "a0220cf47d222197",
   "metadata": {
    "ExecuteTime": {
     "end_time": "2024-12-06T23:12:25.729673Z",
     "start_time": "2024-12-06T23:12:25.725688Z"
    }
   },
   "outputs": [],
   "source": []
  },
  {
   "cell_type": "code",
   "execution_count": 2,
   "id": "f3969a4dc28af45",
   "metadata": {
    "ExecuteTime": {
     "end_time": "2025-04-01T22:35:00.980479Z",
     "start_time": "2025-04-01T22:34:59.187365Z"
    }
   },
   "outputs": [
    {
     "ename": "NameError",
     "evalue": "name 'main_lines' is not defined",
     "output_type": "error",
     "traceback": [
      "\u001b[0;31m---------------------------------------------------------------------------\u001b[0m",
      "\u001b[0;31mNameError\u001b[0m                                 Traceback (most recent call last)",
      "Cell \u001b[0;32mIn[2], line 3\u001b[0m\n\u001b[1;32m      1\u001b[0m \u001b[38;5;28;01mimport\u001b[39;00m \u001b[38;5;21;01mtangos_merger_plot\u001b[39;00m \u001b[38;5;28;01mas\u001b[39;00m \u001b[38;5;21;01mtmp\u001b[39;00m\n\u001b[1;32m      2\u001b[0m \u001b[38;5;66;03m#load merger trees \u001b[39;00m\n\u001b[0;32m----> 3\u001b[0m tmp\u001b[38;5;241m.\u001b[39msave_picklable_data(\u001b[43mmain_lines\u001b[49m)\n",
      "\u001b[0;31mNameError\u001b[0m: name 'main_lines' is not defined"
     ]
    }
   ],
   "source": [
    "import tangos_merger_plot\n",
    "# Usage in your main code:\n",
    "# After generating your main_lines:\n",
    "tmp.save_picklable_data(main_lines)\n",
    "\n"
   ]
  },
  {
   "cell_type": "code",
   "execution_count": 3,
   "id": "a1c6a825e93b1c99",
   "metadata": {
    "ExecuteTime": {
     "end_time": "2025-04-01T22:35:13.208218Z",
     "start_time": "2025-04-01T22:35:13.172070Z"
    }
   },
   "outputs": [],
   "source": [
    "# When you want to load and use the data later\n",
    "import tangos_merger_plot\n",
    "picklable_data = tmp.load_picklable_data()\n",
    "reconstructed_main_lines = tmp.reconstruct_main_lines(picklable_data)\n"
   ]
  },
  {
   "cell_type": "code",
   "execution_count": 4,
   "id": "a9b54b5c9f97ff3e",
   "metadata": {
    "ExecuteTime": {
     "end_time": "2025-04-01T22:35:14.712056Z",
     "start_time": "2025-04-01T22:35:14.705074Z"
    }
   },
   "outputs": [
    {
     "name": "stdout",
     "output_type": "stream",
     "text": [
      "7.598859239559366 5.614823133071308 3\n",
      "7.5907048243102775 9.767628126861954 3\n",
      "7.575915281656773 None 3\n",
      "7.777155223753273 4.418190574232229 4\n",
      "7.776464321903526 7.064891024055954 4\n",
      "7.772580508145098 None 4\n",
      "9.21517157626922 None 1\n",
      "9.206825282830128 50.67653169817058 1\n",
      "9.18699858460347 None 1\n"
     ]
    }
   ],
   "source": [
    "import numpy as np\n",
    "for main_line in reconstructed_main_lines:\n",
    "    for node in main_line:\n",
    "        print(np.log10(node.mstar), node.merger_ratio,node.halo_number)\n"
   ]
  },
  {
   "cell_type": "markdown",
   "id": "9b619dd4693eb4bf",
   "metadata": {},
   "source": []
  },
  {
   "cell_type": "code",
   "execution_count": 11,
   "id": "9781104c30eb344c",
   "metadata": {
    "ExecuteTime": {
     "end_time": "2025-04-01T22:47:31.872763Z",
     "start_time": "2025-04-01T22:47:30.984330Z"
    }
   },
   "outputs": [
    {
     "name": "stdout",
     "output_type": "stream",
     "text": [
      "[[<tangos_merger_plot.SimpleHaloNode object at 0x7f3ddd318bf0>, <tangos_merger_plot.SimpleHaloNode object at 0x7f3ddd319be0>, <tangos_merger_plot.SimpleHaloNode object at 0x7f3ddd319d00>], [<tangos_merger_plot.SimpleHaloNode object at 0x7f3ddd31a240>, <tangos_merger_plot.SimpleHaloNode object at 0x7f3ddd319e80>, <tangos_merger_plot.SimpleHaloNode object at 0x7f3ddd319e50>], [<tangos_merger_plot.SimpleHaloNode object at 0x7f3ddd319f70>, <tangos_merger_plot.SimpleHaloNode object at 0x7f3ddd31a000>, <tangos_merger_plot.SimpleHaloNode object at 0x7f3ddd31a1e0>]]\n",
      "at timestep 13.731118532447283 Gyr, merger ratio is 5.614823133071308\n",
      "at timestep 13.516741748586895 Gyr, merger ratio is nan\n",
      "at timestep 13.731118532488576 Gyr, merger ratio is 4.418190574232229\n",
      "at timestep 13.516741748629212 Gyr, merger ratio is nan\n",
      "at timestep 13.516741748684929 Gyr, merger ratio is nan\n",
      "ba_s: 0.58 - 0.62\n",
      "ca_s: 0.34 - 0.38\n",
      "ba_d: 0.72 - 0.73\n",
      "ca_d: 0.46 - 0.49\n",
      "elektra 3\n",
      "{'elektra 3': {'ba_s': [array(0.57561346), array(0.5900362), array(0.62111885)], 'ca_s': [array(0.34023693), array(0.36842611), array(0.37604173)], 'ba_d': [array(0.72000764), array(0.71984519), array(0.73264854)], 'ca_d': [array(0.4595429), array(0.47944026), array(0.48643542)], 'largest_merger_ratio': 5.614823133071308, 'z': [-0.0, 0.016, 0.041]}}\n",
      "5.6 39706283.542761676 -3.985922703009237e-11\n",
      "ba_s: 0.87 - 0.90\n",
      "ca_s: 0.33 - 0.34\n",
      "ba_d: 0.92 - 0.95\n",
      "ca_d: 0.53 - 0.54\n",
      "storm 4\n",
      "{'elektra 3': {'ba_s': [array(0.57561346), array(0.5900362), array(0.62111885)], 'ca_s': [array(0.34023693), array(0.36842611), array(0.37604173)], 'ba_d': [array(0.72000764), array(0.71984519), array(0.73264854)], 'ca_d': [array(0.4595429), array(0.47944026), array(0.48643542)], 'largest_merger_ratio': 5.614823133071308, 'z': [-0.0, 0.016, 0.041]}, 'storm 4': {'ba_s': [array(0.86931509), array(0.87148739), array(0.89542156)], 'ca_s': [array(0.32906719), array(0.33565337), array(0.33941387)], 'ba_d': [array(0.93816736), array(0.92148227), array(0.95028548)], 'ca_d': [array(0.52558006), array(0.53064726), array(0.53853322)], 'largest_merger_ratio': 4.418190574232229, 'z': [-0.0, 0.016, 0.041]}}\n",
      "4.4 59862551.5106293 -4.2942094324871505e-11\n",
      "No merger found for simulation 2\n",
      "Saved merger output file\n"
     ]
    },
    {
     "data": {
      "image/png": "[encoded data removed]",
      "text/plain": [
       "<Figure size 800x800 with 1 Axes>"
      ]
     },
     "metadata": {},
     "output_type": "display_data"
    }
   ],
   "source": [
    "\n",
    "# Usage\n",
    "#main_lines = load_halo_nodes('main_lines.pkl')\n",
    "#reload tangos_merger_plot.py\n",
    "import importlib\n",
    "importlib.reload(tmp)\n",
    "\n",
    "\n",
    "\n",
    "print(reconstructed_main_lines)\n",
    "#remove merger ratios greater than 10\n",
    "for main_line in reconstructed_main_lines:\n",
    "    for node in main_line:\n",
    "        if node.merger_ratio != np.nan and node.merger_ratio != None:\n",
    "            #print(node.merger_ratio)\n",
    "            #print(node.merger_time)\n",
    "            \n",
    "            print(f'at timestep {node.merger_time} Gyr, merger ratio is {node.merger_ratio}')\n",
    "            if node.merger_ratio > 6:\n",
    "                node.merger_ratio = np.nan\n",
    "                node.is_merger = False\n",
    "\n",
    "tmp.plot_merger_ba_ca(reconstructed_main_lines, '/home/bk639/OverLeaf/ShapePaper/figures/', link_dm_to_stellar=False, link_timesteps=True)\n",
    "\n",
    "# tmp.plot_merger_ba_ca(reconstructed_main_lines, '/home/bk639/OverLeaf/ShapePaper/figures/', link_dm_to_stellar=True, link_timesteps=False)\n",
    "\n",
    "#tmp.plot_Mstar_vs_T(reconstructed_main_lines, '/home/bk639/OverLeaf/ShapePaper/figures/', link_timesteps=True)"
   ]
  },
  {
   "cell_type": "code",
   "execution_count": 7,
   "id": "6b05f0d25d5f40fd",
   "metadata": {
    "ExecuteTime": {
     "end_time": "2024-12-06T23:13:12.401739Z",
     "start_time": "2024-12-06T23:13:11.599620Z"
    }
   },
   "outputs": [
    {
     "name": "stdout",
     "output_type": "stream",
     "text": [
      "No merger found for simulation 2\n"
     ]
    },
    {
     "data": {
      "image/png": "[encoded data removed]",
      "text/plain": [
       "<Figure size 800x800 with 1 Axes>"
      ]
     },
     "metadata": {},
     "output_type": "display_data"
    }
   ],
   "source": [
    "import importlib\n",
    "importlib.reload(tmp)\n",
    "\n",
    "tmp.plot_merger_T_d_vs_T_s(reconstructed_main_lines, '/home/bk639/OverLeaf/ShapePaper/figures/', link_timesteps=True)"
   ]
  },
  {
   "cell_type": "code",
   "execution_count": 9,
   "id": "7bba8fb6d107c9c4",
   "metadata": {
    "ExecuteTime": {
     "end_time": "2024-08-23T20:01:04.695082Z",
     "start_time": "2024-08-23T20:01:04.679725Z"
    }
   },
   "outputs": [
    {
     "ename": "AttributeError",
     "evalue": "'SimpleHaloNode' object has no attribute 'sim_name'",
     "output_type": "error",
     "traceback": [
      "\u001b[0;31m---------------------------------------------------------------------------\u001b[0m",
      "\u001b[0;31mAttributeError\u001b[0m                            Traceback (most recent call last)",
      "Cell \u001b[0;32mIn[9], line 4\u001b[0m\n\u001b[1;32m      2\u001b[0m \u001b[38;5;28;01mfor\u001b[39;00m main_line \u001b[38;5;129;01min\u001b[39;00m reconstructed_main_lines:\n\u001b[1;32m      3\u001b[0m     \u001b[38;5;28;01mfor\u001b[39;00m node \u001b[38;5;129;01min\u001b[39;00m main_line:\n\u001b[0;32m----> 4\u001b[0m         \u001b[38;5;28mprint\u001b[39m(np\u001b[38;5;241m.\u001b[39mlog10(node\u001b[38;5;241m.\u001b[39mmstar), node\u001b[38;5;241m.\u001b[39mmerger_ratio,node\u001b[38;5;241m.\u001b[39mhalo_number, node\u001b[38;5;241m.\u001b[39msim_name)\n",
      "\u001b[0;31mAttributeError\u001b[0m: 'SimpleHaloNode' object has no attribute 'sim_name'"
     ]
    }
   ],
   "source": [
    "#print merger ratios with halo numbers and simulation names\n",
    "for main_line in reconstructed_main_lines:\n",
    "    for node in main_line:\n",
    "        print(np.log10(node.mstar), node.merger_ratio,node.halo_number, node.sim_name)"
   ]
  },
  {
   "cell_type": "code",
   "execution_count": 14,
   "id": "28643022623a37cb",
   "metadata": {
    "ExecuteTime": {
     "end_time": "2025-03-31T18:13:17.832164Z",
     "start_time": "2025-03-31T18:13:17.826238Z"
    }
   },
   "outputs": [],
   "source": [
    "merger_ratios = {2: [0.178100,0.102379,None] , 3: [0.226337,0.141545,None], 0: [None,0.019733,None]}"
   ]
  },
  {
   "cell_type": "code",
   "execution_count": 26,
   "id": "6a9a5f92a2926adf",
   "metadata": {
    "ExecuteTime": {
     "end_time": "2025-03-31T18:15:39.866711Z",
     "start_time": "2025-03-31T18:15:39.859588Z"
    }
   },
   "outputs": [
    {
     "name": "stdout",
     "output_type": "stream",
     "text": [
      "[0.1781, 0.102379, None]\n",
      "5.614823133071308\n",
      "9.767628126861954\n",
      "[0.226337, 0.141545, None]\n",
      "4.418190574232229\n",
      "7.064891024055954\n",
      "[None, 0.019733, None]\n",
      "50.67653169817058\n"
     ]
    }
   ],
   "source": [
    "for i in merger_ratios.keys():\n",
    "    print(merger_ratios[i][:])\n",
    "    for j in range(3):\n",
    "        if merger_ratios[i][j] is not None:\n",
    "            print(1/merger_ratios[i][j])"
   ]
  },
  {
   "cell_type": "code",
   "execution_count": null,
   "id": "8c97742ea88f102f",
   "metadata": {},
   "outputs": [],
   "source": []
  }
 ],
 "metadata": {
  "kernelspec": {
   "display_name": "Python 3",
   "language": "python",
   "name": "python3"
  },
  "language_info": {
   "codemirror_mode": {
    "name": "ipython",
    "version": 2
   },
   "file_extension": ".py",
   "mimetype": "text/x-python",
   "name": "python",
   "nbconvert_exporter": "python",
   "pygments_lexer": "ipython2",
   "version": "2.7.6"
  }
 },
 "nbformat": 4,
 "nbformat_minor": 5
}
