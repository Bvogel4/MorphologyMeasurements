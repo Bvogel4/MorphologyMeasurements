{
 "cells": [
  {
   "cell_type": "code",
   "execution_count": 24,
   "id": "initial_id",
   "metadata": {
    "ExecuteTime": {
     "end_time": "2024-06-17T20:34:02.991262Z",
     "start_time": "2024-06-17T20:34:02.957849Z"
    },
    "collapsed": true
   },
   "outputs": [
    {
     "name": "stdout",
     "output_type": "stream",
     "text": [
      "{'BW': False, 'SB': False, 'RDZ': True, 'AK': False, 'AB': False, 'SIM': True}\n",
      "B\n",
      "S\n"
     ]
    },
    {
     "ename": "ValueError",
     "evalue": "too many values to unpack (expected 2)",
     "output_type": "error",
     "traceback": [
      "\u001b[0;31m---------------------------------------------------------------------------\u001b[0m",
      "\u001b[0;31mValueError\u001b[0m                                Traceback (most recent call last)",
      "Cell \u001b[0;32mIn[24], line 3\u001b[0m\n\u001b[1;32m      1\u001b[0m \u001b[38;5;28;01mfrom\u001b[39;00m \u001b[38;5;21;01mConfig_dir\u001b[39;00m \u001b[38;5;28;01mimport\u001b[39;00m sim_type_name\n\u001b[1;32m      2\u001b[0m \u001b[38;5;28mprint\u001b[39m(sim_type_name)\n\u001b[0;32m----> 3\u001b[0m \u001b[38;5;28;01mfor\u001b[39;00m feedback, use_sim \u001b[38;5;129;01min\u001b[39;00m sim_type_name:\n\u001b[1;32m      4\u001b[0m     \u001b[38;5;66;03m#if use_sim:\u001b[39;00m\n\u001b[1;32m      5\u001b[0m     \u001b[38;5;28mprint\u001b[39m(feedback)\n",
      "\u001b[0;31mValueError\u001b[0m: too many values to unpack (expected 2)"
     ]
    }
   ],
   "source": [
    "from SimInfoDicts.sim_type_name import sim_type_name\n",
    "print(sim_type_name)\n",
    "for feedback, use_sim in sim_type_name.items():\n",
    "    if use_sim:\n",
    "        print(feedback)"
   ]
  },
  {
   "cell_type": "code",
   "execution_count": 33,
   "id": "44cd0f62d73c8055",
   "metadata": {
    "ExecuteTime": {
     "end_time": "2025-01-17T23:10:33.179590Z",
     "start_time": "2025-01-17T23:10:33.167873Z"
    }
   },
   "outputs": [],
   "source": [
    "#dictonary for BW sims\n",
    "marvel_path = '/home/bk639/data/Marvel/'\n",
    "dcjl_path = '/home/bk639/data/DCJL/'\n",
    "Sims = {\n",
    "    #Sim name for image/file naming purposes\n",
    "    'cptmarvel' : {\n",
    "        #Path to sim data\n",
    "        'path' : marvel_path+'cptmarvel.cosmo25cmb.4096g5HbwK1BH/cptmarvel.cosmo25cmb.4096g5HbwK1BH.004096/cptmarvel.cosmo25cmb.4096g5HbwK1BH.004096',\n",
    "        #IDs of resolved halos in sim\n",
    "        'halos' : [1,2,3,5,6,7,10,11,13,14,24],\n",
    "        #IDs of halos that are valid for all morphology methods\n",
    "        #These are the halos that will have saved data/images and contribute to figures\n",
    "        'goodhalos' : [1,2,3,5,6,7,10]\n",
    "    },\n",
    "    'elektra' : {\n",
    "        'path' : marvel_path+'elektra.cosmo25cmb.4096g5HbwK1BH/elektra.cosmo25cmb.4096g5HbwK1BH.004096/elektra.cosmo25cmb.4096g5HbwK1BH.004096',\n",
    "        'halos' : [1,2,3,4,5,8,9,10,11,12,17,36,64],\n",
    "        'goodhalos' : [1,2,3,4,5,9,10]\n",
    "    },\n",
    "    'storm' : {\n",
    "        'path' : marvel_path+'storm.cosmo25cmb.4096g5HbwK1BH/storm.cosmo25cmb.4096g5HbwK1BH.004096/storm.cosmo25cmb.4096g5HbwK1BH.004096',\n",
    "        'halos' : [1,2,3,4,5,6,7,8,10,11,12,14,15,22,23,31,37,44,48,55,118],\n",
    "        'goodhalos' : [1,2,3,4,5,6,7,8,14,31]\n",
    "    },\n",
    "    'rogue' : {\n",
    "        'path' : marvel_path+'rogue.cosmo25cmb.4096g5HbwK1BH/rogue.cosmo25cmb.4096g5HbwK1BH.004096/rogue.cosmo25cmb.4096g5HbwK1BH.004096',\n",
    "        'halos' : [1,3,7,8,10,11,12,15,16,17,28,31,37,58,116],\n",
    "        'goodhalos' : [1,3,7,8,10,11,12,15,28]\n",
    "    },\n",
    "    'h148' : {\n",
    "        'path' : dcjl_path+'h148.cosmo50PLK.3072g3HbwK1BH/h148.cosmo50PLK.3072g3HbwK1BH.004096/h148.cosmo50PLK.3072g3HbwK1BH.004096',\n",
    "        'halos' : [2,3,4,6,7,11,12,13,15,20,23,27,28,29,33,34,37,38,41,43,51,59,65,75,86,94,109,114,122],\n",
    "        'goodhalos' : [2,3,4,6,7,11,12,23,27,38,65]\n",
    "    },\n",
    "    'h229' : {\n",
    "        'path' : dcjl_path+'h229.cosmo50PLK.3072gst5HbwK1BH/h229.cosmo50PLK.3072gst5HbwK1BH.004096/h229.cosmo50PLK.3072gst5HbwK1BH.004096',\n",
    "        'halos' : [2,3,6,14,15,18,20,22,25,33,47,48,49,52,57,62,89,92,127],\n",
    "        'goodhalos' : [2,3,6,18]\n",
    "    },\n",
    "    'h242' : {\n",
    "        'path' : dcjl_path+'h242.cosmo50PLK.3072gst5HbwK1BH/h242.cosmo50PLK.3072gst5HbwK1BH.004096/h242.cosmo50PLK.3072gst5HbwK1BH.004096',\n",
    "        'halos' : [8,10,21,26,30,34,38,42,44,45,63,70,81,138],\n",
    "        'goodhalos' : [8,10]\n",
    "    },\n",
    "    'h329' : {\n",
    "        'path' : dcjl_path+'h329.cosmo50PLK.3072gst5HbwK1BH/h329.cosmo50PLK.3072gst5HbwK1BH.004096/h329.cosmo50PLK.3072gst5HbwK1BH.004096',\n",
    "        'halos' : [7,9,29,30,37,53,115,117,127],\n",
    "        'goodhalos' : [7]\n",
    "    }\n",
    "}"
   ]
  },
  {
   "cell_type": "code",
   "execution_count": 25,
   "id": "6c528cd5cacc6769",
   "metadata": {
    "ExecuteTime": {
     "end_time": "2025-01-17T23:04:14.159072Z",
     "start_time": "2025-01-17T23:04:11.284888Z"
    }
   },
   "outputs": [
    {
     "name": "stderr",
     "output_type": "stream",
     "text": [
      "pynbody.halo : An error occurred while reading substructure file. Falling back to using the halo info.\n"
     ]
    }
   ],
   "source": [
    "#using pynbody load sim elektra\n",
    "import pynbody\n",
    "sim = pynbody.load(Sims['storm']['path'])\n",
    "sim.physical_units()\n",
    "h = sim.halos(priority = 'AHFCatalogue')"
   ]
  },
  {
   "cell_type": "code",
   "execution_count": 26,
   "id": "f7540b063f0d269c",
   "metadata": {
    "ExecuteTime": {
     "end_time": "2025-01-17T23:04:19.273092Z",
     "start_time": "2025-01-17T23:04:19.268353Z"
    }
   },
   "outputs": [
    {
     "name": "stdout",
     "output_type": "stream",
     "text": [
      "<pynbody.halo.ahf.AHFCatalogue object at 0x7fe70cee4530>\n"
     ]
    }
   ],
   "source": [
    "\n",
    "print(h)"
   ]
  },
  {
   "cell_type": "code",
   "execution_count": 27,
   "id": "26132715ed7b04f3",
   "metadata": {
    "ExecuteTime": {
     "end_time": "2025-01-17T23:04:35.471705Z",
     "start_time": "2025-01-17T23:04:33.912402Z"
    }
   },
   "outputs": [],
   "source": [
    "halo = h[14]"
   ]
  },
  {
   "cell_type": "code",
   "execution_count": 28,
   "id": "eed7b4758a221dd4",
   "metadata": {
    "ExecuteTime": {
     "end_time": "2025-01-17T23:04:35.497211Z",
     "start_time": "2025-01-17T23:04:35.491938Z"
    }
   },
   "outputs": [
    {
     "name": "stdout",
     "output_type": "stream",
     "text": [
      "543349\n",
      "5615\n"
     ]
    }
   ],
   "source": [
    "#print number of dm and star particles\n",
    "print(len(halo.dm))\n",
    "print(len(halo.star))"
   ]
  },
  {
   "cell_type": "code",
   "execution_count": null,
   "id": "bdfa061d1e2564ba",
   "metadata": {},
   "outputs": [],
   "source": []
  },
  {
   "cell_type": "code",
   "execution_count": 34,
   "id": "54496f8c860516d4",
   "metadata": {
    "ExecuteTime": {
     "end_time": "2025-01-17T23:11:13.305192Z",
     "start_time": "2025-01-17T23:11:13.286747Z"
    }
   },
   "outputs": [
    {
     "data": {
      "text/plain": [
       "[1, 2, 3, 4, 5, 6, 7, 8, 14, 31]"
      ]
     },
     "execution_count": 34,
     "metadata": {},
     "output_type": "execute_result"
    }
   ],
   "source": [
    "Sims['storm']['goodhalos']"
   ]
  },
  {
   "cell_type": "code",
   "execution_count": 36,
   "id": "6c2559d4bb924df9",
   "metadata": {
    "ExecuteTime": {
     "end_time": "2025-01-17T23:12:50.750621Z",
     "start_time": "2025-01-17T23:11:45.566297Z"
    }
   },
   "outputs": [
    {
     "name": "stderr",
     "output_type": "stream",
     "text": [
      "pynbody.halo : An error occurred while reading substructure file. Falling back to using the halo info.\n"
     ]
    },
    {
     "name": "stdout",
     "output_type": "stream",
     "text": [
      "storm halo 14 has 543349 dark matter particles and 5615 star particles\n"
     ]
    },
    {
     "name": "stderr",
     "output_type": "stream",
     "text": [
      "pynbody.halo : An error occurred while reading substructure file. Falling back to using the halo info.\n"
     ]
    },
    {
     "name": "stdout",
     "output_type": "stream",
     "text": [
      "elektra halo 10 has 608181 dark matter particles and 4408 star particles\n"
     ]
    },
    {
     "name": "stderr",
     "output_type": "stream",
     "text": [
      "pynbody.halo : An error occurred while reading substructure file. Falling back to using the halo info.\n"
     ]
    },
    {
     "name": "stdout",
     "output_type": "stream",
     "text": [
      "cptmarvel halo 7 has 752887 dark matter particles and 4199 star particles\n"
     ]
    },
    {
     "name": "stderr",
     "output_type": "stream",
     "text": [
      "pynbody.halo : An error occurred while reading substructure file. Falling back to using the halo info.\n"
     ]
    },
    {
     "name": "stdout",
     "output_type": "stream",
     "text": [
      "rogue halo 15 has 568294 dark matter particles and 6760 star particles\n",
      "rogue halo 28 has 245967 dark matter particles and 5777 star particles\n"
     ]
    }
   ],
   "source": [
    "#iterate over marvel simulations, and print the number of total particles in good halos\n",
    "for name in ['storm', 'elektra', 'cptmarvel', 'rogue']:\n",
    "    sim = pynbody.load(Sims[name]['path'])\n",
    "    sim.physical_units()\n",
    "    h = sim.halos(priority = 'AHFCatalogue')\n",
    "    for halo_id in Sims[name]['goodhalos']:\n",
    "        halo = h[halo_id]\n",
    "        N_d = len(halo.dm)\n",
    "        N_s = len(halo.star)\n",
    "        if N_s < 10000:\n",
    "            print(f'{name} halo {halo_id} has {N_d} dark matter particles and {N_s} star particles')"
   ]
  },
  {
   "cell_type": "code",
   "execution_count": 26,
   "id": "b046b8ef490cd73e",
   "metadata": {
    "ExecuteTime": {
     "end_time": "2024-06-18T22:31:15.050508Z",
     "start_time": "2024-06-18T22:31:15.039945Z"
    }
   },
   "outputs": [
    {
     "name": "stdout",
     "output_type": "stream",
     "text": [
      "MerianCDM\n"
     ]
    }
   ],
   "source": [
    "#feedback might look someting like MerianCDM or MerianSIDM\n",
    "feedback = 'MerianCDM'\n",
    "key = 'Merian'\n",
    "if key in feedback:\n",
    "   print(feedback)"
   ]
  },
  {
   "cell_type": "code",
   "execution_count": 28,
   "id": "cf7eb4d6663f71ec",
   "metadata": {
    "ExecuteTime": {
     "end_time": "2024-06-20T15:58:56.067974Z",
     "start_time": "2024-06-20T15:58:56.061771Z"
    }
   },
   "outputs": [
    {
     "name": "stdout",
     "output_type": "stream",
     "text": [
      "dict_keys(['r431', 'r442', 'r468', 'r488', 'r492', 'r502', 'r515', 'r523', 'r544', 'r552', 'r555', 'r556', 'r563', 'r568', 'r569', 'r571', 'r597', 'r613', 'r614', 'r615', 'r618', 'r634', 'r642', 'r656', 'r716', 'r718', 'r761', 'r850', 'r852', 'r886', 'r916', 'r918', 'r977'])\n"
     ]
    }
   ],
   "source": [
    "#test load pickle files\n",
    "import pickle\n",
    "feedback = 'MerianCDM'\n",
    "#write looks like this\n",
    "#with open(f\"../Data/BasicData/Masses.{feedback}.pickle\", 'wb') as f:\n",
    "#    pickle.dump(all_sim_masses, f)\n",
    "\n",
    "#read looks like this\n",
    "with open(f\"../Data/BasicData/Masses.{feedback}.pickle\", 'rb') as f:\n",
    "    all_sim_masses = pickle.load(f)\n",
    "    \n",
    "with open('../../Data/BasicData/MerianCDM.Masses.pickle', 'rb') as f:\n",
    "    all_sim_masses = pickle.load(f)\n",
    "    \n",
    "print(all_sim_masses.keys())\n"
   ]
  },
  {
   "cell_type": "code",
   "execution_count": 22,
   "id": "2fcb0e03f706890",
   "metadata": {
    "ExecuteTime": {
     "end_time": "2024-11-25T17:15:56.897015Z",
     "start_time": "2024-11-25T17:15:56.887844Z"
    }
   },
   "outputs": [
    {
     "name": "stdout",
     "output_type": "stream",
     "text": [
      "[{'simulation': 'cptmarvel', 'halo_id': 1, 'radius': 1.1921934264183585, 'absolute_angle': 13.605881303595092, 'axis_a_angle': 13.507361725405874, 'axis_b_angle': 13.544100226778202, 'axis_c_angle': 2.075694625617635}, {'simulation': 'cptmarvel', 'halo_id': 2, 'radius': 1.7999902263277663, 'absolute_angle': 11.691996405825474, 'axis_a_angle': 11.289312114733551, 'axis_b_angle': 11.690627875236157, 'axis_c_angle': 3.037469692005635}, {'simulation': 'cptmarvel', 'halo_id': 3, 'radius': 0.7981366009237243, 'absolute_angle': 149.63295015131493, 'axis_a_angle': 30.640041592293578, 'axis_b_angle': 30.573758360316504, 'axis_c_angle': 5.282996470617029}, {'simulation': 'cptmarvel', 'halo_id': 5, 'radius': 0.7291244278752737, 'absolute_angle': 27.69298117842176, 'axis_a_angle': 22.462529202241928, 'axis_b_angle': 23.035022514747673, 'axis_c_angle': 22.10349549954775}, {'simulation': 'cptmarvel', 'halo_id': 6, 'radius': 0.5468342222497418, 'absolute_angle': 14.935342423395026, 'axis_a_angle': 7.118975000551638, 'axis_b_angle': 14.19393550197968, 'axis_c_angle': 13.91053083866627}, {'simulation': 'cptmarvel', 'halo_id': 7, 'radius': 0.5198136806190278, 'absolute_angle': 5.038424721856555, 'axis_a_angle': 4.667158080987685, 'axis_b_angle': 4.588661431077861, 'axis_c_angle': 2.815217174523116}, {'simulation': 'cptmarvel', 'halo_id': 10, 'radius': 0.41529171871104864, 'absolute_angle': 116.1215174826511, 'axis_a_angle': 64.75573284763338, 'axis_b_angle': 20.720943086053314, 'axis_c_angle': 67.08349409158734}, {'simulation': 'elektra', 'halo_id': 1, 'radius': 1.6364762885547919, 'absolute_angle': 178.26974121930792, 'axis_a_angle': 2.436214120263934, 'axis_b_angle': 2.5648431003664496, 'axis_c_angle': 2.3118789813341434}, {'simulation': 'elektra', 'halo_id': 2, 'radius': 0.8188772118901069, 'absolute_angle': 124.2378764324212, 'axis_a_angle': 24.48736783524385, 'axis_b_angle': 61.76146846969864, 'axis_c_angle': 55.79404307097468}, {'simulation': 'elektra', 'halo_id': 3, 'radius': 1.1314909166560652, 'absolute_angle': 9.462696114540977, 'axis_a_angle': 8.765493842405965, 'axis_b_angle': 9.460900019571133, 'axis_c_angle': 3.562731071245376}, {'simulation': 'elektra', 'halo_id': 4, 'radius': 1.3864166433451335, 'absolute_angle': 9.409046956878711, 'axis_a_angle': 5.264011837347006, 'axis_b_angle': 9.308847250000637, 'axis_c_angle': 7.912502085476978}, {'simulation': 'elektra', 'halo_id': 5, 'radius': 0.7578558888847796, 'absolute_angle': 15.938593956049294, 'axis_a_angle': 15.548911581545239, 'axis_b_angle': 13.273288575549339, 'axis_c_angle': 9.451442393096338}, {'simulation': 'elektra', 'halo_id': 9, 'radius': 0.3130519384102601, 'absolute_angle': 81.9191029269985, 'axis_a_angle': 15.25518857624675, 'axis_b_angle': 80.06038716637765, 'axis_c_angle': 81.7340194158237}, {'simulation': 'elektra', 'halo_id': 10, 'radius': 0.2553595393510515, 'absolute_angle': 177.0596436171379, 'axis_a_angle': 27.591808631327606, 'axis_b_angle': 82.24809771232285, 'axis_c_angle': 75.7601865533612}, {'simulation': 'storm', 'halo_id': 1, 'radius': 3.9168973395437625, 'absolute_angle': 178.28030623699186, 'axis_a_angle': 30.76506778989848, 'axis_b_angle': 30.71458379921839, 'axis_c_angle': 1.7197394377660182}, {'simulation': 'storm', 'halo_id': 2, 'radius': 3.472497927947269, 'absolute_angle': 108.89536048266872, 'axis_a_angle': 71.11392870963292, 'axis_b_angle': 71.45152525403239, 'axis_c_angle': 6.220285979704965}, {'simulation': 'storm', 'halo_id': 3, 'radius': 1.2267619240935714, 'absolute_angle': 176.12596752867287, 'axis_a_angle': 43.22740887637096, 'axis_b_angle': 43.056759602312916, 'axis_c_angle': 4.07921246248811}, {'simulation': 'storm', 'halo_id': 4, 'radius': 1.9037138582512543, 'absolute_angle': 179.02957500019528, 'axis_a_angle': 16.94090006330772, 'axis_b_angle': 16.914472673625966, 'axis_c_angle': 1.0008396911431992}, {'simulation': 'storm', 'halo_id': 5, 'radius': 0.5029300892448343, 'absolute_angle': 73.71714297766589, 'axis_a_angle': 5.5248433079204675, 'axis_b_angle': 73.69808286619283, 'axis_c_angle': 73.4587439991757}, {'simulation': 'storm', 'halo_id': 6, 'radius': 0.4022733717207337, 'absolute_angle': 172.8070581296899, 'axis_a_angle': 7.739618238686282, 'axis_b_angle': 2.875134691645995, 'axis_c_angle': 7.201613900444013}, {'simulation': 'storm', 'halo_id': 7, 'radius': 0.6484403686453413, 'absolute_angle': 177.81077900513654, 'axis_a_angle': 49.91301303174453, 'axis_b_angle': 49.878835902914766, 'axis_c_angle': 2.56705016977551}, {'simulation': 'storm', 'halo_id': 8, 'radius': 0.9205258006076066, 'absolute_angle': 10.102477867801316, 'axis_a_angle': 7.800080736826409, 'axis_b_angle': 6.7960375272398785, 'axis_c_angle': 9.846362390945227}, {'simulation': 'storm', 'halo_id': 14, 'radius': 0.36047635844708026, 'absolute_angle': 166.986107761949, 'axis_a_angle': 83.26746868142656, 'axis_b_angle': 82.11121947955279, 'axis_c_angle': 14.38529578018183}, {'simulation': 'storm', 'halo_id': 31, 'radius': 0.6099957208189003, 'absolute_angle': 64.73689564243635, 'axis_a_angle': 9.051167736500956, 'axis_b_angle': 63.94568475461012, 'axis_c_angle': 64.73661951145866}, {'simulation': 'rogue', 'halo_id': 1, 'radius': 0.9192541062446632, 'absolute_angle': 23.337259986411908, 'axis_a_angle': 22.26804292678353, 'axis_b_angle': 20.93819947252458, 'axis_c_angle': 12.31486433472356}, {'simulation': 'rogue', 'halo_id': 3, 'radius': 2.9649215154324615, 'absolute_angle': 179.83160109910213, 'axis_a_angle': 83.25929255983787, 'axis_b_angle': 83.25714868774918, 'axis_c_angle': 0.5483516660502921}, {'simulation': 'rogue', 'halo_id': 7, 'radius': 0.9269223953718797, 'absolute_angle': 96.85794437891278, 'axis_a_angle': 13.109033659356319, 'axis_b_angle': 84.36778916723618, 'axis_c_angle': 83.41863482971148}, {'simulation': 'rogue', 'halo_id': 8, 'radius': 1.5784485567432853, 'absolute_angle': 40.894155782426104, 'axis_a_angle': 40.114379930736334, 'axis_b_angle': 40.83008094443816, 'axis_c_angle': 7.933519906124724}, {'simulation': 'rogue', 'halo_id': 10, 'radius': 0.8911388264835779, 'absolute_angle': 5.886541193215582, 'axis_a_angle': 4.363976503157856, 'axis_b_angle': 5.028423687426074, 'axis_c_angle': 4.995367166540131}, {'simulation': 'rogue', 'halo_id': 11, 'radius': 0.8441177301697771, 'absolute_angle': 38.43809114289434, 'axis_a_angle': 37.95406611367358, 'axis_b_angle': 38.42257601928147, 'axis_c_angle': 5.952645440785942}, {'simulation': 'rogue', 'halo_id': 12, 'radius': 0.8065309415119748, 'absolute_angle': 15.154653129014326, 'axis_a_angle': 15.042653778135422, 'axis_b_angle': 13.053964200651464, 'axis_c_angle': 7.880258345913707}, {'simulation': 'rogue', 'halo_id': 15, 'radius': 0.3262764887152759, 'absolute_angle': 50.860499601727746, 'axis_a_angle': 50.24667384856603, 'axis_b_angle': 50.84713151248635, 'axis_c_angle': 7.45543169207137}, {'simulation': 'rogue', 'halo_id': 28, 'radius': 0.4454846511160279, 'absolute_angle': 150.90876565841165, 'axis_a_angle': 30.256467398283625, 'axis_b_angle': 29.280228659364898, 'axis_c_angle': 8.764306536624892}, {'simulation': 'h148', 'halo_id': 2, 'radius': 3.1830643222610093, 'absolute_angle': 19.20081358566691, 'axis_a_angle': 19.169533920624637, 'axis_b_angle': 19.109608743076627, 'axis_c_angle': 2.1465825406875902}, {'simulation': 'h148', 'halo_id': 3, 'radius': 3.3335437524689095, 'absolute_angle': 176.9993271132822, 'axis_a_angle': 3.8878991431124468, 'axis_b_angle': 2.75842495658136, 'axis_c_angle': 3.241024322073558}, {'simulation': 'h148', 'halo_id': 4, 'radius': 2.5315278976795037, 'absolute_angle': 37.679475507410665, 'axis_a_angle': 37.67033577261207, 'axis_b_angle': 37.66842923823608, 'axis_c_angle': 1.1890262645280427}, {'simulation': 'h148', 'halo_id': 6, 'radius': 2.355150299318994, 'absolute_angle': 30.832159717282014, 'axis_a_angle': 29.82535125105532, 'axis_b_angle': 30.805105627021202, 'axis_c_angle': 7.741892231861139}, {'simulation': 'h148', 'halo_id': 7, 'radius': 1.5179213475109914, 'absolute_angle': 177.08655293735814, 'axis_a_angle': 2.9617607243346113, 'axis_b_angle': 5.890052561465123, 'axis_c_angle': 5.1456148200112235}, {'simulation': 'h148', 'halo_id': 11, 'radius': 0.8342671374857521, 'absolute_angle': 142.1352050076259, 'axis_a_angle': 29.98606426714576, 'axis_b_angle': 47.84010814640733, 'axis_c_angle': 39.29749491986239}, {'simulation': 'h148', 'halo_id': 12, 'radius': 0.8290215974596472, 'absolute_angle': 162.42307551973417, 'axis_a_angle': 24.82028759245932, 'axis_b_angle': 17.811635969930983, 'axis_c_angle': 17.998774244894427}, {'simulation': 'h148', 'halo_id': 23, 'radius': 2.0791403374362614, 'absolute_angle': 77.98340066766201, 'axis_a_angle': 28.86354189007717, 'axis_b_angle': 77.52934630029016, 'axis_c_angle': 71.05388838324352}, {'simulation': 'h148', 'halo_id': 27, 'radius': 1.76081004485283, 'absolute_angle': 106.02677095385631, 'axis_a_angle': 21.90641664236471, 'axis_b_angle': 74.248604400142, 'axis_c_angle': 77.96533106091299}, {'simulation': 'h148', 'halo_id': 38, 'radius': 1.6654985776721003, 'absolute_angle': 36.633682845350414, 'axis_a_angle': 4.422678887023403, 'axis_b_angle': 36.39032789783717, 'axis_c_angle': 36.59039718204485}, {'simulation': 'h148', 'halo_id': 65, 'radius': 2.3762460791591535, 'absolute_angle': 179.63666443400245, 'axis_a_angle': 10.508815970410826, 'axis_b_angle': 12.761432674452418, 'axis_c_angle': 16.551244431935213}, {'simulation': 'h229', 'halo_id': 2, 'radius': 1.478665083599041, 'absolute_angle': 177.9091019594451, 'axis_a_angle': 2.0952790258000933, 'axis_b_angle': 3.3745918610390295, 'axis_c_angle': 3.9678588315433525}, {'simulation': 'h229', 'halo_id': 3, 'radius': 1.0978455659872493, 'absolute_angle': 5.835542617663548, 'axis_a_angle': 4.8002799395672655, 'axis_b_angle': 3.8232536553513157, 'axis_c_angle': 5.516403087672367}, {'simulation': 'h229', 'halo_id': 6, 'radius': 1.3788681966235508, 'absolute_angle': 20.816160117934114, 'axis_a_angle': 20.78541126974923, 'axis_b_angle': 17.534902604393153, 'axis_c_angle': 11.186378067635333}, {'simulation': 'h229', 'halo_id': 18, 'radius': 1.4755270341176119, 'absolute_angle': 134.3206854248431, 'axis_a_angle': 88.93112596138539, 'axis_b_angle': 83.31114832737666, 'axis_c_angle': 74.79843880771487}, {'simulation': 'h242', 'halo_id': 8, 'radius': 2.291633290553976, 'absolute_angle': 162.88796633605082, 'axis_a_angle': 17.519007098520287, 'axis_b_angle': 18.715337682266053, 'axis_c_angle': 8.397350736202013}, {'simulation': 'h242', 'halo_id': 10, 'radius': 1.9895485140088789, 'absolute_angle': 174.62818989709507, 'axis_a_angle': 57.75065492881442, 'axis_b_angle': 57.84066150645804, 'axis_c_angle': 7.000295684661685}, {'simulation': 'h329', 'halo_id': 7, 'radius': 1.5706568143661437, 'absolute_angle': 37.93801126782365, 'axis_a_angle': 37.55489646662596, 'axis_b_angle': 33.23647825716247, 'axis_c_angle': 18.528171652715553}, {'simulation': 'r431', 'halo_id': 1, 'radius': 3.6829038984962534, 'absolute_angle': 32.43641264295353, 'axis_a_angle': 32.434684159066265, 'axis_b_angle': 32.4340100796671, 'axis_c_angle': 0.5038844827791336}]\n"
     ]
    }
   ],
   "source": [
    "# open a StShapes file StShapes = pickle.load(open(f'../../Data/{sim}.{feedbacks[i]}.3DShapes.pickle', 'rb'))\n",
    "import pickle\n",
    "import numpy as np\n",
    "import matplotlib.pyplot as plt\n",
    "\n",
    "with open('../Data/r431.MerianCDM.3DShapes.pickle', 'rb') as f:\n",
    "    all_sim_shapes = pickle.load(f)\n",
    "    print(all_sim_shapes[1]['diffs_at_Reff'])\n",
    "    "
   ]
  },
  {
   "cell_type": "code",
   "execution_count": 27,
   "id": "32269c6d0204698e",
   "metadata": {
    "ExecuteTime": {
     "end_time": "2024-06-21T19:30:45.752445Z",
     "start_time": "2024-06-21T19:30:45.746323Z"
    }
   },
   "outputs": [],
   "source": [
    "feedback_type = ['MerianCDM', 'MerianSIDM', 'BW']"
   ]
  },
  {
   "cell_type": "code",
   "execution_count": 30,
   "id": "fc5b8792af6b4beb",
   "metadata": {
    "ExecuteTime": {
     "end_time": "2024-06-21T19:31:54.535578Z",
     "start_time": "2024-06-21T19:31:54.528444Z"
    }
   },
   "outputs": [],
   "source": [
    "#color should be \n",
    "#color = ['r', 'r', 'b']\n",
    "\n",
    "color = ['r' if feedback == 'MerianCDM' else 'b' for feedback in feedback_type]\n"
   ]
  },
  {
   "cell_type": "code",
   "execution_count": 31,
   "id": "70c07d69555f9c77",
   "metadata": {
    "ExecuteTime": {
     "end_time": "2024-06-21T19:31:55.000778Z",
     "start_time": "2024-06-21T19:31:54.994299Z"
    }
   },
   "outputs": [
    {
     "name": "stdout",
     "output_type": "stream",
     "text": [
      "['r', 'b', 'b']\n"
     ]
    }
   ],
   "source": [
    "print(color)"
   ]
  },
  {
   "cell_type": "code",
   "execution_count": 6,
   "id": "f80d9e74e6aac409",
   "metadata": {
    "ExecuteTime": {
     "end_time": "2024-12-17T19:12:52.382086Z",
     "start_time": "2024-12-17T19:12:52.360257Z"
    }
   },
   "outputs": [],
   "source": [
    "import pynbody\n",
    "#path = '/home/bk639/data/MerianSIDM/r634.romulus25si2s50v35/r634.romulus25si2s50v35.3072g1HsbBH.004032'\n",
    "#path = '/home/bk639/data/MerianSIDM/r431.romulus25.3072g1HsbBH/r431.romulus25.3072g1HsbBH.004096'\n",
    "path ='/data/akaxia/rzooms/r568.romulus25si2s50v35.3072g1HsbBH/r568.romulus25si2s50v35.3072g1HsbBH.004096'\n",
    "sim = pynbody.load(path)\n",
    "sim.physical_units()\n",
    "\n"
   ]
  },
  {
   "cell_type": "code",
   "execution_count": 7,
   "id": "bcc506bc2a871a92",
   "metadata": {
    "ExecuteTime": {
     "end_time": "2024-12-17T19:12:55.641213Z",
     "start_time": "2024-12-17T19:12:55.564822Z"
    }
   },
   "outputs": [
    {
     "name": "stderr",
     "output_type": "stream",
     "text": [
      "pynbody.halo : An error occurred while reading substructure file. Falling back to using the halo info.\n"
     ]
    },
    {
     "data": {
      "text/plain": [
       "<pynbody.halo.ahf.AHFCatalogue at 0x7fe70f94f680>"
      ]
     },
     "execution_count": 7,
     "metadata": {},
     "output_type": "execute_result"
    }
   ],
   "source": [
    "sim.halos()"
   ]
  },
  {
   "cell_type": "code",
   "execution_count": 8,
   "id": "8199d840a7cb3f13",
   "metadata": {
    "ExecuteTime": {
     "end_time": "2024-12-17T19:13:15.255465Z",
     "start_time": "2024-12-17T19:12:56.810848Z"
    }
   },
   "outputs": [
    {
     "name": "stderr",
     "output_type": "stream",
     "text": [
      "pynbody.halo : An error occurred while reading substructure file. Falling back to using the halo info.\n"
     ]
    },
    {
     "name": "stdout",
     "output_type": "stream",
     "text": [
      "0.2671288012597258\n",
      "11.107450514913353\n"
     ]
    }
   ],
   "source": [
    "h = sim.halos()[1]\n",
    "print(h.s['r'].max())\n",
    "print(h.s['mass'].max())"
   ]
  },
  {
   "cell_type": "code",
   "execution_count": 9,
   "id": "32b2dfc09a77f2f3",
   "metadata": {
    "ExecuteTime": {
     "end_time": "2024-12-17T19:13:20.348345Z",
     "start_time": "2024-12-17T19:13:15.299799Z"
    }
   },
   "outputs": [
    {
     "name": "stderr",
     "output_type": "stream",
     "text": [
      "pynbody.halo : An error occurred while reading substructure file. Falling back to using the halo info.\n"
     ]
    },
    {
     "name": "stdout",
     "output_type": "stream",
     "text": [
      "0.0030868555866807312\n"
     ]
    }
   ],
   "source": [
    "h1 = sim.halos()[1]\n",
    "print(h1.s['mass'].in_units('Msol')[1000])"
   ]
  },
  {
   "cell_type": "code",
   "execution_count": 17,
   "id": "c8efc2bb4eefe7a0",
   "metadata": {
    "ExecuteTime": {
     "end_time": "2024-10-31T01:13:40.949547Z",
     "start_time": "2024-10-31T01:13:38.512509Z"
    }
   },
   "outputs": [
    {
     "name": "stderr",
     "output_type": "stream",
     "text": [
      "<>:57: SyntaxWarning: invalid escape sequence '\\.'\n",
      "<>:57: SyntaxWarning: invalid escape sequence '\\.'\n",
      "/tmp/ipykernel_3266512/2458434311.py:57: SyntaxWarning: invalid escape sequence '\\.'\n",
      "  middle_part = re.search(f\"{snapshot}(.*?)\\.\", example_files[0]).group(1)\n"
     ]
    },
    {
     "name": "stdout",
     "output_type": "stream",
     "text": [
      "Missing files in /data/akaxia/rzooms/r634.romulus25si2s50v35.3072g1HsbBH/:\n",
      "  .AHF_halos:\n",
      "    /data/akaxia/rzooms/r634.romulus25si2s50v35.3072g1HsbBH/r634.romulus25si2s50v35.3072g1HsbBH.000069.AHF_halos\n",
      "    /data/akaxia/rzooms/r634.romulus25si2s50v35.3072g1HsbBH/r634.romulus25si2s50v35.3072g1HsbBH.000096.AHF_halos\n",
      "    /data/akaxia/rzooms/r634.romulus25si2s50v35.3072g1HsbBH/r634.romulus25si2s50v35.3072g1HsbBH.000105.AHF_halos\n",
      "    /data/akaxia/rzooms/r634.romulus25si2s50v35.3072g1HsbBH/r634.romulus25si2s50v35.3072g1HsbBH.000136.AHF_halos\n",
      "    /data/akaxia/rzooms/r634.romulus25si2s50v35.3072g1HsbBH/r634.romulus25si2s50v35.3072g1HsbBH.000273.AHF_halos\n",
      "    /data/akaxia/rzooms/r634.romulus25si2s50v35.3072g1HsbBH/r634.romulus25si2s50v35.3072g1HsbBH.000345.AHF_halos\n",
      "    /data/akaxia/rzooms/r634.romulus25si2s50v35.3072g1HsbBH/r634.romulus25si2s50v35.3072g1HsbBH.000454.AHF_halos\n",
      "    /data/akaxia/rzooms/r634.romulus25si2s50v35.3072g1HsbBH/r634.romulus25si2s50v35.3072g1HsbBH.000672.AHF_halos\n",
      "    /data/akaxia/rzooms/r634.romulus25si2s50v35.3072g1HsbBH/r634.romulus25si2s50v35.3072g1HsbBH.000768.AHF_halos\n",
      "    /data/akaxia/rzooms/r634.romulus25si2s50v35.3072g1HsbBH/r634.romulus25si2s50v35.3072g1HsbBH.000775.AHF_halos\n",
      "    /data/akaxia/rzooms/r634.romulus25si2s50v35.3072g1HsbBH/r634.romulus25si2s50v35.3072g1HsbBH.001152.AHF_halos\n",
      "    /data/akaxia/rzooms/r634.romulus25si2s50v35.3072g1HsbBH/r634.romulus25si2s50v35.3072g1HsbBH.001440.AHF_halos\n",
      "    /data/akaxia/rzooms/r634.romulus25si2s50v35.3072g1HsbBH/r634.romulus25si2s50v35.3072g1HsbBH.001632.AHF_halos\n",
      "    /data/akaxia/rzooms/r634.romulus25si2s50v35.3072g1HsbBH/r634.romulus25si2s50v35.3072g1HsbBH.001920.AHF_halos\n",
      "    /data/akaxia/rzooms/r634.romulus25si2s50v35.3072g1HsbBH/r634.romulus25si2s50v35.3072g1HsbBH.002304.AHF_halos\n",
      "    /data/akaxia/rzooms/r634.romulus25si2s50v35.3072g1HsbBH/r634.romulus25si2s50v35.3072g1HsbBH.002554.AHF_halos\n",
      "    /data/akaxia/rzooms/r634.romulus25si2s50v35.3072g1HsbBH/r634.romulus25si2s50v35.3072g1HsbBH.002592.AHF_halos\n",
      "    /data/akaxia/rzooms/r634.romulus25si2s50v35.3072g1HsbBH/r634.romulus25si2s50v35.3072g1HsbBH.002688.AHF_halos\n",
      "    /data/akaxia/rzooms/r634.romulus25si2s50v35.3072g1HsbBH/r634.romulus25si2s50v35.3072g1HsbBH.002880.AHF_halos\n",
      "    /data/akaxia/rzooms/r634.romulus25si2s50v35.3072g1HsbBH/r634.romulus25si2s50v35.3072g1HsbBH.002976.AHF_halos\n",
      "    /data/akaxia/rzooms/r634.romulus25si2s50v35.3072g1HsbBH/r634.romulus25si2s50v35.3072g1HsbBH.004032.AHF_halos\n",
      "  .AHF_particles:\n",
      "    /data/akaxia/rzooms/r634.romulus25si2s50v35.3072g1HsbBH/r634.romulus25si2s50v35.3072g1HsbBH.000069.AHF_particles\n",
      "    /data/akaxia/rzooms/r634.romulus25si2s50v35.3072g1HsbBH/r634.romulus25si2s50v35.3072g1HsbBH.000096.AHF_particles\n",
      "    /data/akaxia/rzooms/r634.romulus25si2s50v35.3072g1HsbBH/r634.romulus25si2s50v35.3072g1HsbBH.000105.AHF_particles\n",
      "    /data/akaxia/rzooms/r634.romulus25si2s50v35.3072g1HsbBH/r634.romulus25si2s50v35.3072g1HsbBH.000136.AHF_particles\n",
      "    /data/akaxia/rzooms/r634.romulus25si2s50v35.3072g1HsbBH/r634.romulus25si2s50v35.3072g1HsbBH.000186.AHF_particles\n",
      "    /data/akaxia/rzooms/r634.romulus25si2s50v35.3072g1HsbBH/r634.romulus25si2s50v35.3072g1HsbBH.000192.AHF_particles\n",
      "    /data/akaxia/rzooms/r634.romulus25si2s50v35.3072g1HsbBH/r634.romulus25si2s50v35.3072g1HsbBH.000384.AHF_particles\n",
      "    /data/akaxia/rzooms/r634.romulus25si2s50v35.3072g1HsbBH/r634.romulus25si2s50v35.3072g1HsbBH.000576.AHF_particles\n",
      "    /data/akaxia/rzooms/r634.romulus25si2s50v35.3072g1HsbBH/r634.romulus25si2s50v35.3072g1HsbBH.000635.AHF_particles\n",
      "    /data/akaxia/rzooms/r634.romulus25si2s50v35.3072g1HsbBH/r634.romulus25si2s50v35.3072g1HsbBH.000672.AHF_particles\n",
      "    /data/akaxia/rzooms/r634.romulus25si2s50v35.3072g1HsbBH/r634.romulus25si2s50v35.3072g1HsbBH.000775.AHF_particles\n",
      "    /data/akaxia/rzooms/r634.romulus25si2s50v35.3072g1HsbBH/r634.romulus25si2s50v35.3072g1HsbBH.000864.AHF_particles\n",
      "    /data/akaxia/rzooms/r634.romulus25si2s50v35.3072g1HsbBH/r634.romulus25si2s50v35.3072g1HsbBH.001152.AHF_particles\n",
      "    /data/akaxia/rzooms/r634.romulus25si2s50v35.3072g1HsbBH/r634.romulus25si2s50v35.3072g1HsbBH.001268.AHF_particles\n",
      "    /data/akaxia/rzooms/r634.romulus25si2s50v35.3072g1HsbBH/r634.romulus25si2s50v35.3072g1HsbBH.001344.AHF_particles\n",
      "    /data/akaxia/rzooms/r634.romulus25si2s50v35.3072g1HsbBH/r634.romulus25si2s50v35.3072g1HsbBH.001632.AHF_particles\n",
      "    /data/akaxia/rzooms/r634.romulus25si2s50v35.3072g1HsbBH/r634.romulus25si2s50v35.3072g1HsbBH.001739.AHF_particles\n",
      "    /data/akaxia/rzooms/r634.romulus25si2s50v35.3072g1HsbBH/r634.romulus25si2s50v35.3072g1HsbBH.001920.AHF_particles\n",
      "    /data/akaxia/rzooms/r634.romulus25si2s50v35.3072g1HsbBH/r634.romulus25si2s50v35.3072g1HsbBH.002016.AHF_particles\n",
      "    /data/akaxia/rzooms/r634.romulus25si2s50v35.3072g1HsbBH/r634.romulus25si2s50v35.3072g1HsbBH.002208.AHF_particles\n",
      "    /data/akaxia/rzooms/r634.romulus25si2s50v35.3072g1HsbBH/r634.romulus25si2s50v35.3072g1HsbBH.002496.AHF_particles\n",
      "    /data/akaxia/rzooms/r634.romulus25si2s50v35.3072g1HsbBH/r634.romulus25si2s50v35.3072g1HsbBH.002880.AHF_particles\n",
      "    /data/akaxia/rzooms/r634.romulus25si2s50v35.3072g1HsbBH/r634.romulus25si2s50v35.3072g1HsbBH.002976.AHF_particles\n",
      "    /data/akaxia/rzooms/r634.romulus25si2s50v35.3072g1HsbBH/r634.romulus25si2s50v35.3072g1HsbBH.003072.AHF_particles\n",
      "    /data/akaxia/rzooms/r634.romulus25si2s50v35.3072g1HsbBH/r634.romulus25si2s50v35.3072g1HsbBH.003360.AHF_particles\n",
      "    /data/akaxia/rzooms/r634.romulus25si2s50v35.3072g1HsbBH/r634.romulus25si2s50v35.3072g1HsbBH.003606.AHF_particles\n",
      "    /data/akaxia/rzooms/r634.romulus25si2s50v35.3072g1HsbBH/r634.romulus25si2s50v35.3072g1HsbBH.003744.AHF_particles\n",
      "  .AHF_param:\n",
      "    /data/akaxia/rzooms/r634.romulus25si2s50v35.3072g1HsbBH/r634.romulus25si2s50v35.3072g1HsbBH.000069.AHF_param\n",
      "    /data/akaxia/rzooms/r634.romulus25si2s50v35.3072g1HsbBH/r634.romulus25si2s50v35.3072g1HsbBH.000192.AHF_param\n",
      "    /data/akaxia/rzooms/r634.romulus25si2s50v35.3072g1HsbBH/r634.romulus25si2s50v35.3072g1HsbBH.000345.AHF_param\n",
      "    /data/akaxia/rzooms/r634.romulus25si2s50v35.3072g1HsbBH/r634.romulus25si2s50v35.3072g1HsbBH.000576.AHF_param\n",
      "    /data/akaxia/rzooms/r634.romulus25si2s50v35.3072g1HsbBH/r634.romulus25si2s50v35.3072g1HsbBH.000635.AHF_param\n",
      "    /data/akaxia/rzooms/r634.romulus25si2s50v35.3072g1HsbBH/r634.romulus25si2s50v35.3072g1HsbBH.000775.AHF_param\n",
      "    /data/akaxia/rzooms/r634.romulus25si2s50v35.3072g1HsbBH/r634.romulus25si2s50v35.3072g1HsbBH.000864.AHF_param\n",
      "    /data/akaxia/rzooms/r634.romulus25si2s50v35.3072g1HsbBH/r634.romulus25si2s50v35.3072g1HsbBH.000960.AHF_param\n",
      "    /data/akaxia/rzooms/r634.romulus25si2s50v35.3072g1HsbBH/r634.romulus25si2s50v35.3072g1HsbBH.000972.AHF_param\n",
      "    /data/akaxia/rzooms/r634.romulus25si2s50v35.3072g1HsbBH/r634.romulus25si2s50v35.3072g1HsbBH.001104.AHF_param\n",
      "    /data/akaxia/rzooms/r634.romulus25si2s50v35.3072g1HsbBH/r634.romulus25si2s50v35.3072g1HsbBH.001248.AHF_param\n",
      "    /data/akaxia/rzooms/r634.romulus25si2s50v35.3072g1HsbBH/r634.romulus25si2s50v35.3072g1HsbBH.001268.AHF_param\n",
      "    /data/akaxia/rzooms/r634.romulus25si2s50v35.3072g1HsbBH/r634.romulus25si2s50v35.3072g1HsbBH.001536.AHF_param\n",
      "    /data/akaxia/rzooms/r634.romulus25si2s50v35.3072g1HsbBH/r634.romulus25si2s50v35.3072g1HsbBH.001728.AHF_param\n",
      "    /data/akaxia/rzooms/r634.romulus25si2s50v35.3072g1HsbBH/r634.romulus25si2s50v35.3072g1HsbBH.002087.AHF_param\n",
      "    /data/akaxia/rzooms/r634.romulus25si2s50v35.3072g1HsbBH/r634.romulus25si2s50v35.3072g1HsbBH.002496.AHF_param\n",
      "    /data/akaxia/rzooms/r634.romulus25si2s50v35.3072g1HsbBH/r634.romulus25si2s50v35.3072g1HsbBH.002554.AHF_param\n",
      "    /data/akaxia/rzooms/r634.romulus25si2s50v35.3072g1HsbBH/r634.romulus25si2s50v35.3072g1HsbBH.002592.AHF_param\n",
      "    /data/akaxia/rzooms/r634.romulus25si2s50v35.3072g1HsbBH/r634.romulus25si2s50v35.3072g1HsbBH.002976.AHF_param\n",
      "    /data/akaxia/rzooms/r634.romulus25si2s50v35.3072g1HsbBH/r634.romulus25si2s50v35.3072g1HsbBH.003072.AHF_param\n",
      "    /data/akaxia/rzooms/r634.romulus25si2s50v35.3072g1HsbBH/r634.romulus25si2s50v35.3072g1HsbBH.003168.AHF_param\n",
      "    /data/akaxia/rzooms/r634.romulus25si2s50v35.3072g1HsbBH/r634.romulus25si2s50v35.3072g1HsbBH.003195.AHF_param\n",
      "    /data/akaxia/rzooms/r634.romulus25si2s50v35.3072g1HsbBH/r634.romulus25si2s50v35.3072g1HsbBH.003264.AHF_param\n",
      "    /data/akaxia/rzooms/r634.romulus25si2s50v35.3072g1HsbBH/r634.romulus25si2s50v35.3072g1HsbBH.003360.AHF_param\n",
      "    /data/akaxia/rzooms/r634.romulus25si2s50v35.3072g1HsbBH/r634.romulus25si2s50v35.3072g1HsbBH.003552.AHF_param\n",
      "    /data/akaxia/rzooms/r634.romulus25si2s50v35.3072g1HsbBH/r634.romulus25si2s50v35.3072g1HsbBH.003744.AHF_param\n",
      "    /data/akaxia/rzooms/r634.romulus25si2s50v35.3072g1HsbBH/r634.romulus25si2s50v35.3072g1HsbBH.003840.AHF_param\n",
      "    /data/akaxia/rzooms/r634.romulus25si2s50v35.3072g1HsbBH/r634.romulus25si2s50v35.3072g1HsbBH.004032.AHF_param\n",
      "    /data/akaxia/rzooms/r634.romulus25si2s50v35.3072g1HsbBH/r634.romulus25si2s50v35.3072g1HsbBH.004096.AHF_param\n",
      "  .iord:\n",
      "    /data/akaxia/rzooms/r634.romulus25si2s50v35.3072g1HsbBH/r634.romulus25si2s50v35.3072g1HsbBH.000105.iord\n",
      "    /data/akaxia/rzooms/r634.romulus25si2s50v35.3072g1HsbBH/r634.romulus25si2s50v35.3072g1HsbBH.000136.iord\n",
      "    /data/akaxia/rzooms/r634.romulus25si2s50v35.3072g1HsbBH/r634.romulus25si2s50v35.3072g1HsbBH.000223.iord\n",
      "    /data/akaxia/rzooms/r634.romulus25si2s50v35.3072g1HsbBH/r634.romulus25si2s50v35.3072g1HsbBH.000273.iord\n",
      "    /data/akaxia/rzooms/r634.romulus25si2s50v35.3072g1HsbBH/r634.romulus25si2s50v35.3072g1HsbBH.000345.iord\n",
      "    /data/akaxia/rzooms/r634.romulus25si2s50v35.3072g1HsbBH/r634.romulus25si2s50v35.3072g1HsbBH.000480.iord\n",
      "    /data/akaxia/rzooms/r634.romulus25si2s50v35.3072g1HsbBH/r634.romulus25si2s50v35.3072g1HsbBH.000576.iord\n",
      "    /data/akaxia/rzooms/r634.romulus25si2s50v35.3072g1HsbBH/r634.romulus25si2s50v35.3072g1HsbBH.000672.iord\n",
      "    /data/akaxia/rzooms/r634.romulus25si2s50v35.3072g1HsbBH/r634.romulus25si2s50v35.3072g1HsbBH.000864.iord\n",
      "    /data/akaxia/rzooms/r634.romulus25si2s50v35.3072g1HsbBH/r634.romulus25si2s50v35.3072g1HsbBH.001056.iord\n",
      "    /data/akaxia/rzooms/r634.romulus25si2s50v35.3072g1HsbBH/r634.romulus25si2s50v35.3072g1HsbBH.001104.iord\n",
      "    /data/akaxia/rzooms/r634.romulus25si2s50v35.3072g1HsbBH/r634.romulus25si2s50v35.3072g1HsbBH.001440.iord\n",
      "    /data/akaxia/rzooms/r634.romulus25si2s50v35.3072g1HsbBH/r634.romulus25si2s50v35.3072g1HsbBH.001632.iord\n",
      "    /data/akaxia/rzooms/r634.romulus25si2s50v35.3072g1HsbBH/r634.romulus25si2s50v35.3072g1HsbBH.001728.iord\n",
      "    /data/akaxia/rzooms/r634.romulus25si2s50v35.3072g1HsbBH/r634.romulus25si2s50v35.3072g1HsbBH.001920.iord\n",
      "    /data/akaxia/rzooms/r634.romulus25si2s50v35.3072g1HsbBH/r634.romulus25si2s50v35.3072g1HsbBH.002087.iord\n",
      "    /data/akaxia/rzooms/r634.romulus25si2s50v35.3072g1HsbBH/r634.romulus25si2s50v35.3072g1HsbBH.002208.iord\n",
      "    /data/akaxia/rzooms/r634.romulus25si2s50v35.3072g1HsbBH/r634.romulus25si2s50v35.3072g1HsbBH.002592.iord\n",
      "    /data/akaxia/rzooms/r634.romulus25si2s50v35.3072g1HsbBH/r634.romulus25si2s50v35.3072g1HsbBH.002880.iord\n",
      "    /data/akaxia/rzooms/r634.romulus25si2s50v35.3072g1HsbBH/r634.romulus25si2s50v35.3072g1HsbBH.002976.iord\n",
      "    /data/akaxia/rzooms/r634.romulus25si2s50v35.3072g1HsbBH/r634.romulus25si2s50v35.3072g1HsbBH.003072.iord\n",
      "    /data/akaxia/rzooms/r634.romulus25si2s50v35.3072g1HsbBH/r634.romulus25si2s50v35.3072g1HsbBH.003195.iord\n",
      "    /data/akaxia/rzooms/r634.romulus25si2s50v35.3072g1HsbBH/r634.romulus25si2s50v35.3072g1HsbBH.003264.iord\n",
      "    /data/akaxia/rzooms/r634.romulus25si2s50v35.3072g1HsbBH/r634.romulus25si2s50v35.3072g1HsbBH.003456.iord\n",
      "    /data/akaxia/rzooms/r634.romulus25si2s50v35.3072g1HsbBH/r634.romulus25si2s50v35.3072g1HsbBH.003552.iord\n",
      "    /data/akaxia/rzooms/r634.romulus25si2s50v35.3072g1HsbBH/r634.romulus25si2s50v35.3072g1HsbBH.003606.iord\n",
      "    /data/akaxia/rzooms/r634.romulus25si2s50v35.3072g1HsbBH/r634.romulus25si2s50v35.3072g1HsbBH.003744.iord\n",
      "    /data/akaxia/rzooms/r634.romulus25si2s50v35.3072g1HsbBH/r634.romulus25si2s50v35.3072g1HsbBH.003840.iord\n",
      "    /data/akaxia/rzooms/r634.romulus25si2s50v35.3072g1HsbBH/r634.romulus25si2s50v35.3072g1HsbBH.004096.iord\n",
      "No missing files in /data/akaxia/rzooms/r492.romulus25si2s50v35.3072g1HsbBH/\n",
      "No missing files in /data/akaxia/rzooms/r468.romulus25si2s50v35.3072g1HsbBH/\n",
      "No missing files in /data/akaxia/rzooms/r488.romulus25si2s50v35.3072g1HsbBH/\n",
      "No missing files in /data/akaxia/rzooms/r544.romulus25si2s50v35.3072g1HsbBH/\n",
      "Missing files in /data/akaxia/rzooms/r597.romulus25si2s50v35.3072g1HsbBH/:\n",
      "  .AHF_halos:\n",
      "    /data/akaxia/rzooms/r597.romulus25si2s50v35.3072g1HsbBH/r597.romulus25si2s50v35.3072g1HsbBH.000635.AHF_halos\n",
      "    /data/akaxia/rzooms/r597.romulus25si2s50v35.3072g1HsbBH/r597.romulus25si2s50v35.3072g1HsbBH.000775.AHF_halos\n",
      "    /data/akaxia/rzooms/r597.romulus25si2s50v35.3072g1HsbBH/r597.romulus25si2s50v35.3072g1HsbBH.001248.AHF_halos\n",
      "    /data/akaxia/rzooms/r597.romulus25si2s50v35.3072g1HsbBH/r597.romulus25si2s50v35.3072g1HsbBH.001632.AHF_halos\n",
      "    /data/akaxia/rzooms/r597.romulus25si2s50v35.3072g1HsbBH/r597.romulus25si2s50v35.3072g1HsbBH.002112.AHF_halos\n",
      "    /data/akaxia/rzooms/r597.romulus25si2s50v35.3072g1HsbBH/r597.romulus25si2s50v35.3072g1HsbBH.002208.AHF_halos\n",
      "    /data/akaxia/rzooms/r597.romulus25si2s50v35.3072g1HsbBH/r597.romulus25si2s50v35.3072g1HsbBH.002592.AHF_halos\n",
      "    /data/akaxia/rzooms/r597.romulus25si2s50v35.3072g1HsbBH/r597.romulus25si2s50v35.3072g1HsbBH.002688.AHF_halos\n",
      "    /data/akaxia/rzooms/r597.romulus25si2s50v35.3072g1HsbBH/r597.romulus25si2s50v35.3072g1HsbBH.002880.AHF_halos\n",
      "  .AHF_particles:\n",
      "    /data/akaxia/rzooms/r597.romulus25si2s50v35.3072g1HsbBH/r597.romulus25si2s50v35.3072g1HsbBH.000454.AHF_particles\n",
      "    /data/akaxia/rzooms/r597.romulus25si2s50v35.3072g1HsbBH/r597.romulus25si2s50v35.3072g1HsbBH.000775.AHF_particles\n",
      "    /data/akaxia/rzooms/r597.romulus25si2s50v35.3072g1HsbBH/r597.romulus25si2s50v35.3072g1HsbBH.000972.AHF_particles\n",
      "    /data/akaxia/rzooms/r597.romulus25si2s50v35.3072g1HsbBH/r597.romulus25si2s50v35.3072g1HsbBH.001536.AHF_particles\n",
      "    /data/akaxia/rzooms/r597.romulus25si2s50v35.3072g1HsbBH/r597.romulus25si2s50v35.3072g1HsbBH.001728.AHF_particles\n",
      "    /data/akaxia/rzooms/r597.romulus25si2s50v35.3072g1HsbBH/r597.romulus25si2s50v35.3072g1HsbBH.002784.AHF_particles\n",
      "    /data/akaxia/rzooms/r597.romulus25si2s50v35.3072g1HsbBH/r597.romulus25si2s50v35.3072g1HsbBH.002880.AHF_particles\n",
      "    /data/akaxia/rzooms/r597.romulus25si2s50v35.3072g1HsbBH/r597.romulus25si2s50v35.3072g1HsbBH.003072.AHF_particles\n",
      "    /data/akaxia/rzooms/r597.romulus25si2s50v35.3072g1HsbBH/r597.romulus25si2s50v35.3072g1HsbBH.003456.AHF_particles\n",
      "    /data/akaxia/rzooms/r597.romulus25si2s50v35.3072g1HsbBH/r597.romulus25si2s50v35.3072g1HsbBH.003840.AHF_particles\n",
      "    /data/akaxia/rzooms/r597.romulus25si2s50v35.3072g1HsbBH/r597.romulus25si2s50v35.3072g1HsbBH.004032.AHF_particles\n",
      "  .AHF_param:\n",
      "    /data/akaxia/rzooms/r597.romulus25si2s50v35.3072g1HsbBH/r597.romulus25si2s50v35.3072g1HsbBH.000672.AHF_param\n",
      "    /data/akaxia/rzooms/r597.romulus25si2s50v35.3072g1HsbBH/r597.romulus25si2s50v35.3072g1HsbBH.000864.AHF_param\n",
      "    /data/akaxia/rzooms/r597.romulus25si2s50v35.3072g1HsbBH/r597.romulus25si2s50v35.3072g1HsbBH.001056.AHF_param\n",
      "    /data/akaxia/rzooms/r597.romulus25si2s50v35.3072g1HsbBH/r597.romulus25si2s50v35.3072g1HsbBH.001920.AHF_param\n",
      "    /data/akaxia/rzooms/r597.romulus25si2s50v35.3072g1HsbBH/r597.romulus25si2s50v35.3072g1HsbBH.002016.AHF_param\n",
      "    /data/akaxia/rzooms/r597.romulus25si2s50v35.3072g1HsbBH/r597.romulus25si2s50v35.3072g1HsbBH.002087.AHF_param\n",
      "    /data/akaxia/rzooms/r597.romulus25si2s50v35.3072g1HsbBH/r597.romulus25si2s50v35.3072g1HsbBH.002400.AHF_param\n",
      "    /data/akaxia/rzooms/r597.romulus25si2s50v35.3072g1HsbBH/r597.romulus25si2s50v35.3072g1HsbBH.002496.AHF_param\n",
      "    /data/akaxia/rzooms/r597.romulus25si2s50v35.3072g1HsbBH/r597.romulus25si2s50v35.3072g1HsbBH.002688.AHF_param\n",
      "    /data/akaxia/rzooms/r597.romulus25si2s50v35.3072g1HsbBH/r597.romulus25si2s50v35.3072g1HsbBH.002880.AHF_param\n",
      "    /data/akaxia/rzooms/r597.romulus25si2s50v35.3072g1HsbBH/r597.romulus25si2s50v35.3072g1HsbBH.003072.AHF_param\n",
      "    /data/akaxia/rzooms/r597.romulus25si2s50v35.3072g1HsbBH/r597.romulus25si2s50v35.3072g1HsbBH.003360.AHF_param\n",
      "    /data/akaxia/rzooms/r597.romulus25si2s50v35.3072g1HsbBH/r597.romulus25si2s50v35.3072g1HsbBH.003606.AHF_param\n",
      "    /data/akaxia/rzooms/r597.romulus25si2s50v35.3072g1HsbBH/r597.romulus25si2s50v35.3072g1HsbBH.003648.AHF_param\n",
      "    /data/akaxia/rzooms/r597.romulus25si2s50v35.3072g1HsbBH/r597.romulus25si2s50v35.3072g1HsbBH.004032.AHF_param\n",
      "  .iord:\n",
      "    /data/akaxia/rzooms/r597.romulus25si2s50v35.3072g1HsbBH/r597.romulus25si2s50v35.3072g1HsbBH.000454.iord\n",
      "    /data/akaxia/rzooms/r597.romulus25si2s50v35.3072g1HsbBH/r597.romulus25si2s50v35.3072g1HsbBH.000480.iord\n",
      "    /data/akaxia/rzooms/r597.romulus25si2s50v35.3072g1HsbBH/r597.romulus25si2s50v35.3072g1HsbBH.000576.iord\n",
      "    /data/akaxia/rzooms/r597.romulus25si2s50v35.3072g1HsbBH/r597.romulus25si2s50v35.3072g1HsbBH.000635.iord\n",
      "    /data/akaxia/rzooms/r597.romulus25si2s50v35.3072g1HsbBH/r597.romulus25si2s50v35.3072g1HsbBH.001056.iord\n",
      "    /data/akaxia/rzooms/r597.romulus25si2s50v35.3072g1HsbBH/r597.romulus25si2s50v35.3072g1HsbBH.001248.iord\n",
      "    /data/akaxia/rzooms/r597.romulus25si2s50v35.3072g1HsbBH/r597.romulus25si2s50v35.3072g1HsbBH.001728.iord\n",
      "    /data/akaxia/rzooms/r597.romulus25si2s50v35.3072g1HsbBH/r597.romulus25si2s50v35.3072g1HsbBH.002087.iord\n",
      "    /data/akaxia/rzooms/r597.romulus25si2s50v35.3072g1HsbBH/r597.romulus25si2s50v35.3072g1HsbBH.002976.iord\n",
      "    /data/akaxia/rzooms/r597.romulus25si2s50v35.3072g1HsbBH/r597.romulus25si2s50v35.3072g1HsbBH.003072.iord\n",
      "    /data/akaxia/rzooms/r597.romulus25si2s50v35.3072g1HsbBH/r597.romulus25si2s50v35.3072g1HsbBH.003456.iord\n",
      "    /data/akaxia/rzooms/r597.romulus25si2s50v35.3072g1HsbBH/r597.romulus25si2s50v35.3072g1HsbBH.003552.iord\n",
      "    /data/akaxia/rzooms/r597.romulus25si2s50v35.3072g1HsbBH/r597.romulus25si2s50v35.3072g1HsbBH.003840.iord\n",
      "No missing files in /data/akaxia/rzooms/r523.romulus25si2s50v35.3072g1HsbBH/\n",
      "No missing files in /data/akaxia/rzooms/r618.romulus25si2s50v35.3072g1HsbBH/\n",
      "No missing files in /data/REPOSITORY/romulus_zooms/r431.romulus25cvdXsec.3072g1HsbBH\n",
      "No missing files in /data/REPOSITORY/romulus_zooms/r492.romulus25cvdXsec.3072g1HsbBH\n"
     ]
    }
   ],
   "source": [
    "import glob\n",
    "import os\n",
    "import re\n",
    "\n",
    "def check_missing_files(directory=\".\"):\n",
    "    \"\"\"\n",
    "    Check for missing .AHF_halos and .AHF_particles files across snapshots.\n",
    "    \n",
    "    Args:\n",
    "        directory (str): Directory to search in (defaults to current directory)\n",
    "    \n",
    "    Returns:\n",
    "        dict: Dictionary containing missing files for each extension\n",
    "    \"\"\"\n",
    "    # Extensions to check\n",
    "    extensions = [\".AHF_halos\", \".AHF_particles\",\".AHF_param\", \".iord\"]\n",
    "    \n",
    "    # Get all snapshot numbers from existing files\n",
    "    pattern = r\"\\.(\\d{6})\\.\"  # Look for 6 digits between periods\n",
    "    snapshot_numbers = set()\n",
    "    base_files = set()\n",
    "    \n",
    "    # Find all files that match the basic pattern\n",
    "    for file in glob.glob(os.path.join(directory, \"*.[0-9][0-9][0-9][0-9][0-9][0-9].*\")):\n",
    "        match = re.search(pattern, file)\n",
    "        if match:\n",
    "            snapshot_numbers.add(match.group(1))\n",
    "            # Store the base part of the filename (everything up to the snapshot number)\n",
    "            base_part = file.split(match.group(1))[0]\n",
    "            base_files.add(base_part)\n",
    "    \n",
    "    # We expect only one base pattern - print warning if multiple found\n",
    "    if len(base_files) > 1:\n",
    "        print(\"Warning: Multiple base filename patterns found:\")\n",
    "        for base in base_files:\n",
    "            print(f\"  {base}\")\n",
    "    \n",
    "    base_pattern = list(base_files)[0] if base_files else \"\"\n",
    "    \n",
    "    # Sort snapshot numbers for organized output\n",
    "    snapshot_numbers = sorted(list(snapshot_numbers))\n",
    "    \n",
    "    # Dictionary to store missing files\n",
    "    missing_files = {ext: [] for ext in extensions}\n",
    "    \n",
    "    # Check each snapshot number for each extension\n",
    "    for snapshot in snapshot_numbers:\n",
    "        for ext in extensions:\n",
    "            # Look for files with this snapshot number and extension\n",
    "            # Use a more flexible pattern that allows for additional characters after the snapshot number\n",
    "            matching_files = glob.glob(os.path.join(directory, f\"{base_pattern}{snapshot}*{ext}\"))\n",
    "            if not matching_files:\n",
    "                # Get an example of an existing file for this snapshot to get the correct middle part\n",
    "                example_files = glob.glob(os.path.join(directory, f\"{base_pattern}{snapshot}.*\"))\n",
    "                if example_files:\n",
    "                    # Extract the middle part from the first example file\n",
    "                    middle_part = re.search(f\"{snapshot}(.*?)\\.\", example_files[0]).group(1)\n",
    "                    expected_file = f\"{base_pattern}{snapshot}{middle_part}{ext}\"\n",
    "                    missing_files[ext].append(expected_file)\n",
    "    \n",
    "    return missing_files\n",
    "\n",
    "\n",
    "\n",
    "# Run the check\n",
    "#folder locations to check\n",
    "files = ['/data/akaxia/rzooms/r634.romulus25si2s50v35.3072g1HsbBH/',\n",
    "         '/data/akaxia/rzooms/r492.romulus25si2s50v35.3072g1HsbBH/',\n",
    "         '/data/akaxia/rzooms/r468.romulus25si2s50v35.3072g1HsbBH/',\n",
    "         '/data/akaxia/rzooms/r488.romulus25si2s50v35.3072g1HsbBH/',\n",
    "         '/data/akaxia/rzooms/r544.romulus25si2s50v35.3072g1HsbBH/',\n",
    "         '/data/akaxia/rzooms/r597.romulus25si2s50v35.3072g1HsbBH/',\n",
    "         '/data/akaxia/rzooms/r523.romulus25si2s50v35.3072g1HsbBH/',\n",
    "         '/data/akaxia/rzooms/r618.romulus25si2s50v35.3072g1HsbBH/',\n",
    "         '/data/REPOSITORY/romulus_zooms/r431.romulus25cvdXsec.3072g1HsbBH',\n",
    "         '/data/REPOSITORY/romulus_zooms/r492.romulus25cvdXsec.3072g1HsbBH',\n",
    "         ]\n",
    "\n",
    "\n",
    "missing_files = {}\n",
    "\n",
    "for file in files:\n",
    "    missing_files[file] = check_missing_files(file)\n",
    "    if not any(missing_files[file].values()):\n",
    "        print(f\"No missing files in {file}\")\n",
    "    else:\n",
    "        print(f\"Missing files in {file}:\")\n",
    "        for ext, missing in missing_files[file].items():\n",
    "            print(f\"  {ext}:\")\n",
    "            for file in missing:\n",
    "                print(f\"    {file}\")\n",
    "    "
   ]
  },
  {
   "cell_type": "code",
   "execution_count": 23,
   "id": "a11ff7f904b75d69",
   "metadata": {
    "ExecuteTime": {
     "end_time": "2024-10-31T01:30:42.880452Z",
     "start_time": "2024-10-31T01:30:40.412791Z"
    }
   },
   "outputs": [
    {
     "name": "stderr",
     "output_type": "stream",
     "text": [
      "<>:56: SyntaxWarning: invalid escape sequence '\\.'\n",
      "<>:56: SyntaxWarning: invalid escape sequence '\\.'\n",
      "/tmp/ipykernel_3266512/263331065.py:56: SyntaxWarning: invalid escape sequence '\\.'\n",
      "  middle_part = re.search(f\"{snapshot}(.*?)\\.\", example_files[0]).group(1)\n"
     ]
    },
    {
     "name": "stdout",
     "output_type": "stream",
     "text": [
      "Saved 30 missing .AHF_halos files to missing_AHF_halos.txt\n",
      "Saved 38 missing .AHF_particles files to missing_AHF_particles.txt\n",
      "Saved 44 missing .AHF_param files to missing_AHF_param.txt\n",
      "Saved 42 missing .iord files to missing_iord.txt\n"
     ]
    }
   ],
   "source": [
    "import glob\n",
    "import os\n",
    "import re\n",
    "\n",
    "def check_missing_files(directory=\".\"):\n",
    "    \"\"\"\n",
    "    Check for missing .AHF_halos and .AHF_particles files across snapshots.\n",
    "    \n",
    "    Args:\n",
    "        directory (str): Directory to search in (defaults to current directory)\n",
    "    \n",
    "    Returns:\n",
    "        dict: Dictionary containing missing files for each extension\n",
    "    \"\"\"\n",
    "    # Extensions to check\n",
    "    extensions = [\".AHF_halos\", \".AHF_particles\",\".AHF_param\", \".iord\"]\n",
    "    \n",
    "    # Get all snapshot numbers from existing files\n",
    "    pattern = r\"\\.(\\d{6})\\.\"  # Look for 6 digits between periods\n",
    "    snapshot_numbers = set()\n",
    "    base_files = set()\n",
    "    \n",
    "    # Find all files that match the basic pattern\n",
    "    for file in glob.glob(os.path.join(directory, \"*.[0-9][0-9][0-9][0-9][0-9][0-9].*\")):\n",
    "        match = re.search(pattern, file)\n",
    "        if match:\n",
    "            snapshot_numbers.add(match.group(1))\n",
    "            # Store the base part of the filename (everything up to the snapshot number)\n",
    "            base_part = file.split(match.group(1))[0]\n",
    "            base_files.add(base_part)\n",
    "    \n",
    "    # We expect only one base pattern - print warning if multiple found\n",
    "    if len(base_files) > 1:\n",
    "        print(\"Warning: Multiple base filename patterns found:\")\n",
    "        for base in base_files:\n",
    "            print(f\"  {base}\")\n",
    "    \n",
    "    base_pattern = list(base_files)[0] if base_files else \"\"\n",
    "    \n",
    "    # Sort snapshot numbers for organized output\n",
    "    snapshot_numbers = sorted(list(snapshot_numbers))\n",
    "    \n",
    "    # Dictionary to store missing files\n",
    "    missing_files = {ext: [] for ext in extensions}\n",
    "    \n",
    "    # Check each snapshot number for each extension\n",
    "    for snapshot in snapshot_numbers:\n",
    "        for ext in extensions:\n",
    "            # Look for files with this snapshot number and extension\n",
    "            matching_files = glob.glob(os.path.join(directory, f\"{base_pattern}{snapshot}*{ext}\"))\n",
    "            if not matching_files:\n",
    "                # Get an example of an existing file for this snapshot to get the correct middle part\n",
    "                example_files = glob.glob(os.path.join(directory, f\"{base_pattern}{snapshot}.*\"))\n",
    "                if example_files:\n",
    "                    # Extract the middle part from the first example file\n",
    "                    middle_part = re.search(f\"{snapshot}(.*?)\\.\", example_files[0]).group(1)\n",
    "                    expected_file = f\"{base_pattern}{snapshot}{middle_part}{ext}\"\n",
    "                    missing_files[ext].append(expected_file)\n",
    "    \n",
    "    return missing_files\n",
    "\n",
    "# Folder locations to check\n",
    "files = [\n",
    "    '/data/akaxia/rzooms/r634.romulus25si2s50v35.3072g1HsbBH/',\n",
    "    '/data/akaxia/rzooms/r492.romulus25si2s50v35.3072g1HsbBH/',\n",
    "    '/data/akaxia/rzooms/r468.romulus25si2s50v35.3072g1HsbBH/',\n",
    "    '/data/akaxia/rzooms/r488.romulus25si2s50v35.3072g1HsbBH/',\n",
    "    '/data/akaxia/rzooms/r544.romulus25si2s50v35.3072g1HsbBH/',\n",
    "    '/data/akaxia/rzooms/r597.romulus25si2s50v35.3072g1HsbBH/',\n",
    "    '/data/akaxia/rzooms/r523.romulus25si2s50v35.3072g1HsbBH/',\n",
    "    '/data/akaxia/rzooms/r618.romulus25si2s50v35.3072g1HsbBH/',\n",
    "    '/data/REPOSITORY/romulus_zooms/r431.romulus25cvdXsec.3072g1HsbBH',\n",
    "    '/data/REPOSITORY/romulus_zooms/r492.romulus25cvdXsec.3072g1HsbBH',\n",
    "    #'/home/bk639/data/MerianSIDM/r468.romulus25si2s50v35',\n",
    "    #'/home/bk639/data/MerianSIDM/r468.romulus25.3072g1HsbBH',\n",
    "]\n",
    "\n",
    "# Create a dictionary to store all missing files by extension\n",
    "all_missing_files = {\".AHF_halos\": [], \".AHF_particles\": [], \".AHF_param\": [], \".iord\": []}\n",
    "\n",
    "# Check each directory and collect missing files\n",
    "for directory in files:\n",
    "    missing_files = check_missing_files(directory)\n",
    "    for ext in missing_files:\n",
    "        all_missing_files[ext].extend(missing_files[ext])\n",
    "\n",
    "# Save missing files to separate text files\n",
    "for ext in all_missing_files:\n",
    "    # Create filename based on extension (remove the dot)\n",
    "    output_filename = f\"missing_{ext[1:]}.txt\"\n",
    "    \n",
    "    # Write missing files to the text file\n",
    "    with open(output_filename, 'w') as f:\n",
    "        for file in sorted(all_missing_files[ext]):\n",
    "            f.write(f\"{file}\\n\")\n",
    "    \n",
    "    print(f\"Saved {len(all_missing_files[ext])} missing {ext} files to {output_filename}\")"
   ]
  },
  {
   "cell_type": "code",
   "execution_count": 1,
   "id": "db248d46a2cee779",
   "metadata": {
    "ExecuteTime": {
     "end_time": "2024-11-04T21:04:57.006945Z",
     "start_time": "2024-11-04T21:04:51.524241Z"
    }
   },
   "outputs": [],
   "source": [
    "import pynbody\n",
    "path0 = '/data/REPOSITORY/dwarf_volumes/cptmarvel.cosmo25cmb.4096g5HbwK1BH/cptmarvel.cosmo25cmb.4096g5HbwK1BH.004096/cptmarvel.cosmo25cmb.4096g5HbwK1BH.004096'\n",
    "path1 = '/data/REPOSITORY/dwarf_volumes/cptmarvel.cosmo25cmb.4096g5HbwK1BH/cptmarvel.cosmo25cmb.4096g5HbwK1BH.003968/cptmarvel.cosmo25cmb.4096g5HbwK1BH.003968'\n",
    "sim0 = pynbody.load(path0)\n",
    "sim1 = pynbody.load(path1)\n"
   ]
  },
  {
   "cell_type": "code",
   "execution_count": 2,
   "id": "8033a39d818081db",
   "metadata": {
    "ExecuteTime": {
     "end_time": "2024-11-04T21:06:11.761263Z",
     "start_time": "2024-11-04T21:04:57.027120Z"
    }
   },
   "outputs": [],
   "source": [
    "halos0 = sim0.halos()\n",
    "halo0 = halos0[1]\n",
    "halos1 = sim1.halos()\n",
    "halo1 = halos1[1]\n"
   ]
  },
  {
   "cell_type": "code",
   "execution_count": null,
   "id": "a1c7d9e41827cb75",
   "metadata": {
    "ExecuteTime": {
     "start_time": "2024-11-04T21:06:12.091813Z"
    }
   },
   "outputs": [],
   "source": [
    "halo0.st[0]['tform']"
   ]
  },
  {
   "cell_type": "code",
   "execution_count": 46,
   "id": "2df3e57736a396ef",
   "metadata": {
    "ExecuteTime": {
     "end_time": "2024-11-04T21:04:46.646945Z",
     "start_time": "2024-11-04T20:54:33.081974Z"
    }
   },
   "outputs": [
    {
     "ename": "ValueError",
     "evalue": "buffer size must be a multiple of element size",
     "output_type": "error",
     "traceback": [
      "\u001b[0;31m---------------------------------------------------------------------------\u001b[0m",
      "\u001b[0;31mValueError\u001b[0m                                Traceback (most recent call last)",
      "Cell \u001b[0;32mIn[46], line 1\u001b[0m\n\u001b[0;32m----> 1\u001b[0m halo1\u001b[38;5;241m.\u001b[39mst[\u001b[38;5;124m'\u001b[39m\u001b[38;5;124mmassform\u001b[39m\u001b[38;5;124m'\u001b[39m]\n",
      "File \u001b[0;32m~/miniconda3/envs/shapes/lib/python3.12/site-packages/pynbody/snapshot/simsnap.py:241\u001b[0m, in \u001b[0;36mSimSnap.__getitem__\u001b[0;34m(self, i)\u001b[0m\n\u001b[1;32m    238\u001b[0m \u001b[38;5;28;01mfrom\u001b[39;00m \u001b[38;5;21;01m.\u001b[39;00m \u001b[38;5;28;01mimport\u001b[39;00m subsnap\n\u001b[1;32m    240\u001b[0m \u001b[38;5;28;01mif\u001b[39;00m \u001b[38;5;28misinstance\u001b[39m(i, \u001b[38;5;28mstr\u001b[39m):\n\u001b[0;32m--> 241\u001b[0m     \u001b[38;5;28;01mreturn\u001b[39;00m \u001b[38;5;28mself\u001b[39m\u001b[38;5;241m.\u001b[39m_get_array_with_lazy_actions(i)\n\u001b[1;32m    242\u001b[0m \u001b[38;5;28;01melif\u001b[39;00m \u001b[38;5;28misinstance\u001b[39m(i, \u001b[38;5;28mslice\u001b[39m):\n\u001b[1;32m    243\u001b[0m     \u001b[38;5;28;01mreturn\u001b[39;00m subsnap\u001b[38;5;241m.\u001b[39mSubSnap(\u001b[38;5;28mself\u001b[39m, i)\n",
      "File \u001b[0;32m~/miniconda3/envs/shapes/lib/python3.12/site-packages/pynbody/snapshot/simsnap.py:339\u001b[0m, in \u001b[0;36mSimSnap._get_array_with_lazy_actions\u001b[0;34m(self, name)\u001b[0m\n\u001b[1;32m    337\u001b[0m \u001b[38;5;28;01mif\u001b[39;00m \u001b[38;5;129;01mnot\u001b[39;00m \u001b[38;5;28mself\u001b[39m\u001b[38;5;241m.\u001b[39mlazy_off:\n\u001b[1;32m    338\u001b[0m     \u001b[38;5;28;01mif\u001b[39;00m \u001b[38;5;129;01mnot\u001b[39;00m \u001b[38;5;28mself\u001b[39m\u001b[38;5;241m.\u001b[39mlazy_load_off:\n\u001b[0;32m--> 339\u001b[0m         \u001b[38;5;28mself\u001b[39m\u001b[38;5;241m.\u001b[39m__load_if_required(name)\n\u001b[1;32m    340\u001b[0m     \u001b[38;5;28;01mif\u001b[39;00m \u001b[38;5;129;01mnot\u001b[39;00m \u001b[38;5;28mself\u001b[39m\u001b[38;5;241m.\u001b[39mlazy_derive_off:\n\u001b[1;32m    341\u001b[0m         \u001b[38;5;28mself\u001b[39m\u001b[38;5;241m.\u001b[39m__derive_if_required(name)\n",
      "File \u001b[0;32m~/miniconda3/envs/shapes/lib/python3.12/site-packages/pynbody/snapshot/simsnap.py:350\u001b[0m, in \u001b[0;36mSimSnap.__load_if_required\u001b[0;34m(self, name)\u001b[0m\n\u001b[1;32m    348\u001b[0m \u001b[38;5;28;01mif\u001b[39;00m name \u001b[38;5;129;01mnot\u001b[39;00m \u001b[38;5;129;01min\u001b[39;00m \u001b[38;5;28mlist\u001b[39m(\u001b[38;5;28mself\u001b[39m\u001b[38;5;241m.\u001b[39mkeys()):\n\u001b[1;32m    349\u001b[0m     \u001b[38;5;28;01mtry\u001b[39;00m:\n\u001b[0;32m--> 350\u001b[0m         \u001b[38;5;28mself\u001b[39m\u001b[38;5;241m.\u001b[39m__load_array_and_perform_postprocessing(name)\n\u001b[1;32m    351\u001b[0m     \u001b[38;5;28;01mexcept\u001b[39;00m \u001b[38;5;167;01mOSError\u001b[39;00m:\n\u001b[1;32m    352\u001b[0m         \u001b[38;5;28;01mpass\u001b[39;00m\n",
      "File \u001b[0;32m~/miniconda3/envs/shapes/lib/python3.12/site-packages/pynbody/snapshot/simsnap.py:833\u001b[0m, in \u001b[0;36mSimSnap.__load_array_and_perform_postprocessing\u001b[0;34m(self, array_name, fam)\u001b[0m\n\u001b[1;32m    831\u001b[0m \u001b[38;5;28;01melse\u001b[39;00m:\n\u001b[1;32m    832\u001b[0m     \u001b[38;5;28;01mtry\u001b[39;00m:\n\u001b[0;32m--> 833\u001b[0m         \u001b[38;5;28mself\u001b[39m\u001b[38;5;241m.\u001b[39m_load_array(array_name, fam)\n\u001b[1;32m    834\u001b[0m     \u001b[38;5;28;01mexcept\u001b[39;00m \u001b[38;5;167;01mOSError\u001b[39;00m:\n\u001b[1;32m    835\u001b[0m         \u001b[38;5;28;01mfor\u001b[39;00m fam_x \u001b[38;5;129;01min\u001b[39;00m \u001b[38;5;28mself\u001b[39m\u001b[38;5;241m.\u001b[39mfamilies():\n",
      "File \u001b[0;32m~/miniconda3/envs/shapes/lib/python3.12/site-packages/pynbody/snapshot/subsnap.py:360\u001b[0m, in \u001b[0;36mFamilySubSnap._load_array\u001b[0;34m(self, array_name, fam, **kwargs)\u001b[0m\n\u001b[1;32m    358\u001b[0m \u001b[38;5;28;01mdef\u001b[39;00m \u001b[38;5;21m_load_array\u001b[39m(\u001b[38;5;28mself\u001b[39m, array_name, fam\u001b[38;5;241m=\u001b[39m\u001b[38;5;28;01mNone\u001b[39;00m, \u001b[38;5;241m*\u001b[39m\u001b[38;5;241m*\u001b[39mkwargs):\n\u001b[1;32m    359\u001b[0m     \u001b[38;5;28;01mif\u001b[39;00m fam \u001b[38;5;129;01mis\u001b[39;00m \u001b[38;5;28mself\u001b[39m\u001b[38;5;241m.\u001b[39m_unifamily \u001b[38;5;129;01mor\u001b[39;00m fam \u001b[38;5;129;01mis\u001b[39;00m \u001b[38;5;28;01mNone\u001b[39;00m:\n\u001b[0;32m--> 360\u001b[0m         \u001b[38;5;28mself\u001b[39m\u001b[38;5;241m.\u001b[39m_subsnap_base\u001b[38;5;241m.\u001b[39m_load_array(array_name, \u001b[38;5;28mself\u001b[39m\u001b[38;5;241m.\u001b[39m_unifamily)\n",
      "File \u001b[0;32m~/miniconda3/envs/shapes/lib/python3.12/site-packages/pynbody/snapshot/subsnap.py:99\u001b[0m, in \u001b[0;36mSubSnapBase._load_array\u001b[0;34m(self, array_name, fam, **kwargs)\u001b[0m\n\u001b[1;32m     98\u001b[0m \u001b[38;5;28;01mdef\u001b[39;00m \u001b[38;5;21m_load_array\u001b[39m(\u001b[38;5;28mself\u001b[39m, array_name, fam\u001b[38;5;241m=\u001b[39m\u001b[38;5;28;01mNone\u001b[39;00m, \u001b[38;5;241m*\u001b[39m\u001b[38;5;241m*\u001b[39mkwargs):\n\u001b[0;32m---> 99\u001b[0m     \u001b[38;5;28mself\u001b[39m\u001b[38;5;241m.\u001b[39m_subsnap_base\u001b[38;5;241m.\u001b[39m_load_array(array_name, fam)\n",
      "File \u001b[0;32m~/miniconda3/envs/shapes/lib/python3.12/site-packages/pynbody/snapshot/tipsy.py:764\u001b[0m, in \u001b[0;36mTipsySnap._load_array\u001b[0;34m(self, array_name, fam, filename, packed_vector)\u001b[0m\n\u001b[1;32m    756\u001b[0m \u001b[38;5;28;01mif\u001b[39;00m (fam \u001b[38;5;129;01mis\u001b[39;00m \u001b[38;5;28;01mNone\u001b[39;00m \u001b[38;5;129;01mand\u001b[39;00m fams \u001b[38;5;129;01mis\u001b[39;00m \u001b[38;5;129;01mnot\u001b[39;00m \u001b[38;5;28;01mNone\u001b[39;00m \u001b[38;5;129;01mand\u001b[39;00m \u001b[38;5;28mlen\u001b[39m(fams) \u001b[38;5;241m!=\u001b[39m \u001b[38;5;28mlen\u001b[39m(\u001b[38;5;28mself\u001b[39m\u001b[38;5;241m.\u001b[39mfamilies())) \u001b[38;5;129;01mor\u001b[39;00m \\\n\u001b[1;32m    757\u001b[0m         (fam \u001b[38;5;129;01mis\u001b[39;00m \u001b[38;5;129;01mnot\u001b[39;00m \u001b[38;5;28;01mNone\u001b[39;00m \u001b[38;5;129;01mand\u001b[39;00m fam \u001b[38;5;129;01mnot\u001b[39;00m \u001b[38;5;129;01min\u001b[39;00m fams):\n\u001b[1;32m    758\u001b[0m     \u001b[38;5;66;03m# Top line says 'you requested all families but at least one isn't available'\u001b[39;00m\n\u001b[1;32m    759\u001b[0m     \u001b[38;5;66;03m# Bottom line says 'you requested one family, but that one's not\u001b[39;00m\n\u001b[1;32m    760\u001b[0m     \u001b[38;5;66;03m# available'\u001b[39;00m\n\u001b[1;32m    762\u001b[0m     \u001b[38;5;28;01mraise\u001b[39;00m \u001b[38;5;167;01mOSError\u001b[39;00m(\u001b[38;5;124m\"\u001b[39m\u001b[38;5;124mThis array is marked as available only for families \u001b[39m\u001b[38;5;132;01m%s\u001b[39;00m\u001b[38;5;124m\"\u001b[39m \u001b[38;5;241m%\u001b[39m fams)\n\u001b[0;32m--> 764\u001b[0m data \u001b[38;5;241m=\u001b[39m \u001b[38;5;28mself\u001b[39m\u001b[38;5;241m.\u001b[39m__read_array_from_disk(array_name, fam\u001b[38;5;241m=\u001b[39mfam,\n\u001b[1;32m    765\u001b[0m                                    filename\u001b[38;5;241m=\u001b[39mfilename,\n\u001b[1;32m    766\u001b[0m                                    packed_vector\u001b[38;5;241m=\u001b[39mpacked_vector)\n\u001b[1;32m    768\u001b[0m \u001b[38;5;28;01mif\u001b[39;00m fam \u001b[38;5;129;01mis\u001b[39;00m \u001b[38;5;28;01mNone\u001b[39;00m:\n\u001b[1;32m    769\u001b[0m     \u001b[38;5;28mself\u001b[39m[array_name] \u001b[38;5;241m=\u001b[39m data\n",
      "File \u001b[0;32m~/miniconda3/envs/shapes/lib/python3.12/site-packages/pynbody/snapshot/tipsy.py:789\u001b[0m, in \u001b[0;36mTipsySnap.__read_array_from_disk\u001b[0;34m(self, array_name, fam, filename, packed_vector)\u001b[0m\n\u001b[1;32m    786\u001b[0m \u001b[38;5;28;01mif\u001b[39;00m filename \u001b[38;5;129;01mis\u001b[39;00m \u001b[38;5;28;01mNone\u001b[39;00m \u001b[38;5;129;01mand\u001b[39;00m array_name \u001b[38;5;129;01min\u001b[39;00m starlog_keys:\n\u001b[1;32m    788\u001b[0m     \u001b[38;5;28;01mtry\u001b[39;00m:\n\u001b[0;32m--> 789\u001b[0m         \u001b[38;5;28mself\u001b[39m\u001b[38;5;241m.\u001b[39mread_starlog()\n\u001b[1;32m    790\u001b[0m         \u001b[38;5;28;01mif\u001b[39;00m fam \u001b[38;5;129;01mis\u001b[39;00m \u001b[38;5;129;01mnot\u001b[39;00m \u001b[38;5;28;01mNone\u001b[39;00m:\n\u001b[1;32m    791\u001b[0m             \u001b[38;5;28;01mreturn\u001b[39;00m \u001b[38;5;28mself\u001b[39m[fam][array_name]\n",
      "File \u001b[0;32m~/miniconda3/envs/shapes/lib/python3.12/site-packages/pynbody/snapshot/tipsy.py:917\u001b[0m, in \u001b[0;36mTipsySnap.read_starlog\u001b[0;34m(self, fam)\u001b[0m\n\u001b[1;32m    915\u001b[0m         \u001b[38;5;28;01mraise\u001b[39;00m \u001b[38;5;167;01mOSError\u001b[39;00m(\u001b[38;5;124m\"\u001b[39m\u001b[38;5;124mCouldn\u001b[39m\u001b[38;5;124m'\u001b[39m\u001b[38;5;124mt find starlog file\u001b[39m\u001b[38;5;124m\"\u001b[39m)\n\u001b[1;32m    916\u001b[0m     \u001b[38;5;28;01mfor\u001b[39;00m filename \u001b[38;5;129;01min\u001b[39;00m l:\n\u001b[0;32m--> 917\u001b[0m         sl \u001b[38;5;241m=\u001b[39m StarLog(filename)\n\u001b[1;32m    919\u001b[0m logger\u001b[38;5;241m.\u001b[39minfo(\u001b[38;5;124m\"\u001b[39m\u001b[38;5;124mBridging starlog into SimSnap\u001b[39m\u001b[38;5;124m\"\u001b[39m)\n\u001b[1;32m    920\u001b[0m b \u001b[38;5;241m=\u001b[39m pynbody\u001b[38;5;241m.\u001b[39mbridge\u001b[38;5;241m.\u001b[39mOrderBridge(\u001b[38;5;28mself\u001b[39m, sl)\n",
      "File \u001b[0;32m~/miniconda3/envs/shapes/lib/python3.12/site-packages/pynbody/snapshot/tipsy.py:1284\u001b[0m, in \u001b[0;36mStarLog.__init__\u001b[0;34m(self, filename, sort, paramfile, use_log)\u001b[0m\n\u001b[1;32m   1282\u001b[0m logger\u001b[38;5;241m.\u001b[39minfo(\u001b[38;5;124m\"\u001b[39m\u001b[38;5;124mReading starlog file \u001b[39m\u001b[38;5;132;01m%s\u001b[39;00m\u001b[38;5;124m\"\u001b[39m, filename)\n\u001b[1;32m   1283\u001b[0m \u001b[38;5;28;01mif\u001b[39;00m(\u001b[38;5;28mself\u001b[39m\u001b[38;5;241m.\u001b[39m_byteswap):\n\u001b[0;32m-> 1284\u001b[0m     g \u001b[38;5;241m=\u001b[39m np\u001b[38;5;241m.\u001b[39mfrombuffer(\n\u001b[1;32m   1285\u001b[0m         f\u001b[38;5;241m.\u001b[39mread(datasize), dtype\u001b[38;5;241m=\u001b[39mfile_structure)\u001b[38;5;241m.\u001b[39mbyteswap()\n\u001b[1;32m   1286\u001b[0m \u001b[38;5;28;01melse\u001b[39;00m:\n\u001b[1;32m   1287\u001b[0m     g \u001b[38;5;241m=\u001b[39m np\u001b[38;5;241m.\u001b[39mfrombuffer(f\u001b[38;5;241m.\u001b[39mread(datasize), dtype\u001b[38;5;241m=\u001b[39mfile_structure)\n",
      "\u001b[0;31mValueError\u001b[0m: buffer size must be a multiple of element size"
     ]
    }
   ],
   "source": [
    "halo1.st['tform']"
   ]
  },
  {
   "cell_type": "code",
   "execution_count": 47,
   "id": "993fea46a3ce9e14",
   "metadata": {
    "ExecuteTime": {
     "end_time": "2024-11-04T20:57:53.507905Z",
     "start_time": "2024-11-04T20:56:53.048472Z"
    }
   },
   "outputs": [
    {
     "name": "stdout",
     "output_type": "stream",
     "text": [
      "[0.00000e+00 0.00000e+00 0.00000e+00 ... 1.82699e-13 1.82699e-13\n",
      " 1.82699e-13]\n"
     ]
    },
    {
     "ename": "DependencyError",
     "evalue": "Circular dependency",
     "output_type": "error",
     "traceback": [
      "\u001b[0;31m---------------------------------------------------------------------------\u001b[0m",
      "\u001b[0;31mDependencyError\u001b[0m                           Traceback (most recent call last)",
      "Cell \u001b[0;32mIn[47], line 3\u001b[0m\n\u001b[1;32m      1\u001b[0m \u001b[38;5;28;01mfor\u001b[39;00m halo \u001b[38;5;129;01min\u001b[39;00m halo0, halo1:\n\u001b[1;32m      2\u001b[0m     \u001b[38;5;28mprint\u001b[39m(halo[\u001b[38;5;124m'\u001b[39m\u001b[38;5;124mmassform\u001b[39m\u001b[38;5;124m'\u001b[39m])\n\u001b[0;32m----> 3\u001b[0m     \u001b[38;5;28mprint\u001b[39m(halo[\u001b[38;5;124m'\u001b[39m\u001b[38;5;124mtform\u001b[39m\u001b[38;5;124m'\u001b[39m])\n",
      "File \u001b[0;32m~/miniconda3/envs/shapes/lib/python3.12/site-packages/pynbody/snapshot/simsnap.py:241\u001b[0m, in \u001b[0;36mSimSnap.__getitem__\u001b[0;34m(self, i)\u001b[0m\n\u001b[1;32m    238\u001b[0m \u001b[38;5;28;01mfrom\u001b[39;00m \u001b[38;5;21;01m.\u001b[39;00m \u001b[38;5;28;01mimport\u001b[39;00m subsnap\n\u001b[1;32m    240\u001b[0m \u001b[38;5;28;01mif\u001b[39;00m \u001b[38;5;28misinstance\u001b[39m(i, \u001b[38;5;28mstr\u001b[39m):\n\u001b[0;32m--> 241\u001b[0m     \u001b[38;5;28;01mreturn\u001b[39;00m \u001b[38;5;28mself\u001b[39m\u001b[38;5;241m.\u001b[39m_get_array_with_lazy_actions(i)\n\u001b[1;32m    242\u001b[0m \u001b[38;5;28;01melif\u001b[39;00m \u001b[38;5;28misinstance\u001b[39m(i, \u001b[38;5;28mslice\u001b[39m):\n\u001b[1;32m    243\u001b[0m     \u001b[38;5;28;01mreturn\u001b[39;00m subsnap\u001b[38;5;241m.\u001b[39mSubSnap(\u001b[38;5;28mself\u001b[39m, i)\n",
      "File \u001b[0;32m~/miniconda3/envs/shapes/lib/python3.12/site-packages/pynbody/snapshot/simsnap.py:341\u001b[0m, in \u001b[0;36mSimSnap._get_array_with_lazy_actions\u001b[0;34m(self, name)\u001b[0m\n\u001b[1;32m    339\u001b[0m         \u001b[38;5;28mself\u001b[39m\u001b[38;5;241m.\u001b[39m__load_if_required(name)\n\u001b[1;32m    340\u001b[0m     \u001b[38;5;28;01mif\u001b[39;00m \u001b[38;5;129;01mnot\u001b[39;00m \u001b[38;5;28mself\u001b[39m\u001b[38;5;241m.\u001b[39mlazy_derive_off:\n\u001b[0;32m--> 341\u001b[0m         \u001b[38;5;28mself\u001b[39m\u001b[38;5;241m.\u001b[39m__derive_if_required(name)\n\u001b[1;32m    343\u001b[0m \u001b[38;5;28;01mreturn\u001b[39;00m \u001b[38;5;28mself\u001b[39m\u001b[38;5;241m.\u001b[39m_get_array(name)\n",
      "File \u001b[0;32m~/miniconda3/envs/shapes/lib/python3.12/site-packages/pynbody/snapshot/simsnap.py:356\u001b[0m, in \u001b[0;36mSimSnap.__derive_if_required\u001b[0;34m(self, name)\u001b[0m\n\u001b[1;32m    354\u001b[0m \u001b[38;5;28;01mdef\u001b[39;00m \u001b[38;5;21m__derive_if_required\u001b[39m(\u001b[38;5;28mself\u001b[39m, name):\n\u001b[1;32m    355\u001b[0m     \u001b[38;5;28;01mif\u001b[39;00m name \u001b[38;5;129;01mnot\u001b[39;00m \u001b[38;5;129;01min\u001b[39;00m \u001b[38;5;28mlist\u001b[39m(\u001b[38;5;28mself\u001b[39m\u001b[38;5;241m.\u001b[39mkeys()):\n\u001b[0;32m--> 356\u001b[0m         \u001b[38;5;28mself\u001b[39m\u001b[38;5;241m.\u001b[39m_derive_array(name)\n",
      "File \u001b[0;32m~/miniconda3/envs/shapes/lib/python3.12/site-packages/pynbody/snapshot/subsnap.py:110\u001b[0m, in \u001b[0;36mSubSnapBase._derive_array\u001b[0;34m(self, array_name, fam)\u001b[0m\n\u001b[1;32m    109\u001b[0m \u001b[38;5;28;01mdef\u001b[39;00m \u001b[38;5;21m_derive_array\u001b[39m(\u001b[38;5;28mself\u001b[39m, array_name, fam\u001b[38;5;241m=\u001b[39m\u001b[38;5;28;01mNone\u001b[39;00m):\n\u001b[0;32m--> 110\u001b[0m     \u001b[38;5;28mself\u001b[39m\u001b[38;5;241m.\u001b[39m_subsnap_base\u001b[38;5;241m.\u001b[39m_derive_array(array_name, fam)\n",
      "File \u001b[0;32m~/miniconda3/envs/shapes/lib/python3.12/site-packages/pynbody/snapshot/simsnap.py:1437\u001b[0m, in \u001b[0;36mSimSnap._derive_array\u001b[0;34m(self, name, fam)\u001b[0m\n\u001b[1;32m   1435\u001b[0m \u001b[38;5;28;01mwith\u001b[39;00m \u001b[38;5;28mself\u001b[39m\u001b[38;5;241m.\u001b[39mauto_propagate_off:\n\u001b[1;32m   1436\u001b[0m     \u001b[38;5;28;01mif\u001b[39;00m fam \u001b[38;5;129;01mis\u001b[39;00m \u001b[38;5;28;01mNone\u001b[39;00m:\n\u001b[0;32m-> 1437\u001b[0m         result \u001b[38;5;241m=\u001b[39m fn(\u001b[38;5;28mself\u001b[39m)\n\u001b[1;32m   1438\u001b[0m         ndim \u001b[38;5;241m=\u001b[39m result\u001b[38;5;241m.\u001b[39mshape[\u001b[38;5;241m-\u001b[39m\u001b[38;5;241m1\u001b[39m] \u001b[38;5;28;01mif\u001b[39;00m \u001b[38;5;28mlen\u001b[39m(\n\u001b[1;32m   1439\u001b[0m             result\u001b[38;5;241m.\u001b[39mshape) \u001b[38;5;241m>\u001b[39m \u001b[38;5;241m1\u001b[39m \u001b[38;5;28;01melse\u001b[39;00m \u001b[38;5;241m1\u001b[39m\n\u001b[1;32m   1440\u001b[0m         \u001b[38;5;28mself\u001b[39m\u001b[38;5;241m.\u001b[39m_create_array(\n\u001b[1;32m   1441\u001b[0m             name, ndim, dtype\u001b[38;5;241m=\u001b[39mresult\u001b[38;5;241m.\u001b[39mdtype, derived\u001b[38;5;241m=\u001b[39m\u001b[38;5;129;01mnot\u001b[39;00m fn\u001b[38;5;241m.\u001b[39m__stable__)\n",
      "File \u001b[0;32m~/miniconda3/envs/shapes/lib/python3.12/site-packages/pynbody/derived.py:326\u001b[0m, in \u001b[0;36mtform\u001b[0;34m(self)\u001b[0m\n\u001b[1;32m    324\u001b[0m \u001b[38;5;250m\u001b[39m\u001b[38;5;124;03m\"\"\"The time of the specified expansion factor in the aform\"\"\"\u001b[39;00m\n\u001b[1;32m    325\u001b[0m \u001b[38;5;28;01mfrom\u001b[39;00m \u001b[38;5;21;01m.\u001b[39;00m \u001b[38;5;28;01mimport\u001b[39;00m analysis\n\u001b[0;32m--> 326\u001b[0m t \u001b[38;5;241m=\u001b[39m analysis\u001b[38;5;241m.\u001b[39mcosmology\u001b[38;5;241m.\u001b[39mage(\u001b[38;5;28mself\u001b[39m, \u001b[38;5;241m1.\u001b[39m\u001b[38;5;241m/\u001b[39m\u001b[38;5;28mself\u001b[39m[\u001b[38;5;124m'\u001b[39m\u001b[38;5;124maform\u001b[39m\u001b[38;5;124m'\u001b[39m] \u001b[38;5;241m-\u001b[39m \u001b[38;5;241m1.\u001b[39m)\n\u001b[1;32m    327\u001b[0m \u001b[38;5;28;01mreturn\u001b[39;00m t\n",
      "File \u001b[0;32m~/miniconda3/envs/shapes/lib/python3.12/site-packages/pynbody/snapshot/simsnap.py:241\u001b[0m, in \u001b[0;36mSimSnap.__getitem__\u001b[0;34m(self, i)\u001b[0m\n\u001b[1;32m    238\u001b[0m \u001b[38;5;28;01mfrom\u001b[39;00m \u001b[38;5;21;01m.\u001b[39;00m \u001b[38;5;28;01mimport\u001b[39;00m subsnap\n\u001b[1;32m    240\u001b[0m \u001b[38;5;28;01mif\u001b[39;00m \u001b[38;5;28misinstance\u001b[39m(i, \u001b[38;5;28mstr\u001b[39m):\n\u001b[0;32m--> 241\u001b[0m     \u001b[38;5;28;01mreturn\u001b[39;00m \u001b[38;5;28mself\u001b[39m\u001b[38;5;241m.\u001b[39m_get_array_with_lazy_actions(i)\n\u001b[1;32m    242\u001b[0m \u001b[38;5;28;01melif\u001b[39;00m \u001b[38;5;28misinstance\u001b[39m(i, \u001b[38;5;28mslice\u001b[39m):\n\u001b[1;32m    243\u001b[0m     \u001b[38;5;28;01mreturn\u001b[39;00m subsnap\u001b[38;5;241m.\u001b[39mSubSnap(\u001b[38;5;28mself\u001b[39m, i)\n",
      "File \u001b[0;32m~/miniconda3/envs/shapes/lib/python3.12/site-packages/pynbody/snapshot/simsnap.py:341\u001b[0m, in \u001b[0;36mSimSnap._get_array_with_lazy_actions\u001b[0;34m(self, name)\u001b[0m\n\u001b[1;32m    339\u001b[0m         \u001b[38;5;28mself\u001b[39m\u001b[38;5;241m.\u001b[39m__load_if_required(name)\n\u001b[1;32m    340\u001b[0m     \u001b[38;5;28;01mif\u001b[39;00m \u001b[38;5;129;01mnot\u001b[39;00m \u001b[38;5;28mself\u001b[39m\u001b[38;5;241m.\u001b[39mlazy_derive_off:\n\u001b[0;32m--> 341\u001b[0m         \u001b[38;5;28mself\u001b[39m\u001b[38;5;241m.\u001b[39m__derive_if_required(name)\n\u001b[1;32m    343\u001b[0m \u001b[38;5;28;01mreturn\u001b[39;00m \u001b[38;5;28mself\u001b[39m\u001b[38;5;241m.\u001b[39m_get_array(name)\n",
      "File \u001b[0;32m~/miniconda3/envs/shapes/lib/python3.12/site-packages/pynbody/snapshot/simsnap.py:356\u001b[0m, in \u001b[0;36mSimSnap.__derive_if_required\u001b[0;34m(self, name)\u001b[0m\n\u001b[1;32m    354\u001b[0m \u001b[38;5;28;01mdef\u001b[39;00m \u001b[38;5;21m__derive_if_required\u001b[39m(\u001b[38;5;28mself\u001b[39m, name):\n\u001b[1;32m    355\u001b[0m     \u001b[38;5;28;01mif\u001b[39;00m name \u001b[38;5;129;01mnot\u001b[39;00m \u001b[38;5;129;01min\u001b[39;00m \u001b[38;5;28mlist\u001b[39m(\u001b[38;5;28mself\u001b[39m\u001b[38;5;241m.\u001b[39mkeys()):\n\u001b[0;32m--> 356\u001b[0m         \u001b[38;5;28mself\u001b[39m\u001b[38;5;241m.\u001b[39m_derive_array(name)\n",
      "File \u001b[0;32m~/miniconda3/envs/shapes/lib/python3.12/site-packages/pynbody/snapshot/simsnap.py:1437\u001b[0m, in \u001b[0;36mSimSnap._derive_array\u001b[0;34m(self, name, fam)\u001b[0m\n\u001b[1;32m   1435\u001b[0m \u001b[38;5;28;01mwith\u001b[39;00m \u001b[38;5;28mself\u001b[39m\u001b[38;5;241m.\u001b[39mauto_propagate_off:\n\u001b[1;32m   1436\u001b[0m     \u001b[38;5;28;01mif\u001b[39;00m fam \u001b[38;5;129;01mis\u001b[39;00m \u001b[38;5;28;01mNone\u001b[39;00m:\n\u001b[0;32m-> 1437\u001b[0m         result \u001b[38;5;241m=\u001b[39m fn(\u001b[38;5;28mself\u001b[39m)\n\u001b[1;32m   1438\u001b[0m         ndim \u001b[38;5;241m=\u001b[39m result\u001b[38;5;241m.\u001b[39mshape[\u001b[38;5;241m-\u001b[39m\u001b[38;5;241m1\u001b[39m] \u001b[38;5;28;01mif\u001b[39;00m \u001b[38;5;28mlen\u001b[39m(\n\u001b[1;32m   1439\u001b[0m             result\u001b[38;5;241m.\u001b[39mshape) \u001b[38;5;241m>\u001b[39m \u001b[38;5;241m1\u001b[39m \u001b[38;5;28;01melse\u001b[39;00m \u001b[38;5;241m1\u001b[39m\n\u001b[1;32m   1440\u001b[0m         \u001b[38;5;28mself\u001b[39m\u001b[38;5;241m.\u001b[39m_create_array(\n\u001b[1;32m   1441\u001b[0m             name, ndim, dtype\u001b[38;5;241m=\u001b[39mresult\u001b[38;5;241m.\u001b[39mdtype, derived\u001b[38;5;241m=\u001b[39m\u001b[38;5;129;01mnot\u001b[39;00m fn\u001b[38;5;241m.\u001b[39m__stable__)\n",
      "File \u001b[0;32m~/miniconda3/envs/shapes/lib/python3.12/site-packages/pynbody/derived.py:318\u001b[0m, in \u001b[0;36maform\u001b[0;34m(self)\u001b[0m\n\u001b[1;32m    315\u001b[0m \u001b[38;5;250m\u001b[39m\u001b[38;5;124;03m\"\"\"The expansion factor at the time specified by the tform array.\"\"\"\u001b[39;00m\n\u001b[1;32m    317\u001b[0m \u001b[38;5;28;01mfrom\u001b[39;00m \u001b[38;5;21;01m.\u001b[39;00m \u001b[38;5;28;01mimport\u001b[39;00m analysis\n\u001b[0;32m--> 318\u001b[0m z \u001b[38;5;241m=\u001b[39m analysis\u001b[38;5;241m.\u001b[39mcosmology\u001b[38;5;241m.\u001b[39mredshift(\u001b[38;5;28mself\u001b[39m, \u001b[38;5;28mself\u001b[39m[\u001b[38;5;124m'\u001b[39m\u001b[38;5;124mtform\u001b[39m\u001b[38;5;124m'\u001b[39m])\n\u001b[1;32m    319\u001b[0m a \u001b[38;5;241m=\u001b[39m \u001b[38;5;241m1.\u001b[39m \u001b[38;5;241m/\u001b[39m (\u001b[38;5;241m1.\u001b[39m \u001b[38;5;241m+\u001b[39m z)\n\u001b[1;32m    320\u001b[0m \u001b[38;5;28;01mreturn\u001b[39;00m a\n",
      "File \u001b[0;32m~/miniconda3/envs/shapes/lib/python3.12/site-packages/pynbody/snapshot/simsnap.py:241\u001b[0m, in \u001b[0;36mSimSnap.__getitem__\u001b[0;34m(self, i)\u001b[0m\n\u001b[1;32m    238\u001b[0m \u001b[38;5;28;01mfrom\u001b[39;00m \u001b[38;5;21;01m.\u001b[39;00m \u001b[38;5;28;01mimport\u001b[39;00m subsnap\n\u001b[1;32m    240\u001b[0m \u001b[38;5;28;01mif\u001b[39;00m \u001b[38;5;28misinstance\u001b[39m(i, \u001b[38;5;28mstr\u001b[39m):\n\u001b[0;32m--> 241\u001b[0m     \u001b[38;5;28;01mreturn\u001b[39;00m \u001b[38;5;28mself\u001b[39m\u001b[38;5;241m.\u001b[39m_get_array_with_lazy_actions(i)\n\u001b[1;32m    242\u001b[0m \u001b[38;5;28;01melif\u001b[39;00m \u001b[38;5;28misinstance\u001b[39m(i, \u001b[38;5;28mslice\u001b[39m):\n\u001b[1;32m    243\u001b[0m     \u001b[38;5;28;01mreturn\u001b[39;00m subsnap\u001b[38;5;241m.\u001b[39mSubSnap(\u001b[38;5;28mself\u001b[39m, i)\n",
      "File \u001b[0;32m~/miniconda3/envs/shapes/lib/python3.12/site-packages/pynbody/snapshot/simsnap.py:334\u001b[0m, in \u001b[0;36mSimSnap._get_array_with_lazy_actions\u001b[0;34m(self, name)\u001b[0m\n\u001b[1;32m    330\u001b[0m         \u001b[38;5;28mself\u001b[39m\u001b[38;5;241m.\u001b[39m_dependency_tracker\u001b[38;5;241m.\u001b[39mtouching(nd_name)\n\u001b[1;32m    332\u001b[0m     \u001b[38;5;28;01mreturn\u001b[39;00m \u001b[38;5;28mself\u001b[39m\u001b[38;5;241m.\u001b[39m_get_array(name)\n\u001b[0;32m--> 334\u001b[0m \u001b[38;5;28;01mwith\u001b[39;00m \u001b[38;5;28mself\u001b[39m\u001b[38;5;241m.\u001b[39m_dependency_tracker\u001b[38;5;241m.\u001b[39mcalculating(name):\n\u001b[1;32m    335\u001b[0m     \u001b[38;5;28mself\u001b[39m\u001b[38;5;241m.\u001b[39m__resolve_obscuring_family_array(name)\n\u001b[1;32m    337\u001b[0m     \u001b[38;5;28;01mif\u001b[39;00m \u001b[38;5;129;01mnot\u001b[39;00m \u001b[38;5;28mself\u001b[39m\u001b[38;5;241m.\u001b[39mlazy_off:\n",
      "File \u001b[0;32m~/miniconda3/envs/shapes/lib/python3.12/site-packages/pynbody/dependencytracker.py:16\u001b[0m, in \u001b[0;36mDependencyContext.__enter__\u001b[0;34m(self)\u001b[0m\n\u001b[1;32m     14\u001b[0m \u001b[38;5;28;01mif\u001b[39;00m \u001b[38;5;28mself\u001b[39m\u001b[38;5;241m.\u001b[39mname \u001b[38;5;129;01min\u001b[39;00m \u001b[38;5;28mself\u001b[39m\u001b[38;5;241m.\u001b[39mtracker\u001b[38;5;241m.\u001b[39m_current_calculation_stack:\n\u001b[1;32m     15\u001b[0m     \u001b[38;5;28mself\u001b[39m\u001b[38;5;241m.\u001b[39mtracker\u001b[38;5;241m.\u001b[39m_calculation_lock\u001b[38;5;241m.\u001b[39m\u001b[38;5;21m__exit__\u001b[39m(\u001b[38;5;28;01mNone\u001b[39;00m, \u001b[38;5;28;01mNone\u001b[39;00m, \u001b[38;5;28;01mNone\u001b[39;00m)\n\u001b[0;32m---> 16\u001b[0m     \u001b[38;5;28;01mraise\u001b[39;00m DependencyError(\u001b[38;5;124m\"\u001b[39m\u001b[38;5;124mCircular dependency\u001b[39m\u001b[38;5;124m\"\u001b[39m)\n\u001b[1;32m     17\u001b[0m \u001b[38;5;28mself\u001b[39m\u001b[38;5;241m.\u001b[39mtracker\u001b[38;5;241m.\u001b[39m_push(\u001b[38;5;28mself\u001b[39m\u001b[38;5;241m.\u001b[39mname)\n",
      "\u001b[0;31mDependencyError\u001b[0m: Circular dependency"
     ]
    }
   ],
   "source": [
    "for halo in halo0, halo1:\n",
    "    print(halo['massform'])\n",
    "    print(halo['tform'])"
   ]
  },
  {
   "cell_type": "code",
   "execution_count": 41,
   "id": "2c2165e9a4b9b82a",
   "metadata": {
    "ExecuteTime": {
     "end_time": "2024-11-04T21:04:46.648946700Z",
     "start_time": "2024-11-04T20:49:41.171790Z"
    }
   },
   "outputs": [
    {
     "name": "stdout",
     "output_type": "stream",
     "text": [
      "amiga.grp\n"
     ]
    }
   ],
   "source": [
    "for key in halo0.keys():\n",
    "    print(key)"
   ]
  },
  {
   "cell_type": "code",
   "execution_count": 38,
   "id": "2d00a72507b1214e",
   "metadata": {
    "ExecuteTime": {
     "end_time": "2024-11-04T21:04:46.648946700Z",
     "start_time": "2024-11-04T20:48:10.283747Z"
    }
   },
   "outputs": [
    {
     "name": "stdout",
     "output_type": "stream",
     "text": [
      "amiga.grp\n",
      "pos\n",
      "x\n",
      "y\n",
      "z\n",
      "vel\n",
      "vx\n",
      "vy\n",
      "vz\n",
      "mass\n",
      "eps\n",
      "phi\n"
     ]
    }
   ],
   "source": [
    "\n",
    "for key in halo1.keys():\n",
    "    print(key)"
   ]
  },
  {
   "cell_type": "code",
   "execution_count": null,
   "id": "731d0899a5ad557e",
   "metadata": {},
   "outputs": [],
   "source": []
  }
 ],
 "metadata": {
  "kernelspec": {
   "display_name": "Python 3",
   "language": "python",
   "name": "python3"
  },
  "language_info": {
   "codemirror_mode": {
    "name": "ipython",
    "version": 2
   },
   "file_extension": ".py",
   "mimetype": "text/x-python",
   "name": "python",
   "nbconvert_exporter": "python",
   "pygments_lexer": "ipython2",
   "version": "2.7.6"
  }
 },
 "nbformat": 4,
 "nbformat_minor": 5
}
