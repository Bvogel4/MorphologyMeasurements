{
 "cells": [
  {
   "cell_type": "code",
   "execution_count": 24,
   "id": "initial_id",
   "metadata": {
    "ExecuteTime": {
     "end_time": "2024-06-17T20:34:02.991262Z",
     "start_time": "2024-06-17T20:34:02.957849Z"
    },
    "collapsed": true
   },
   "outputs": [
    {
     "name": "stdout",
     "output_type": "stream",
     "text": [
      "{'BW': False, 'SB': False, 'RDZ': True, 'AK': False, 'AB': False, 'SIM': True}\n",
      "B\n",
      "S\n"
     ]
    },
    {
     "ename": "ValueError",
     "evalue": "too many values to unpack (expected 2)",
     "output_type": "error",
     "traceback": [
      "\u001b[0;31m---------------------------------------------------------------------------\u001b[0m",
      "\u001b[0;31mValueError\u001b[0m                                Traceback (most recent call last)",
      "Cell \u001b[0;32mIn[24], line 3\u001b[0m\n\u001b[1;32m      1\u001b[0m \u001b[38;5;28;01mfrom\u001b[39;00m \u001b[38;5;21;01mConfig_dir\u001b[39;00m \u001b[38;5;28;01mimport\u001b[39;00m sim_type_name\n\u001b[1;32m      2\u001b[0m \u001b[38;5;28mprint\u001b[39m(sim_type_name)\n\u001b[0;32m----> 3\u001b[0m \u001b[38;5;28;01mfor\u001b[39;00m feedback, use_sim \u001b[38;5;129;01min\u001b[39;00m sim_type_name:\n\u001b[1;32m      4\u001b[0m     \u001b[38;5;66;03m#if use_sim:\u001b[39;00m\n\u001b[1;32m      5\u001b[0m     \u001b[38;5;28mprint\u001b[39m(feedback)\n",
      "\u001b[0;31mValueError\u001b[0m: too many values to unpack (expected 2)"
     ]
    }
   ],
   "source": [
    "from SimInfoDicts.sim_type_name import sim_type_name\n",
    "print(sim_type_name)\n",
    "for feedback, use_sim in sim_type_name.items():\n",
    "    if use_sim:\n",
    "        print(feedback)"
   ]
  },
  {
   "cell_type": "code",
   "execution_count": 26,
   "id": "b046b8ef490cd73e",
   "metadata": {
    "ExecuteTime": {
     "end_time": "2024-06-18T22:31:15.050508Z",
     "start_time": "2024-06-18T22:31:15.039945Z"
    }
   },
   "outputs": [
    {
     "name": "stdout",
     "output_type": "stream",
     "text": [
      "MerianCDM\n"
     ]
    }
   ],
   "source": [
    "#feedback might look someting like MerianCDM or MerianSIDM\n",
    "feedback = 'MerianCDM'\n",
    "key = 'Merian'\n",
    "if key in feedback:\n",
    "   print(feedback)"
   ]
  },
  {
   "cell_type": "code",
   "execution_count": 28,
   "id": "cf7eb4d6663f71ec",
   "metadata": {
    "ExecuteTime": {
     "end_time": "2024-06-20T15:58:56.067974Z",
     "start_time": "2024-06-20T15:58:56.061771Z"
    }
   },
   "outputs": [
    {
     "name": "stdout",
     "output_type": "stream",
     "text": [
      "dict_keys(['r431', 'r442', 'r468', 'r488', 'r492', 'r502', 'r515', 'r523', 'r544', 'r552', 'r555', 'r556', 'r563', 'r568', 'r569', 'r571', 'r597', 'r613', 'r614', 'r615', 'r618', 'r634', 'r642', 'r656', 'r716', 'r718', 'r761', 'r850', 'r852', 'r886', 'r916', 'r918', 'r977'])\n"
     ]
    }
   ],
   "source": [
    "#test load pickle files\n",
    "import pickle\n",
    "feedback = 'MerianCDM'\n",
    "#write looks like this\n",
    "#with open(f\"../Data/BasicData/Masses.{feedback}.pickle\", 'wb') as f:\n",
    "#    pickle.dump(all_sim_masses, f)\n",
    "\n",
    "#read looks like this\n",
    "with open(f\"../Data/BasicData/Masses.{feedback}.pickle\", 'rb') as f:\n",
    "    all_sim_masses = pickle.load(f)\n",
    "    \n",
    "with open('../../Data/BasicData/MerianCDM.Masses.pickle', 'rb') as f:\n",
    "    all_sim_masses = pickle.load(f)\n",
    "    \n",
    "print(all_sim_masses.keys())\n"
   ]
  },
  {
   "cell_type": "code",
   "execution_count": 27,
   "id": "32269c6d0204698e",
   "metadata": {
    "ExecuteTime": {
     "end_time": "2024-06-21T19:30:45.752445Z",
     "start_time": "2024-06-21T19:30:45.746323Z"
    }
   },
   "outputs": [],
   "source": [
    "feedback_type = ['MerianCDM', 'MerianSIDM', 'BW']"
   ]
  },
  {
   "cell_type": "code",
   "execution_count": 30,
   "id": "fc5b8792af6b4beb",
   "metadata": {
    "ExecuteTime": {
     "end_time": "2024-06-21T19:31:54.535578Z",
     "start_time": "2024-06-21T19:31:54.528444Z"
    }
   },
   "outputs": [],
   "source": [
    "#color should be \n",
    "#color = ['r', 'r', 'b']\n",
    "\n",
    "color = ['r' if feedback == 'MerianCDM' else 'b' for feedback in feedback_type]\n"
   ]
  },
  {
   "cell_type": "code",
   "execution_count": 31,
   "id": "70c07d69555f9c77",
   "metadata": {
    "ExecuteTime": {
     "end_time": "2024-06-21T19:31:55.000778Z",
     "start_time": "2024-06-21T19:31:54.994299Z"
    }
   },
   "outputs": [
    {
     "name": "stdout",
     "output_type": "stream",
     "text": [
      "['r', 'b', 'b']\n"
     ]
    }
   ],
   "source": [
    "print(color)"
   ]
  },
  {
   "cell_type": "code",
   "execution_count": null,
   "id": "f80d9e74e6aac409",
   "metadata": {},
   "outputs": [],
   "source": []
  }
 ],
 "metadata": {
  "kernelspec": {
   "display_name": "Python 3",
   "language": "python",
   "name": "python3"
  },
  "language_info": {
   "codemirror_mode": {
    "name": "ipython",
    "version": 2
   },
   "file_extension": ".py",
   "mimetype": "text/x-python",
   "name": "python",
   "nbconvert_exporter": "python",
   "pygments_lexer": "ipython2",
   "version": "2.7.6"
  }
 },
 "nbformat": 4,
 "nbformat_minor": 5
}
