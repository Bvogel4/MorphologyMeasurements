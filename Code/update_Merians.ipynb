{
 "cells": [
  {
   "cell_type": "code",
   "execution_count": 65,
   "id": "97de6d08bd498da0",
   "metadata": {
    "ExecuteTime": {
     "end_time": "2024-06-12T20:10:35.169963Z",
     "start_time": "2024-06-12T20:10:34.552135Z"
    }
   },
   "outputs": [
    {
     "name": "stdout",
     "output_type": "stream",
     "text": [
      "r716\n",
      "r718\n",
      "r761\n",
      "r850\n",
      "r852\n",
      "r916\n",
      "r977\n",
      "r431\n",
      "r442\n",
      "r468\n",
      "r488\n",
      "r492\n",
      "r502\n",
      "r515\n",
      "r523\n",
      "r544\n",
      "r552\n",
      "r555\n",
      "r556\n",
      "r563\n",
      "r568\n",
      "r569\n",
      "r571\n",
      "r597\n",
      "r613\n",
      "r614\n",
      "r615\n",
      "r618\n",
      "r634\n",
      "r642\n",
      "r656\n",
      "r886\n",
      "r918\n",
      "r1023\n",
      "scanning complete, saving dictionary to file rdz_sims.py\n"
     ]
    }
   ],
   "source": [
    "Marvelous_merians_path = '/data/REPOSITORY/romulus_zooms/'\n",
    "\n",
    "#scan through all subfolders in the Marvelous_merians_path and add them to the dictionary with just halo 1 in the both halos and goodhalos\n",
    "#save the resulting dictionary to a file rdz_sims.py\n",
    "#limit the files to ones that end in 004096\n",
    "#write function to scan through the files and add them to the dictionary\n",
    "import os\n",
    "import re\n",
    "import numpy as np\n",
    "import sys\n",
    "def scan_files(path):\n",
    "    Sims = {}\n",
    "    for root, dirs, files in os.walk(path):\n",
    "        for filename in files:\n",
    "            full_path = os.path.join(root, filename)\n",
    "            match = re.search(r'(r\\d+\\.romulus25\\.3072g1HsbBH\\.004096/)+r\\d+\\.romulus25\\.3072g1HsbBH\\.004096$', full_path)\n",
    "            if match:\n",
    "                name = re.search(r'r\\d+', filename).group()\n",
    "                print(name)\n",
    "                Sims[name] = {\n",
    "                    'path': full_path,\n",
    "                    'halos': [1],\n",
    "                    'goodhalos': [1]\n",
    "                }\n",
    "    return Sims\n",
    "\n",
    "\n",
    "\n",
    "Sims = scan_files(Marvelous_merians_path)\n",
    "#sort the dictionary by the number after \n",
    "Sims = dict(sorted(Sims.items(), key=lambda item: int(item[0][1:])))\n",
    "\n",
    "\n",
    "\n",
    "\n",
    "\n",
    "\n",
    "print('scanning complete, saving dictionary to file rdz_sims.py')\n",
    "#save the dictionary to a file  as a raw python dictionary\n",
    "#add line breaks between the dictionary entries and subentries\n",
    "\n",
    "#overwrite the file if it exists\n",
    "\n",
    "\n",
    "\n",
    "with open('rdz_sims.py', 'w') as f: \n",
    "    f.write('Sims = {\\n')\n",
    "    for key, value in Sims.items():\n",
    "        f.write(f'    \"{key}\": {value},\\n')\n",
    "    f.write('}\\n')\n",
    "    \n",
    "    \n",
    "    \n"
   ]
  },
  {
   "cell_type": "code",
   "execution_count": null,
   "id": "de5926812419096d",
   "metadata": {},
   "outputs": [],
   "source": [
    "\n"
   ]
  }
 ],
 "metadata": {
  "kernelspec": {
   "display_name": "Python 3",
   "language": "python",
   "name": "python3"
  },
  "language_info": {
   "codemirror_mode": {
    "name": "ipython",
    "version": 2
   },
   "file_extension": ".py",
   "mimetype": "text/x-python",
   "name": "python",
   "nbconvert_exporter": "python",
   "pygments_lexer": "ipython2",
   "version": "2.7.6"
  }
 },
 "nbformat": 4,
 "nbformat_minor": 5
}
