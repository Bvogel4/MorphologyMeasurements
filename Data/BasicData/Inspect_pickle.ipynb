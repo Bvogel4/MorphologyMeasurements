{
 "cells": [
  {
   "cell_type": "code",
   "execution_count": 21,
   "id": "cee73d2a-d455-4fa8-8649-d509c180cd2f",
   "metadata": {},
   "outputs": [],
   "source": [
    "import pickle\n",
    "\n",
    "# Recursive function to print keys from a dictionary, including nested dictionaries\n",
    "def print_keys(data, prefix=''):\n",
    "    for key, value in data.items():\n",
    "        # Construct the full key path\n",
    "        current_key = f\"{prefix}.{key}\" if prefix else key\n",
    "        print(current_key)\n",
    "        \n",
    "        # If the value is another dictionary, recurse into it\n",
    "        if isinstance(value, dict):\n",
    "            print_keys(value, prefix=current_key)\n",
    "\n",
    "# Function to load the pickle file and process its keys\n",
    "def read_pickle_keys(filename):\n",
    "    try:\n",
    "        # Opening the pickle file in binary read mode\n",
    "        with open(filename, 'rb') as file:\n",
    "            # Loading the contents of the pickle file\n",
    "            data = pickle.load(file)\n",
    "            print(data['r431'])\n",
    "            \n",
    "            # Checking if the loaded data is a dictionary\n",
    "            if isinstance(data, dict):\n",
    "                print(\"Keys in the pickle file:\")\n",
    "                print_keys(data)\n",
    "            else:\n",
    "                print(\"The loaded data is not a dictionary.\")\n",
    "    except FileNotFoundError:\n",
    "        print(\"File not found. Please check the file name and path.\")\n",
    "    except Exception as e:\n",
    "        print(f\"An error occurred: {e}\")"
   ]
  },
  {
   "cell_type": "code",
   "execution_count": 22,
   "id": "0a992b4c-fc8b-4b95-a6fb-963fbdeb1340",
   "metadata": {},
   "outputs": [
    {
     "ename": "SyntaxError",
     "evalue": "invalid syntax (2554846646.py, line 2)",
     "output_type": "error",
     "traceback": [
      "\u001b[0;36m  Cell \u001b[0;32mIn[22], line 2\u001b[0;36m\u001b[0m\n\u001b[0;31m    filename = 'Marvel_DCJL.Masses.pickle'v\u001b[0m\n\u001b[0m                                          ^\u001b[0m\n\u001b[0;31mSyntaxError\u001b[0m\u001b[0;31m:\u001b[0m invalid syntax\n"
     ]
    }
   ],
   "source": [
    "# Path to the pickle file\n",
    "filename = 'Marvel_DCJL.Masses.pickle'\n",
    "\n",
    "# Calling the function with the path to the pickle file\n",
    "read_pickle_keys(filename)"
   ]
  },
  {
   "cell_type": "code",
   "execution_count": 24,
   "id": "033bb8fb-2935-448c-8d35-950cd0be5b76",
   "metadata": {},
   "outputs": [
    {
     "name": "stdout",
     "output_type": "stream",
     "text": [
      "{'path': '/data/REPOSITORY/romulus_zooms/r431.romulus25.3072g1HsbBH/r431.romulus25.3072g1HsbBH.004096/r431.romulus25.3072g1HsbBH.004096', 'halos': [1, 14, 16, 34, 137], 'goodhalos': [1, 16, 137]}\n",
      "Keys in the pickle file:\n",
      "r431\n",
      "r431.path\n",
      "r431.halos\n",
      "r431.goodhalos\n",
      "r442\n",
      "r442.path\n",
      "r442.halos\n",
      "r442.goodhalos\n",
      "r468\n",
      "r468.path\n",
      "r468.halos\n",
      "r468.goodhalos\n",
      "r492\n",
      "r492.path\n",
      "r492.halos\n",
      "r492.goodhalos\n",
      "r502\n",
      "r502.path\n",
      "r502.halos\n",
      "r502.goodhalos\n",
      "r515\n",
      "r515.path\n",
      "r515.halos\n",
      "r515.goodhalos\n",
      "r523\n",
      "r523.path\n",
      "r523.halos\n",
      "r523.goodhalos\n",
      "r556\n",
      "r556.path\n",
      "r556.halos\n",
      "r556.goodhalos\n",
      "r568\n",
      "r568.path\n",
      "r568.halos\n",
      "r568.goodhalos\n",
      "r569\n",
      "r569.path\n",
      "r569.halos\n",
      "r569.goodhalos\n",
      "r571\n",
      "r571.path\n",
      "r571.halos\n",
      "r571.goodhalos\n",
      "r597\n",
      "r597.path\n",
      "r597.halos\n",
      "r597.goodhalos\n",
      "r613\n",
      "r613.path\n",
      "r613.halos\n",
      "r613.goodhalos\n",
      "r615\n",
      "r615.path\n",
      "r615.halos\n",
      "r615.goodhalos\n",
      "r618\n",
      "r618.path\n",
      "r618.halos\n",
      "r618.goodhalos\n",
      "r634\n",
      "r634.path\n",
      "r634.halos\n",
      "r634.goodhalos\n"
     ]
    }
   ],
   "source": [
    "\n",
    "# Path to the pickle file\n",
    "filename = '../r634.RDZ.3DShapes.pickle'\n",
    "filename = '../r634.RDZ.Images.pickle'\n",
    "filename = '../r634.RDZ.Profiles.pickle'\n",
    "filename = '../r634.RDZ.ProjectedData.pickle'\n",
    "filename = '../r634.RDZ.SCFData.pickle'\n",
    "filename = '../r634.RDZ.ShapeData.pickle'\n",
    "\n",
    "filename = '../../Code/SimulationInfo.RDZ.pickle'\n",
    "\n",
    "\n",
    "\n",
    "# Calling the function with the path to the pickle file\n",
    "read_pickle_keys(filename)"
   ]
  },
  {
   "cell_type": "code",
   "execution_count": null,
   "id": "89e8a79a-9849-4b13-b03a-3fcfccf625c4",
   "metadata": {},
   "outputs": [],
   "source": []
  }
 ],
 "metadata": {
  "kernelspec": {
   "display_name": "Python 3 (ipykernel)",
   "language": "python",
   "name": "python3"
  },
  "language_info": {
   "codemirror_mode": {
    "name": "ipython",
    "version": 3
   },
   "file_extension": ".py",
   "mimetype": "text/x-python",
   "name": "python",
   "nbconvert_exporter": "python",
   "pygments_lexer": "ipython3",
   "version": "3.9.18"
  }
 },
 "nbformat": 4,
 "nbformat_minor": 5
}
